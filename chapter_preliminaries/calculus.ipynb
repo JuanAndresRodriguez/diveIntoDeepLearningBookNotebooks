{
  "cells": [
    {
      "cell_type": "markdown",
      "id": "dd9d27db",
      "metadata": {
        "id": "dd9d27db"
      },
      "source": [
        "The following additional libraries are needed to run this\n",
        "notebook. Note that running on Colab is experimental, please report a Github\n",
        "issue if you have any problem."
      ]
    },
    {
      "cell_type": "code",
      "execution_count": 1,
      "id": "fb87274e",
      "metadata": {
        "id": "fb87274e",
        "outputId": "756853f7-586c-4fda-ea52-8155ef24f6da",
        "colab": {
          "base_uri": "https://localhost:8080/",
          "height": 1000
        }
      },
      "outputs": [
        {
          "output_type": "stream",
          "name": "stdout",
          "text": [
            "Collecting d2l==1.0.3\n",
            "  Downloading d2l-1.0.3-py3-none-any.whl (111 kB)\n",
            "\u001b[2K     \u001b[90m━━━━━━━━━━━━━━━━━━━━━━━━━━━━━━━━━━━━━━━━\u001b[0m \u001b[32m111.7/111.7 kB\u001b[0m \u001b[31m1.9 MB/s\u001b[0m eta \u001b[36m0:00:00\u001b[0m\n",
            "\u001b[?25hCollecting jupyter==1.0.0 (from d2l==1.0.3)\n",
            "  Downloading jupyter-1.0.0-py2.py3-none-any.whl (2.7 kB)\n",
            "Collecting numpy==1.23.5 (from d2l==1.0.3)\n",
            "  Downloading numpy-1.23.5-cp310-cp310-manylinux_2_17_x86_64.manylinux2014_x86_64.whl (17.1 MB)\n",
            "\u001b[2K     \u001b[90m━━━━━━━━━━━━━━━━━━━━━━━━━━━━━━━━━━━━━━━━\u001b[0m \u001b[32m17.1/17.1 MB\u001b[0m \u001b[31m45.0 MB/s\u001b[0m eta \u001b[36m0:00:00\u001b[0m\n",
            "\u001b[?25hCollecting matplotlib==3.7.2 (from d2l==1.0.3)\n",
            "  Downloading matplotlib-3.7.2-cp310-cp310-manylinux_2_17_x86_64.manylinux2014_x86_64.whl (11.6 MB)\n",
            "\u001b[2K     \u001b[90m━━━━━━━━━━━━━━━━━━━━━━━━━━━━━━━━━━━━━━━━\u001b[0m \u001b[32m11.6/11.6 MB\u001b[0m \u001b[31m64.5 MB/s\u001b[0m eta \u001b[36m0:00:00\u001b[0m\n",
            "\u001b[?25hCollecting matplotlib-inline==0.1.6 (from d2l==1.0.3)\n",
            "  Downloading matplotlib_inline-0.1.6-py3-none-any.whl (9.4 kB)\n",
            "Requirement already satisfied: requests==2.31.0 in /usr/local/lib/python3.10/dist-packages (from d2l==1.0.3) (2.31.0)\n",
            "Requirement already satisfied: pandas==2.0.3 in /usr/local/lib/python3.10/dist-packages (from d2l==1.0.3) (2.0.3)\n",
            "Collecting scipy==1.10.1 (from d2l==1.0.3)\n",
            "  Downloading scipy-1.10.1-cp310-cp310-manylinux_2_17_x86_64.manylinux2014_x86_64.whl (34.4 MB)\n",
            "\u001b[2K     \u001b[90m━━━━━━━━━━━━━━━━━━━━━━━━━━━━━━━━━━━━━━━━\u001b[0m \u001b[32m34.4/34.4 MB\u001b[0m \u001b[31m13.9 MB/s\u001b[0m eta \u001b[36m0:00:00\u001b[0m\n",
            "\u001b[?25hRequirement already satisfied: notebook in /usr/local/lib/python3.10/dist-packages (from jupyter==1.0.0->d2l==1.0.3) (6.5.5)\n",
            "Collecting qtconsole (from jupyter==1.0.0->d2l==1.0.3)\n",
            "  Downloading qtconsole-5.5.1-py3-none-any.whl (123 kB)\n",
            "\u001b[2K     \u001b[90m━━━━━━━━━━━━━━━━━━━━━━━━━━━━━━━━━━━━━━━━\u001b[0m \u001b[32m123.4/123.4 kB\u001b[0m \u001b[31m3.5 MB/s\u001b[0m eta \u001b[36m0:00:00\u001b[0m\n",
            "\u001b[?25hRequirement already satisfied: jupyter-console in /usr/local/lib/python3.10/dist-packages (from jupyter==1.0.0->d2l==1.0.3) (6.1.0)\n",
            "Requirement already satisfied: nbconvert in /usr/local/lib/python3.10/dist-packages (from jupyter==1.0.0->d2l==1.0.3) (6.5.4)\n",
            "Requirement already satisfied: ipykernel in /usr/local/lib/python3.10/dist-packages (from jupyter==1.0.0->d2l==1.0.3) (5.5.6)\n",
            "Requirement already satisfied: ipywidgets in /usr/local/lib/python3.10/dist-packages (from jupyter==1.0.0->d2l==1.0.3) (7.7.1)\n",
            "Requirement already satisfied: contourpy>=1.0.1 in /usr/local/lib/python3.10/dist-packages (from matplotlib==3.7.2->d2l==1.0.3) (1.2.1)\n",
            "Requirement already satisfied: cycler>=0.10 in /usr/local/lib/python3.10/dist-packages (from matplotlib==3.7.2->d2l==1.0.3) (0.12.1)\n",
            "Requirement already satisfied: fonttools>=4.22.0 in /usr/local/lib/python3.10/dist-packages (from matplotlib==3.7.2->d2l==1.0.3) (4.51.0)\n",
            "Requirement already satisfied: kiwisolver>=1.0.1 in /usr/local/lib/python3.10/dist-packages (from matplotlib==3.7.2->d2l==1.0.3) (1.4.5)\n",
            "Requirement already satisfied: packaging>=20.0 in /usr/local/lib/python3.10/dist-packages (from matplotlib==3.7.2->d2l==1.0.3) (24.0)\n",
            "Requirement already satisfied: pillow>=6.2.0 in /usr/local/lib/python3.10/dist-packages (from matplotlib==3.7.2->d2l==1.0.3) (9.4.0)\n",
            "Collecting pyparsing<3.1,>=2.3.1 (from matplotlib==3.7.2->d2l==1.0.3)\n",
            "  Downloading pyparsing-3.0.9-py3-none-any.whl (98 kB)\n",
            "\u001b[2K     \u001b[90m━━━━━━━━━━━━━━━━━━━━━━━━━━━━━━━━━━━━━━━━\u001b[0m \u001b[32m98.3/98.3 kB\u001b[0m \u001b[31m5.4 MB/s\u001b[0m eta \u001b[36m0:00:00\u001b[0m\n",
            "\u001b[?25hRequirement already satisfied: python-dateutil>=2.7 in /usr/local/lib/python3.10/dist-packages (from matplotlib==3.7.2->d2l==1.0.3) (2.8.2)\n",
            "Requirement already satisfied: traitlets in /usr/local/lib/python3.10/dist-packages (from matplotlib-inline==0.1.6->d2l==1.0.3) (5.7.1)\n",
            "Requirement already satisfied: pytz>=2020.1 in /usr/local/lib/python3.10/dist-packages (from pandas==2.0.3->d2l==1.0.3) (2023.4)\n",
            "Requirement already satisfied: tzdata>=2022.1 in /usr/local/lib/python3.10/dist-packages (from pandas==2.0.3->d2l==1.0.3) (2024.1)\n",
            "Requirement already satisfied: charset-normalizer<4,>=2 in /usr/local/lib/python3.10/dist-packages (from requests==2.31.0->d2l==1.0.3) (3.3.2)\n",
            "Requirement already satisfied: idna<4,>=2.5 in /usr/local/lib/python3.10/dist-packages (from requests==2.31.0->d2l==1.0.3) (3.7)\n",
            "Requirement already satisfied: urllib3<3,>=1.21.1 in /usr/local/lib/python3.10/dist-packages (from requests==2.31.0->d2l==1.0.3) (2.0.7)\n",
            "Requirement already satisfied: certifi>=2017.4.17 in /usr/local/lib/python3.10/dist-packages (from requests==2.31.0->d2l==1.0.3) (2024.2.2)\n",
            "Requirement already satisfied: six>=1.5 in /usr/local/lib/python3.10/dist-packages (from python-dateutil>=2.7->matplotlib==3.7.2->d2l==1.0.3) (1.16.0)\n",
            "Requirement already satisfied: ipython-genutils in /usr/local/lib/python3.10/dist-packages (from ipykernel->jupyter==1.0.0->d2l==1.0.3) (0.2.0)\n",
            "Requirement already satisfied: ipython>=5.0.0 in /usr/local/lib/python3.10/dist-packages (from ipykernel->jupyter==1.0.0->d2l==1.0.3) (7.34.0)\n",
            "Requirement already satisfied: jupyter-client in /usr/local/lib/python3.10/dist-packages (from ipykernel->jupyter==1.0.0->d2l==1.0.3) (6.1.12)\n",
            "Requirement already satisfied: tornado>=4.2 in /usr/local/lib/python3.10/dist-packages (from ipykernel->jupyter==1.0.0->d2l==1.0.3) (6.3.3)\n",
            "Requirement already satisfied: widgetsnbextension~=3.6.0 in /usr/local/lib/python3.10/dist-packages (from ipywidgets->jupyter==1.0.0->d2l==1.0.3) (3.6.6)\n",
            "Requirement already satisfied: jupyterlab-widgets>=1.0.0 in /usr/local/lib/python3.10/dist-packages (from ipywidgets->jupyter==1.0.0->d2l==1.0.3) (3.0.10)\n",
            "Requirement already satisfied: prompt-toolkit!=3.0.0,!=3.0.1,<3.1.0,>=2.0.0 in /usr/local/lib/python3.10/dist-packages (from jupyter-console->jupyter==1.0.0->d2l==1.0.3) (3.0.43)\n",
            "Requirement already satisfied: pygments in /usr/local/lib/python3.10/dist-packages (from jupyter-console->jupyter==1.0.0->d2l==1.0.3) (2.16.1)\n",
            "Requirement already satisfied: lxml in /usr/local/lib/python3.10/dist-packages (from nbconvert->jupyter==1.0.0->d2l==1.0.3) (4.9.4)\n",
            "Requirement already satisfied: beautifulsoup4 in /usr/local/lib/python3.10/dist-packages (from nbconvert->jupyter==1.0.0->d2l==1.0.3) (4.12.3)\n",
            "Requirement already satisfied: bleach in /usr/local/lib/python3.10/dist-packages (from nbconvert->jupyter==1.0.0->d2l==1.0.3) (6.1.0)\n",
            "Requirement already satisfied: defusedxml in /usr/local/lib/python3.10/dist-packages (from nbconvert->jupyter==1.0.0->d2l==1.0.3) (0.7.1)\n",
            "Requirement already satisfied: entrypoints>=0.2.2 in /usr/local/lib/python3.10/dist-packages (from nbconvert->jupyter==1.0.0->d2l==1.0.3) (0.4)\n",
            "Requirement already satisfied: jinja2>=3.0 in /usr/local/lib/python3.10/dist-packages (from nbconvert->jupyter==1.0.0->d2l==1.0.3) (3.1.3)\n",
            "Requirement already satisfied: jupyter-core>=4.7 in /usr/local/lib/python3.10/dist-packages (from nbconvert->jupyter==1.0.0->d2l==1.0.3) (5.7.2)\n",
            "Requirement already satisfied: jupyterlab-pygments in /usr/local/lib/python3.10/dist-packages (from nbconvert->jupyter==1.0.0->d2l==1.0.3) (0.3.0)\n",
            "Requirement already satisfied: MarkupSafe>=2.0 in /usr/local/lib/python3.10/dist-packages (from nbconvert->jupyter==1.0.0->d2l==1.0.3) (2.1.5)\n",
            "Requirement already satisfied: mistune<2,>=0.8.1 in /usr/local/lib/python3.10/dist-packages (from nbconvert->jupyter==1.0.0->d2l==1.0.3) (0.8.4)\n",
            "Requirement already satisfied: nbclient>=0.5.0 in /usr/local/lib/python3.10/dist-packages (from nbconvert->jupyter==1.0.0->d2l==1.0.3) (0.10.0)\n",
            "Requirement already satisfied: nbformat>=5.1 in /usr/local/lib/python3.10/dist-packages (from nbconvert->jupyter==1.0.0->d2l==1.0.3) (5.10.4)\n",
            "Requirement already satisfied: pandocfilters>=1.4.1 in /usr/local/lib/python3.10/dist-packages (from nbconvert->jupyter==1.0.0->d2l==1.0.3) (1.5.1)\n",
            "Requirement already satisfied: tinycss2 in /usr/local/lib/python3.10/dist-packages (from nbconvert->jupyter==1.0.0->d2l==1.0.3) (1.3.0)\n",
            "Requirement already satisfied: pyzmq<25,>=17 in /usr/local/lib/python3.10/dist-packages (from notebook->jupyter==1.0.0->d2l==1.0.3) (24.0.1)\n",
            "Requirement already satisfied: argon2-cffi in /usr/local/lib/python3.10/dist-packages (from notebook->jupyter==1.0.0->d2l==1.0.3) (23.1.0)\n",
            "Requirement already satisfied: nest-asyncio>=1.5 in /usr/local/lib/python3.10/dist-packages (from notebook->jupyter==1.0.0->d2l==1.0.3) (1.6.0)\n",
            "Requirement already satisfied: Send2Trash>=1.8.0 in /usr/local/lib/python3.10/dist-packages (from notebook->jupyter==1.0.0->d2l==1.0.3) (1.8.3)\n",
            "Requirement already satisfied: terminado>=0.8.3 in /usr/local/lib/python3.10/dist-packages (from notebook->jupyter==1.0.0->d2l==1.0.3) (0.18.1)\n",
            "Requirement already satisfied: prometheus-client in /usr/local/lib/python3.10/dist-packages (from notebook->jupyter==1.0.0->d2l==1.0.3) (0.20.0)\n",
            "Requirement already satisfied: nbclassic>=0.4.7 in /usr/local/lib/python3.10/dist-packages (from notebook->jupyter==1.0.0->d2l==1.0.3) (1.0.0)\n",
            "Collecting qtpy>=2.4.0 (from qtconsole->jupyter==1.0.0->d2l==1.0.3)\n",
            "  Downloading QtPy-2.4.1-py3-none-any.whl (93 kB)\n",
            "\u001b[2K     \u001b[90m━━━━━━━━━━━━━━━━━━━━━━━━━━━━━━━━━━━━━━━━\u001b[0m \u001b[32m93.5/93.5 kB\u001b[0m \u001b[31m6.2 MB/s\u001b[0m eta \u001b[36m0:00:00\u001b[0m\n",
            "\u001b[?25hRequirement already satisfied: setuptools>=18.5 in /usr/local/lib/python3.10/dist-packages (from ipython>=5.0.0->ipykernel->jupyter==1.0.0->d2l==1.0.3) (67.7.2)\n",
            "Collecting jedi>=0.16 (from ipython>=5.0.0->ipykernel->jupyter==1.0.0->d2l==1.0.3)\n",
            "  Downloading jedi-0.19.1-py2.py3-none-any.whl (1.6 MB)\n",
            "\u001b[2K     \u001b[90m━━━━━━━━━━━━━━━━━━━━━━━━━━━━━━━━━━━━━━━━\u001b[0m \u001b[32m1.6/1.6 MB\u001b[0m \u001b[31m28.8 MB/s\u001b[0m eta \u001b[36m0:00:00\u001b[0m\n",
            "\u001b[?25hRequirement already satisfied: decorator in /usr/local/lib/python3.10/dist-packages (from ipython>=5.0.0->ipykernel->jupyter==1.0.0->d2l==1.0.3) (4.4.2)\n",
            "Requirement already satisfied: pickleshare in /usr/local/lib/python3.10/dist-packages (from ipython>=5.0.0->ipykernel->jupyter==1.0.0->d2l==1.0.3) (0.7.5)\n",
            "Requirement already satisfied: backcall in /usr/local/lib/python3.10/dist-packages (from ipython>=5.0.0->ipykernel->jupyter==1.0.0->d2l==1.0.3) (0.2.0)\n",
            "Requirement already satisfied: pexpect>4.3 in /usr/local/lib/python3.10/dist-packages (from ipython>=5.0.0->ipykernel->jupyter==1.0.0->d2l==1.0.3) (4.9.0)\n",
            "Requirement already satisfied: platformdirs>=2.5 in /usr/local/lib/python3.10/dist-packages (from jupyter-core>=4.7->nbconvert->jupyter==1.0.0->d2l==1.0.3) (4.2.1)\n",
            "Requirement already satisfied: jupyter-server>=1.8 in /usr/local/lib/python3.10/dist-packages (from nbclassic>=0.4.7->notebook->jupyter==1.0.0->d2l==1.0.3) (1.24.0)\n",
            "Requirement already satisfied: notebook-shim>=0.2.3 in /usr/local/lib/python3.10/dist-packages (from nbclassic>=0.4.7->notebook->jupyter==1.0.0->d2l==1.0.3) (0.2.4)\n",
            "Requirement already satisfied: fastjsonschema>=2.15 in /usr/local/lib/python3.10/dist-packages (from nbformat>=5.1->nbconvert->jupyter==1.0.0->d2l==1.0.3) (2.19.1)\n",
            "Requirement already satisfied: jsonschema>=2.6 in /usr/local/lib/python3.10/dist-packages (from nbformat>=5.1->nbconvert->jupyter==1.0.0->d2l==1.0.3) (4.19.2)\n",
            "Requirement already satisfied: wcwidth in /usr/local/lib/python3.10/dist-packages (from prompt-toolkit!=3.0.0,!=3.0.1,<3.1.0,>=2.0.0->jupyter-console->jupyter==1.0.0->d2l==1.0.3) (0.2.13)\n",
            "Requirement already satisfied: ptyprocess in /usr/local/lib/python3.10/dist-packages (from terminado>=0.8.3->notebook->jupyter==1.0.0->d2l==1.0.3) (0.7.0)\n",
            "Requirement already satisfied: argon2-cffi-bindings in /usr/local/lib/python3.10/dist-packages (from argon2-cffi->notebook->jupyter==1.0.0->d2l==1.0.3) (21.2.0)\n",
            "Requirement already satisfied: soupsieve>1.2 in /usr/local/lib/python3.10/dist-packages (from beautifulsoup4->nbconvert->jupyter==1.0.0->d2l==1.0.3) (2.5)\n",
            "Requirement already satisfied: webencodings in /usr/local/lib/python3.10/dist-packages (from bleach->nbconvert->jupyter==1.0.0->d2l==1.0.3) (0.5.1)\n",
            "Requirement already satisfied: parso<0.9.0,>=0.8.3 in /usr/local/lib/python3.10/dist-packages (from jedi>=0.16->ipython>=5.0.0->ipykernel->jupyter==1.0.0->d2l==1.0.3) (0.8.4)\n",
            "Requirement already satisfied: attrs>=22.2.0 in /usr/local/lib/python3.10/dist-packages (from jsonschema>=2.6->nbformat>=5.1->nbconvert->jupyter==1.0.0->d2l==1.0.3) (23.2.0)\n",
            "Requirement already satisfied: jsonschema-specifications>=2023.03.6 in /usr/local/lib/python3.10/dist-packages (from jsonschema>=2.6->nbformat>=5.1->nbconvert->jupyter==1.0.0->d2l==1.0.3) (2023.12.1)\n",
            "Requirement already satisfied: referencing>=0.28.4 in /usr/local/lib/python3.10/dist-packages (from jsonschema>=2.6->nbformat>=5.1->nbconvert->jupyter==1.0.0->d2l==1.0.3) (0.35.0)\n",
            "Requirement already satisfied: rpds-py>=0.7.1 in /usr/local/lib/python3.10/dist-packages (from jsonschema>=2.6->nbformat>=5.1->nbconvert->jupyter==1.0.0->d2l==1.0.3) (0.18.0)\n",
            "Requirement already satisfied: anyio<4,>=3.1.0 in /usr/local/lib/python3.10/dist-packages (from jupyter-server>=1.8->nbclassic>=0.4.7->notebook->jupyter==1.0.0->d2l==1.0.3) (3.7.1)\n",
            "Requirement already satisfied: websocket-client in /usr/local/lib/python3.10/dist-packages (from jupyter-server>=1.8->nbclassic>=0.4.7->notebook->jupyter==1.0.0->d2l==1.0.3) (1.8.0)\n",
            "Requirement already satisfied: cffi>=1.0.1 in /usr/local/lib/python3.10/dist-packages (from argon2-cffi-bindings->argon2-cffi->notebook->jupyter==1.0.0->d2l==1.0.3) (1.16.0)\n",
            "Requirement already satisfied: sniffio>=1.1 in /usr/local/lib/python3.10/dist-packages (from anyio<4,>=3.1.0->jupyter-server>=1.8->nbclassic>=0.4.7->notebook->jupyter==1.0.0->d2l==1.0.3) (1.3.1)\n",
            "Requirement already satisfied: exceptiongroup in /usr/local/lib/python3.10/dist-packages (from anyio<4,>=3.1.0->jupyter-server>=1.8->nbclassic>=0.4.7->notebook->jupyter==1.0.0->d2l==1.0.3) (1.2.1)\n",
            "Requirement already satisfied: pycparser in /usr/local/lib/python3.10/dist-packages (from cffi>=1.0.1->argon2-cffi-bindings->argon2-cffi->notebook->jupyter==1.0.0->d2l==1.0.3) (2.22)\n",
            "Installing collected packages: qtpy, pyparsing, numpy, matplotlib-inline, jedi, scipy, matplotlib, qtconsole, jupyter, d2l\n",
            "  Attempting uninstall: pyparsing\n",
            "    Found existing installation: pyparsing 3.1.2\n",
            "    Uninstalling pyparsing-3.1.2:\n",
            "      Successfully uninstalled pyparsing-3.1.2\n",
            "  Attempting uninstall: numpy\n",
            "    Found existing installation: numpy 1.25.2\n",
            "    Uninstalling numpy-1.25.2:\n",
            "      Successfully uninstalled numpy-1.25.2\n",
            "  Attempting uninstall: matplotlib-inline\n",
            "    Found existing installation: matplotlib-inline 0.1.7\n",
            "    Uninstalling matplotlib-inline-0.1.7:\n",
            "      Successfully uninstalled matplotlib-inline-0.1.7\n",
            "  Attempting uninstall: scipy\n",
            "    Found existing installation: scipy 1.11.4\n",
            "    Uninstalling scipy-1.11.4:\n",
            "      Successfully uninstalled scipy-1.11.4\n",
            "  Attempting uninstall: matplotlib\n",
            "    Found existing installation: matplotlib 3.7.1\n",
            "    Uninstalling matplotlib-3.7.1:\n",
            "      Successfully uninstalled matplotlib-3.7.1\n",
            "\u001b[31mERROR: pip's dependency resolver does not currently take into account all the packages that are installed. This behaviour is the source of the following dependency conflicts.\n",
            "chex 0.1.86 requires numpy>=1.24.1, but you have numpy 1.23.5 which is incompatible.\n",
            "pandas-stubs 2.0.3.230814 requires numpy>=1.25.0; python_version >= \"3.9\", but you have numpy 1.23.5 which is incompatible.\u001b[0m\u001b[31m\n",
            "\u001b[0mSuccessfully installed d2l-1.0.3 jedi-0.19.1 jupyter-1.0.0 matplotlib-3.7.2 matplotlib-inline-0.1.6 numpy-1.23.5 pyparsing-3.0.9 qtconsole-5.5.1 qtpy-2.4.1 scipy-1.10.1\n"
          ]
        },
        {
          "output_type": "display_data",
          "data": {
            "application/vnd.colab-display-data+json": {
              "pip_warning": {
                "packages": [
                  "matplotlib",
                  "matplotlib_inline",
                  "mpl_toolkits",
                  "numpy"
                ]
              },
              "id": "c878f0b5f67d4e979e4c84ab105e5157"
            }
          },
          "metadata": {}
        }
      ],
      "source": [
        "!pip install d2l==1.0.3\n"
      ]
    },
    {
      "cell_type": "markdown",
      "id": "fb1c337f",
      "metadata": {
        "origin_pos": 1,
        "id": "fb1c337f"
      },
      "source": [
        "# Calculus\n",
        ":label:`sec_calculus`\n",
        "\n",
        "For a long time, how to calculate\n",
        "the area of a circle remained a mystery.\n",
        "Then, in Ancient Greece, the mathematician Archimedes\n",
        "came up with the clever idea\n",
        "to inscribe a series of polygons\n",
        "with increasing numbers of vertices\n",
        "on the inside of a circle\n",
        "(:numref:`fig_circle_area`).\n",
        "For a polygon with $n$ vertices,\n",
        "we obtain $n$ triangles.\n",
        "The height of each triangle approaches the radius $r$\n",
        "as we partition the circle more finely.\n",
        "At the same time, its base approaches $2 \\pi r/n$,\n",
        "since the ratio between arc and secant approaches 1\n",
        "for a large number of vertices.\n",
        "Thus, the area of the polygon approaches\n",
        "$n \\cdot r \\cdot \\frac{1}{2} (2 \\pi r/n) = \\pi r^2$.\n",
        "\n",
        "![Finding the area of a circle as a limit procedure.](https://github.com/d2l-ai/d2l-pytorch-colab/blob/master/img/polygon-circle.svg?raw=1)\n",
        ":label:`fig_circle_area`\n",
        "\n",
        "This limiting procedure is at the root of both\n",
        "*differential calculus* and *integral calculus*.\n",
        "The former can tell us how to increase\n",
        "or decrease a function's value by\n",
        "manipulating its arguments.\n",
        "This comes in handy for the *optimization problems*\n",
        "that we face in deep learning,\n",
        "where we repeatedly update our parameters\n",
        "in order to decrease the loss function.\n",
        "Optimization addresses how to fit our models to training data,\n",
        "and calculus is its key prerequisite.\n",
        "However, do not forget that our ultimate goal\n",
        "is to perform well on *previously unseen* data.\n",
        "That problem is called *generalization*\n",
        "and will be a key focus of other chapters.\n"
      ]
    },
    {
      "cell_type": "code",
      "execution_count": 1,
      "id": "5162883d",
      "metadata": {
        "execution": {
          "iopub.execute_input": "2023-08-18T19:31:00.158561Z",
          "iopub.status.busy": "2023-08-18T19:31:00.158199Z",
          "iopub.status.idle": "2023-08-18T19:31:03.258372Z",
          "shell.execute_reply": "2023-08-18T19:31:03.256925Z"
        },
        "origin_pos": 3,
        "tab": [
          "pytorch"
        ],
        "id": "5162883d"
      },
      "outputs": [],
      "source": [
        "%matplotlib inline\n",
        "import numpy as np\n",
        "from matplotlib_inline import backend_inline\n",
        "from d2l import torch as d2l"
      ]
    },
    {
      "cell_type": "markdown",
      "id": "8ad81b23",
      "metadata": {
        "origin_pos": 6,
        "id": "8ad81b23"
      },
      "source": [
        "## Derivatives and Differentiation\n",
        "\n",
        "Put simply, a *derivative* is the rate of change\n",
        "in a function with respect to changes in its arguments.\n",
        "Derivatives can tell us how rapidly a loss function\n",
        "would increase or decrease were we\n",
        "to *increase* or *decrease* each parameter\n",
        "by an infinitesimally small amount.\n",
        "Formally, for functions $f: \\mathbb{R} \\rightarrow \\mathbb{R}$,\n",
        "that map from scalars to scalars,\n",
        "[**the *derivative* of $f$ at a point $x$ is defined as**]\n",
        "\n",
        "(**$$f'(x) = \\lim_{h \\rightarrow 0} \\frac{f(x+h) - f(x)}{h}.$$**)\n",
        ":eqlabel:`eq_derivative`\n",
        "\n",
        "This term on the right hand side is called a *limit*\n",
        "and it tells us what happens\n",
        "to the value of an expression\n",
        "as a specified variable\n",
        "approaches a particular value.\n",
        "This limit tells us what\n",
        "the ratio between a perturbation $h$\n",
        "and the change in the function value\n",
        "$f(x + h) - f(x)$ converges to\n",
        "as we shrink its size to zero.\n",
        "\n",
        "When $f'(x)$ exists, $f$ is said\n",
        "to be *differentiable* at $x$;\n",
        "and when $f'(x)$ exists for all $x$\n",
        "on a set, e.g., the interval $[a,b]$,\n",
        "we say that $f$ is differentiable on this set.\n",
        "Not all functions are differentiable,\n",
        "including many that we wish to optimize,\n",
        "such as accuracy and the area under the\n",
        "receiving operating characteristic (AUC).\n",
        "However, because computing the derivative of the loss\n",
        "is a crucial step in nearly all\n",
        "algorithms for training deep neural networks,\n",
        "we often optimize a differentiable *surrogate* instead.\n",
        "\n",
        "\n",
        "We can interpret the derivative\n",
        "$f'(x)$\n",
        "as the *instantaneous* rate of change\n",
        "of $f(x)$ with respect to $x$.\n",
        "Let's develop some intuition with an example.\n",
        "(**Define $u = f(x) = 3x^2-4x$.**)\n"
      ]
    },
    {
      "cell_type": "code",
      "execution_count": 2,
      "id": "e351acdb",
      "metadata": {
        "execution": {
          "iopub.execute_input": "2023-08-18T19:31:03.263539Z",
          "iopub.status.busy": "2023-08-18T19:31:03.262795Z",
          "iopub.status.idle": "2023-08-18T19:31:03.267363Z",
          "shell.execute_reply": "2023-08-18T19:31:03.266349Z"
        },
        "origin_pos": 8,
        "tab": [
          "pytorch"
        ],
        "id": "e351acdb"
      },
      "outputs": [],
      "source": [
        "def f(x):\n",
        "    return 3 * x ** 2 - 4 * x"
      ]
    },
    {
      "cell_type": "markdown",
      "id": "50148144",
      "metadata": {
        "origin_pos": 11,
        "id": "50148144"
      },
      "source": [
        "[**Setting $x=1$, we see that $\\frac{f(x+h) - f(x)}{h}$**] (**approaches $2$\n",
        "as $h$ approaches $0$.**)\n",
        "While this experiment lacks\n",
        "the rigor of a mathematical proof,\n",
        "we can quickly see that indeed $f'(1) = 2$.\n"
      ]
    },
    {
      "cell_type": "code",
      "execution_count": 3,
      "id": "7b5e7cf2",
      "metadata": {
        "execution": {
          "iopub.execute_input": "2023-08-18T19:31:03.271432Z",
          "iopub.status.busy": "2023-08-18T19:31:03.270665Z",
          "iopub.status.idle": "2023-08-18T19:31:03.276568Z",
          "shell.execute_reply": "2023-08-18T19:31:03.275548Z"
        },
        "origin_pos": 12,
        "tab": [
          "pytorch"
        ],
        "id": "7b5e7cf2",
        "outputId": "3a089a61-05e8-4b72-e146-f390a04e6e4e",
        "colab": {
          "base_uri": "https://localhost:8080/"
        }
      },
      "outputs": [
        {
          "output_type": "stream",
          "name": "stdout",
          "text": [
            "h=0.10000, numerical limit=2.30000\n",
            "h=0.01000, numerical limit=2.03000\n",
            "h=0.00100, numerical limit=2.00300\n",
            "h=0.00010, numerical limit=2.00030\n",
            "h=0.00001, numerical limit=2.00003\n"
          ]
        }
      ],
      "source": [
        "for h in 10.0**np.arange(-1, -6, -1):\n",
        "    print(f'h={h:.5f}, numerical limit={(f(1+h)-f(1))/h:.5f}')"
      ]
    },
    {
      "cell_type": "markdown",
      "id": "0be7fece",
      "metadata": {
        "origin_pos": 13,
        "id": "0be7fece"
      },
      "source": [
        "There are several equivalent notational conventions for derivatives.\n",
        "Given $y = f(x)$, the following expressions are equivalent:\n",
        "\n",
        "$$f'(x) = y' = \\frac{dy}{dx} = \\frac{df}{dx} = \\frac{d}{dx} f(x) = Df(x) = D_x f(x),$$\n",
        "\n",
        "where the symbols $\\frac{d}{dx}$ and $D$ are *differentiation operators*.\n",
        "Below, we present the derivatives of some common functions:\n",
        "\n",
        "$$\\begin{aligned} \\frac{d}{dx} C & = 0 && \\textrm{for any constant $C$} \\\\ \\frac{d}{dx} x^n & = n x^{n-1} && \\textrm{for } n \\neq 0 \\\\ \\frac{d}{dx} e^x & = e^x \\\\ \\frac{d}{dx} \\ln x & = x^{-1}. \\end{aligned}$$\n",
        "\n",
        "Functions composed from differentiable functions\n",
        "are often themselves differentiable.\n",
        "The following rules come in handy\n",
        "for working with compositions\n",
        "of any differentiable functions\n",
        "$f$ and $g$, and constant $C$.\n",
        "\n",
        "$$\\begin{aligned} \\frac{d}{dx} [C f(x)] & = C \\frac{d}{dx} f(x) && \\textrm{Constant multiple rule} \\\\ \\frac{d}{dx} [f(x) + g(x)] & = \\frac{d}{dx} f(x) + \\frac{d}{dx} g(x) && \\textrm{Sum rule} \\\\ \\frac{d}{dx} [f(x) g(x)] & = f(x) \\frac{d}{dx} g(x) + g(x) \\frac{d}{dx} f(x) && \\textrm{Product rule} \\\\ \\frac{d}{dx} \\frac{f(x)}{g(x)} & = \\frac{g(x) \\frac{d}{dx} f(x) - f(x) \\frac{d}{dx} g(x)}{g^2(x)} && \\textrm{Quotient rule} \\end{aligned}$$\n",
        "\n",
        "Using this, we can apply the rules\n",
        "to find the derivative of $3 x^2 - 4x$ via\n",
        "\n",
        "$$\\frac{d}{dx} [3 x^2 - 4x] = 3 \\frac{d}{dx} x^2 - 4 \\frac{d}{dx} x = 6x - 4.$$\n",
        "\n",
        "Plugging in $x = 1$ shows that, indeed,\n",
        "the derivative equals $2$ at this location.\n",
        "Note that derivatives tell us\n",
        "the *slope* of a function\n",
        "at a particular location.  \n",
        "\n",
        "## Visualization Utilities\n",
        "\n",
        "[**We can visualize the slopes of functions using the `matplotlib` library**].\n",
        "We need to define a few functions.\n",
        "As its name indicates, `use_svg_display`\n",
        "tells `matplotlib` to output graphics\n",
        "in SVG format for crisper images.\n",
        "The comment `#@save` is a special modifier\n",
        "that allows us to save any function,\n",
        "class, or other code block to the `d2l` package\n",
        "so that we can invoke it later\n",
        "without repeating the code,\n",
        "e.g., via `d2l.use_svg_display()`.\n"
      ]
    },
    {
      "cell_type": "code",
      "execution_count": 7,
      "id": "70d92d2a",
      "metadata": {
        "execution": {
          "iopub.execute_input": "2023-08-18T19:31:03.280403Z",
          "iopub.status.busy": "2023-08-18T19:31:03.280065Z",
          "iopub.status.idle": "2023-08-18T19:31:03.284973Z",
          "shell.execute_reply": "2023-08-18T19:31:03.283950Z"
        },
        "origin_pos": 14,
        "tab": [
          "pytorch"
        ],
        "id": "70d92d2a"
      },
      "outputs": [],
      "source": [
        "def use_svg_display():  #@save\n",
        "    \"\"\"Use the svg format to display a plot in Jupyter.\"\"\"\n",
        "    backend_inline.set_matplotlib_formats('svg')"
      ]
    },
    {
      "cell_type": "markdown",
      "id": "ef7c490f",
      "metadata": {
        "origin_pos": 15,
        "id": "ef7c490f"
      },
      "source": [
        "Conveniently, we can set figure sizes with `set_figsize`.\n",
        "Since the import statement `from matplotlib import pyplot as plt`\n",
        "was marked via `#@save` in the `d2l` package, we can call `d2l.plt`.\n"
      ]
    },
    {
      "cell_type": "code",
      "execution_count": 8,
      "id": "c868cdf6",
      "metadata": {
        "execution": {
          "iopub.execute_input": "2023-08-18T19:31:03.289140Z",
          "iopub.status.busy": "2023-08-18T19:31:03.288531Z",
          "iopub.status.idle": "2023-08-18T19:31:03.293764Z",
          "shell.execute_reply": "2023-08-18T19:31:03.292757Z"
        },
        "origin_pos": 16,
        "tab": [
          "pytorch"
        ],
        "id": "c868cdf6"
      },
      "outputs": [],
      "source": [
        "def set_figsize(figsize=(3.5, 2.5)):  #@save\n",
        "    \"\"\"Set the figure size for matplotlib.\"\"\"\n",
        "    use_svg_display()\n",
        "    d2l.plt.rcParams['figure.figsize'] = figsize"
      ]
    },
    {
      "cell_type": "markdown",
      "id": "f2bd084c",
      "metadata": {
        "origin_pos": 17,
        "id": "f2bd084c"
      },
      "source": [
        "The `set_axes` function can associate axes\n",
        "with properties, including labels, ranges,\n",
        "and scales.\n"
      ]
    },
    {
      "cell_type": "code",
      "execution_count": 9,
      "id": "8860f929",
      "metadata": {
        "execution": {
          "iopub.execute_input": "2023-08-18T19:31:03.297796Z",
          "iopub.status.busy": "2023-08-18T19:31:03.297092Z",
          "iopub.status.idle": "2023-08-18T19:31:03.303068Z",
          "shell.execute_reply": "2023-08-18T19:31:03.302068Z"
        },
        "origin_pos": 18,
        "tab": [
          "pytorch"
        ],
        "id": "8860f929"
      },
      "outputs": [],
      "source": [
        "#@save\n",
        "def set_axes(axes, xlabel, ylabel, xlim, ylim, xscale, yscale, legend):\n",
        "    \"\"\"Set the axes for matplotlib.\"\"\"\n",
        "    axes.set_xlabel(xlabel), axes.set_ylabel(ylabel)\n",
        "    axes.set_xscale(xscale), axes.set_yscale(yscale)\n",
        "    axes.set_xlim(xlim),     axes.set_ylim(ylim)\n",
        "    if legend:\n",
        "        axes.legend(legend)\n",
        "    axes.grid()"
      ]
    },
    {
      "cell_type": "markdown",
      "id": "d8825398",
      "metadata": {
        "origin_pos": 19,
        "id": "d8825398"
      },
      "source": [
        "With these three functions, we can define a `plot` function\n",
        "to overlay multiple curves.\n",
        "Much of the code here is just ensuring\n",
        "that the sizes and shapes of inputs match.\n"
      ]
    },
    {
      "cell_type": "code",
      "execution_count": 10,
      "id": "0d56dd86",
      "metadata": {
        "execution": {
          "iopub.execute_input": "2023-08-18T19:31:03.307130Z",
          "iopub.status.busy": "2023-08-18T19:31:03.306443Z",
          "iopub.status.idle": "2023-08-18T19:31:03.316351Z",
          "shell.execute_reply": "2023-08-18T19:31:03.315391Z"
        },
        "origin_pos": 20,
        "tab": [
          "pytorch"
        ],
        "id": "0d56dd86"
      },
      "outputs": [],
      "source": [
        "#@save\n",
        "def plot(X, Y=None, xlabel=None, ylabel=None, legend=[], xlim=None,\n",
        "         ylim=None, xscale='linear', yscale='linear',\n",
        "         fmts=('-', 'm--', 'g-.', 'r:'), figsize=(3.5, 2.5), axes=None):\n",
        "    \"\"\"Plot data points.\"\"\"\n",
        "\n",
        "    def has_one_axis(X):  # True if X (tensor or list) has 1 axis\n",
        "        return (hasattr(X, \"ndim\") and X.ndim == 1 or isinstance(X, list)\n",
        "                and not hasattr(X[0], \"__len__\"))\n",
        "\n",
        "    if has_one_axis(X): X = [X]\n",
        "    if Y is None:\n",
        "        X, Y = [[]] * len(X), X\n",
        "    elif has_one_axis(Y):\n",
        "        Y = [Y]\n",
        "    if len(X) != len(Y):\n",
        "        X = X * len(Y)\n",
        "\n",
        "    set_figsize(figsize)\n",
        "    if axes is None:\n",
        "        axes = d2l.plt.gca()\n",
        "    axes.cla()\n",
        "    for x, y, fmt in zip(X, Y, fmts):\n",
        "        axes.plot(x,y,fmt) if len(x) else axes.plot(y,fmt)\n",
        "    set_axes(axes, xlabel, ylabel, xlim, ylim, xscale, yscale, legend)"
      ]
    },
    {
      "cell_type": "markdown",
      "id": "68b9ef55",
      "metadata": {
        "origin_pos": 21,
        "id": "68b9ef55"
      },
      "source": [
        "Now we can [**plot the function $u = f(x)$ and its tangent line $y = 2x - 3$ at $x=1$**],\n",
        "where the coefficient $2$ is the slope of the tangent line.\n"
      ]
    },
    {
      "cell_type": "code",
      "execution_count": 14,
      "id": "1a22ce3a",
      "metadata": {
        "execution": {
          "iopub.execute_input": "2023-08-18T19:31:03.320345Z",
          "iopub.status.busy": "2023-08-18T19:31:03.319698Z",
          "iopub.status.idle": "2023-08-18T19:31:03.596083Z",
          "shell.execute_reply": "2023-08-18T19:31:03.594940Z"
        },
        "origin_pos": 22,
        "tab": [
          "pytorch"
        ],
        "id": "1a22ce3a",
        "outputId": "7e2985e5-daf3-4269-f5e9-4fdd618510bb",
        "colab": {
          "base_uri": "https://localhost:8080/",
          "height": 180
        }
      },
      "outputs": [
        {
          "output_type": "error",
          "ename": "TypeError",
          "evalue": "'Add' object is not callable",
          "traceback": [
            "\u001b[0;31m---------------------------------------------------------------------------\u001b[0m",
            "\u001b[0;31mTypeError\u001b[0m                                 Traceback (most recent call last)",
            "\u001b[0;32m<ipython-input-14-4ff68bfdd1da>\u001b[0m in \u001b[0;36m<cell line: 2>\u001b[0;34m()\u001b[0m\n\u001b[1;32m      1\u001b[0m \u001b[0mx\u001b[0m \u001b[0;34m=\u001b[0m \u001b[0mnp\u001b[0m\u001b[0;34m.\u001b[0m\u001b[0marange\u001b[0m\u001b[0;34m(\u001b[0m\u001b[0;36m0\u001b[0m\u001b[0;34m,\u001b[0m \u001b[0;36m3\u001b[0m\u001b[0;34m,\u001b[0m \u001b[0;36m0.1\u001b[0m\u001b[0;34m)\u001b[0m\u001b[0;34m\u001b[0m\u001b[0;34m\u001b[0m\u001b[0m\n\u001b[0;32m----> 2\u001b[0;31m \u001b[0mplt\u001b[0m\u001b[0;34m.\u001b[0m\u001b[0mplot\u001b[0m\u001b[0;34m(\u001b[0m\u001b[0mx\u001b[0m\u001b[0;34m,\u001b[0m \u001b[0;34m[\u001b[0m\u001b[0mf\u001b[0m\u001b[0;34m(\u001b[0m\u001b[0mx\u001b[0m\u001b[0;34m)\u001b[0m\u001b[0;34m,\u001b[0m \u001b[0;36m2\u001b[0m \u001b[0;34m*\u001b[0m \u001b[0mx\u001b[0m \u001b[0;34m-\u001b[0m \u001b[0;36m3\u001b[0m\u001b[0;34m]\u001b[0m\u001b[0;34m,\u001b[0m \u001b[0;34m'x'\u001b[0m\u001b[0;34m,\u001b[0m \u001b[0mlabel\u001b[0m\u001b[0;34m=\u001b[0m\u001b[0;34m[\u001b[0m\u001b[0;34m'f(x)'\u001b[0m\u001b[0;34m,\u001b[0m \u001b[0;34m'Tangent line (x=1)'\u001b[0m\u001b[0;34m]\u001b[0m\u001b[0;34m)\u001b[0m\u001b[0;34m\u001b[0m\u001b[0;34m\u001b[0m\u001b[0m\n\u001b[0m\u001b[1;32m      3\u001b[0m \u001b[0mplt\u001b[0m\u001b[0;34m.\u001b[0m\u001b[0mlegend\u001b[0m\u001b[0;34m(\u001b[0m\u001b[0;34m)\u001b[0m\u001b[0;34m\u001b[0m\u001b[0;34m\u001b[0m\u001b[0m\n",
            "\u001b[0;31mTypeError\u001b[0m: 'Add' object is not callable"
          ]
        }
      ],
      "source": [
        "x = np.arange(0, 3, 0.1)\n",
        "plot(x, [f(x), 2 * x - 3], 'x', 'f(x)', legend=['f(x)', 'Tangent line (x=1)'])"
      ]
    },
    {
      "cell_type": "markdown",
      "id": "ebd783d4",
      "metadata": {
        "origin_pos": 23,
        "id": "ebd783d4"
      },
      "source": [
        "## Partial Derivatives and Gradients\n",
        ":label:`subsec_calculus-grad`\n",
        "\n",
        "Thus far, we have been differentiating\n",
        "functions of just one variable.\n",
        "In deep learning, we also need to work\n",
        "with functions of *many* variables.\n",
        "We briefly introduce notions of the derivative\n",
        "that apply to such *multivariate* functions.\n",
        "\n",
        "\n",
        "Let $y = f(x_1, x_2, \\ldots, x_n)$ be a function with $n$ variables.\n",
        "The *partial derivative* of $y$\n",
        "with respect to its $i^\\textrm{th}$ parameter $x_i$ is\n",
        "\n",
        "$$ \\frac{\\partial y}{\\partial x_i} = \\lim_{h \\rightarrow 0} \\frac{f(x_1, \\ldots, x_{i-1}, x_i+h, x_{i+1}, \\ldots, x_n) - f(x_1, \\ldots, x_i, \\ldots, x_n)}{h}.$$\n",
        "\n",
        "\n",
        "To calculate $\\frac{\\partial y}{\\partial x_i}$,\n",
        "we can treat $x_1, \\ldots, x_{i-1}, x_{i+1}, \\ldots, x_n$ as constants\n",
        "and calculate the derivative of $y$ with respect to $x_i$.\n",
        "The following notational conventions for partial derivatives\n",
        "are all common and all mean the same thing:\n",
        "\n",
        "$$\\frac{\\partial y}{\\partial x_i} = \\frac{\\partial f}{\\partial x_i} = \\partial_{x_i} f = \\partial_i f = f_{x_i} = f_i = D_i f = D_{x_i} f.$$\n",
        "\n",
        "We can concatenate partial derivatives\n",
        "of a multivariate function\n",
        "with respect to all its variables\n",
        "to obtain a vector that is called\n",
        "the *gradient* of the function.\n",
        "Suppose that the input of function\n",
        "$f: \\mathbb{R}^n \\rightarrow \\mathbb{R}$\n",
        "is an $n$-dimensional vector\n",
        "$\\mathbf{x} = [x_1, x_2, \\ldots, x_n]^\\top$\n",
        "and the output is a scalar.\n",
        "The gradient of the function $f$\n",
        "with respect to $\\mathbf{x}$\n",
        "is a vector of $n$ partial derivatives:\n",
        "\n",
        "$$\\nabla_{\\mathbf{x}} f(\\mathbf{x}) = \\left[\\partial_{x_1} f(\\mathbf{x}), \\partial_{x_2} f(\\mathbf{x}), \\ldots\n",
        "\\partial_{x_n} f(\\mathbf{x})\\right]^\\top.$$\n",
        "\n",
        "When there is no ambiguity,\n",
        "$\\nabla_{\\mathbf{x}} f(\\mathbf{x})$\n",
        "is typically replaced\n",
        "by $\\nabla f(\\mathbf{x})$.\n",
        "The following rules come in handy\n",
        "for differentiating multivariate functions:\n",
        "\n",
        "* For all $\\mathbf{A} \\in \\mathbb{R}^{m \\times n}$ we have $\\nabla_{\\mathbf{x}} \\mathbf{A} \\mathbf{x} = \\mathbf{A}^\\top$ and $\\nabla_{\\mathbf{x}} \\mathbf{x}^\\top \\mathbf{A}  = \\mathbf{A}$.\n",
        "* For square matrices $\\mathbf{A} \\in \\mathbb{R}^{n \\times n}$ we have that $\\nabla_{\\mathbf{x}} \\mathbf{x}^\\top \\mathbf{A} \\mathbf{x}  = (\\mathbf{A} + \\mathbf{A}^\\top)\\mathbf{x}$ and in particular\n",
        "$\\nabla_{\\mathbf{x}} \\|\\mathbf{x} \\|^2 = \\nabla_{\\mathbf{x}} \\mathbf{x}^\\top \\mathbf{x} = 2\\mathbf{x}$.\n",
        "\n",
        "Similarly, for any matrix $\\mathbf{X}$,\n",
        "we have $\\nabla_{\\mathbf{X}} \\|\\mathbf{X} \\|_\\textrm{F}^2 = 2\\mathbf{X}$.\n",
        "\n",
        "\n",
        "\n",
        "## Chain Rule\n",
        "\n",
        "In deep learning, the gradients of concern\n",
        "are often difficult to calculate\n",
        "because we are working with\n",
        "deeply nested functions\n",
        "(of functions (of functions...)).\n",
        "Fortunately, the *chain rule* takes care of this.\n",
        "Returning to functions of a single variable,\n",
        "suppose that $y = f(g(x))$\n",
        "and that the underlying functions\n",
        "$y=f(u)$ and $u=g(x)$\n",
        "are both differentiable.\n",
        "The chain rule states that\n",
        "\n",
        "\n",
        "$$\\frac{dy}{dx} = \\frac{dy}{du} \\frac{du}{dx}.$$\n",
        "\n",
        "\n",
        "\n",
        "Turning back to multivariate functions,\n",
        "suppose that $y = f(\\mathbf{u})$ has variables\n",
        "$u_1, u_2, \\ldots, u_m$,\n",
        "where each $u_i = g_i(\\mathbf{x})$\n",
        "has variables $x_1, x_2, \\ldots, x_n$,\n",
        "i.e.,  $\\mathbf{u} = g(\\mathbf{x})$.\n",
        "Then the chain rule states that\n",
        "\n",
        "$$\\frac{\\partial y}{\\partial x_{i}} = \\frac{\\partial y}{\\partial u_{1}} \\frac{\\partial u_{1}}{\\partial x_{i}} + \\frac{\\partial y}{\\partial u_{2}} \\frac{\\partial u_{2}}{\\partial x_{i}} + \\ldots + \\frac{\\partial y}{\\partial u_{m}} \\frac{\\partial u_{m}}{\\partial x_{i}} \\ \\textrm{ and so } \\ \\nabla_{\\mathbf{x}} y =  \\mathbf{A} \\nabla_{\\mathbf{u}} y,$$\n",
        "\n",
        "where $\\mathbf{A} \\in \\mathbb{R}^{n \\times m}$ is a *matrix*\n",
        "that contains the derivative of vector $\\mathbf{u}$\n",
        "with respect to vector $\\mathbf{x}$.\n",
        "Thus, evaluating the gradient requires\n",
        "computing a vector--matrix product.\n",
        "This is one of the key reasons why linear algebra\n",
        "is such an integral building block\n",
        "in building deep learning systems.\n",
        "\n",
        "\n",
        "\n",
        "## Discussion\n",
        "\n",
        "While we have just scratched the surface of a deep topic,\n",
        "a number of concepts already come into focus:\n",
        "first, the composition rules for differentiation\n",
        "can be applied routinely, enabling\n",
        "us to compute gradients *automatically*.\n",
        "This task requires no creativity and thus\n",
        "we can focus our cognitive powers elsewhere.\n",
        "Second, computing the derivatives of vector-valued functions\n",
        "requires us to multiply matrices as we trace\n",
        "the dependency graph of variables from output to input.\n",
        "In particular, this graph is traversed in a *forward* direction\n",
        "when we evaluate a function\n",
        "and in a *backwards* direction\n",
        "when we compute gradients.\n",
        "Later chapters will formally introduce backpropagation,\n",
        "a computational procedure for applying the chain rule.\n",
        "\n",
        "From the viewpoint of optimization, gradients allow us\n",
        "to determine how to move the parameters of a model\n",
        "in order to lower the loss,\n",
        "and each step of the optimization algorithms used\n",
        "throughout this book will require calculating the gradient.\n",
        "\n",
        "## Exercises\n",
        "\n",
        "1. So far we took the rules for derivatives for granted.\n",
        "   Using the definition and limits prove the properties\n",
        "   for (i) $f(x) = c$, (ii) $f(x) = x^n$, (iii) $f(x) = e^x$ and (iv) $f(x) = \\log x$.\n",
        "1. In the same vein, prove the product, sum, and quotient rule from first principles.\n",
        "1. Prove that the constant multiple rule follows as a special case of the product rule.\n",
        "1. Calculate the derivative of $f(x) = x^x$.\n",
        "1. What does it mean that $f'(x) = 0$ for some $x$?\n",
        "   Give an example of a function $f$\n",
        "   and a location $x$ for which this might hold.\n",
        "1. Plot the function $y = f(x) = x^3 - \\frac{1}{x}$\n",
        "   and plot its tangent line at $x = 1$.\n",
        "1. Find the gradient of the function\n",
        "   $f(\\mathbf{x}) = 3x_1^2 + 5e^{x_2}$.\n",
        "1. What is the gradient of the function\n",
        "   $f(\\mathbf{x}) = \\|\\mathbf{x}\\|_2$? What happens for $\\mathbf{x} = \\mathbf{0}$?\n",
        "1. Can you write out the chain rule for the case\n",
        "   where $u = f(x, y, z)$ and $x = x(a, b)$, $y = y(a, b)$, and $z = z(a, b)$?\n",
        "1. Given a function $f(x)$ that is invertible,\n",
        "   compute the derivative of its inverse $f^{-1}(x)$.\n",
        "   Here we have that $f^{-1}(f(x)) = x$ and conversely $f(f^{-1}(y)) = y$.\n",
        "   Hint: use these properties in your derivation.\n"
      ]
    },
    {
      "cell_type": "markdown",
      "source": [
        "1. So far we took the rules for derivatives for granted.\n",
        "   Using the definition and limits prove the properties\n",
        "   for (i) $f(x) = c$, (ii) $f(x) = x^n$, (iii) $f(x) = e^x$ and (iv) $f(x) = \\log x$."
      ],
      "metadata": {
        "id": "zRljdLjt7VVl"
      },
      "id": "zRljdLjt7VVl"
    },
    {
      "cell_type": "markdown",
      "source": [
        "\n",
        "**i) Constant function:**\n",
        "For $f(x) = c$, we have that\n",
        "\n",
        "$$f'(x) = \\lim_{h \\rightarrow 0} \\frac{f(x+h) - f(x)}{h} = \\lim_{h \\rightarrow 0} \\frac{c - c}{h} = \\lim_{h \\rightarrow 0} 0 = 0.$$\n",
        "\n",
        "**ii) Power function:**\n",
        "For $f(x) = x^n$, we have that\n",
        "\n",
        "$$f'(x) = \\lim_{h \\rightarrow 0} \\frac{f(x+h) - f(x)}{h} = \\lim_{h \\rightarrow 0} \\frac{(x+h)^n - x^n}{h}.$$\n",
        "\n",
        "Using the binomial theorem, we can expand $(x+h)^n$ as\n",
        "\n",
        "$$(x+h)^n = x^n + nx^{n-1}h + \\binom{n}{2}x^{n-2}h^2 + \\cdots + h^n.$$\n",
        "\n",
        "Substituting this into the expression for $f'(x)$, we get\n",
        "\n",
        "$$f'(x) = \\lim_{h \\rightarrow 0} \\frac{nx^{n-1}h + \\binom{n}{2}x^{n-2}h^2 + \\cdots + h^n}{h}.$$\n",
        "\n",
        "Factoring out $h$ from the numerator, we get\n",
        "\n",
        "$$f'(x) = \\lim_{h \\rightarrow 0} \\left(nx^{n-1} + \\binom{n}{2}x^{n-2}h + \\cdots + h^{n-1}\\right).$$\n",
        "\n",
        "Since the limit of a sum is the sum of the limits, we can take the limit of each term separately. As $h \\rightarrow 0$, all the terms with $h$ in them will go to zero, leaving only the first term. Therefore,\n",
        "\n",
        "$$f'(x) = nx^{n-1}.$$\n",
        "\n",
        "**iii) Exponential function:**\n",
        "For $f(x) = e^x$, we have that\n",
        "\n",
        "For $f(x) = e^x$, the derivative $f'(x)$ is equal to $e^x$.\n",
        "\n",
        "Using the limit definition of the derivative and properties of the exponential function $e^x$:\n",
        "\n",
        "$$f'(x) = \\lim_{{h \\to 0}} \\frac{{e^{x+h} - e^x}}{h} = $$\n",
        "\n",
        "$$f'(x) = \\lim_{{h \\to 0}} \\frac{{e^x \\cdot e^h - e^x}}{h}$$\n",
        "\n",
        "$$f'(x) = \\lim_{{h \\to 0}} \\frac{{e^x (e^h - 1)}}{h} = e^x$$\n",
        "\n",
        "$$\\lim_{{h \\to 0}} \\frac{{e^h - 1}}{h} = e^x$$\n",
        "\n",
        "\n",
        "**iv) Logarithmic function:**\n",
        "For $f(x) = \\log x$, we have that\n",
        "\n",
        "$$f'(x) = \\lim_{h \\rightarrow 0} \\frac{f(x+h) - f(x)}{h} = \\lim_{h \\rightarrow 0} \\frac{\\log(x+h) - \\log x}{h}.$$\n",
        "\n",
        "Using the property that $\\log(ab) = \\log a + \\log b$, we can rewrite the numerator as\n",
        "\n",
        "$$\\log(x+h) - \\log x = \\log \\left(\\frac{x+h}{x}\\right).$$\n",
        "\n",
        "Substituting this into the expression for $f'(x)$, we get\n",
        "\n",
        "$$f'(x) = \\lim_{h \\rightarrow 0} \\frac{\\log \\left(\\frac{x+h}{x}\\right)}{h}.$$\n",
        "\n",
        "Using the fact that $\\lim_{h \\rightarrow 0} \\frac{\\log(1+h)}{h} = 1$, we can simplify this to\n",
        "\n",
        "$$f'(x) = \\lim_{h \\rightarrow 0} \\frac{\\log \\left(1+\\frac{h}{x}\\right)}{h} = \\frac{1}{x}.$$"
      ],
      "metadata": {
        "id": "G--Mh-uSn14p"
      },
      "id": "G--Mh-uSn14p"
    },
    {
      "cell_type": "markdown",
      "source": [
        "2. In the same vein, prove the product, sum, and quotient rule from first\n",
        "\n",
        "# Derivative Rules Using Limits and First Principles\n",
        "\n",
        "## Product Rule\n",
        "\n",
        "To derive the product rule, consider two differentiable functions, \\(f(x)\\) and \\(g(x)\\). The derivative of their product can be obtained using the definition of the derivative:\n",
        "\n",
        "$$\n",
        "(f \\cdot g)'(x) = \\lim_{h \\to 0} \\frac{f(x + h) \\cdot g(x + h) - f(x) \\cdot g(x)}{h}\n",
        "$$\n",
        "\n",
        "Expanding the numerator, we have:\n",
        "\n",
        "$$\n",
        "f(x + h) \\cdot g(x + h) - f(x) \\cdot g(x) = (f(x + h) \\cdot g(x + h) - f(x) \\cdot g(x + h)) + (f(x) \\cdot g(x + h) - f(x) \\cdot g(x))\n",
        "$$\n",
        "\n",
        "Which leads to:\n",
        "\n",
        "$$\n",
        "(f \\cdot g)'(x) = \\lim_{h \\to 0} \\frac{(f(x + h) - f(x)) \\cdot g(x + h)}{h} + \\lim_{h \\to 0} \\frac{f(x) \\cdot (g(x + h) - g(x))}{h}\n",
        "$$\n",
        "\n",
        "Taking the limits, we get:\n",
        "\n",
        "- The first term converges to \\(f'(x) \\cdot g(x)\\),\n",
        "- The second term converges to \\(f(x) \\cdot g'(x)\\).\n",
        "\n",
        "Thus, the product rule is established:\n",
        "\n",
        "$$\n",
        "(f \\cdot g)'(x) = f'(x) \\cdot g(x) + f(x) \\cdot g'(x)\n",
        "$$\n",
        "\n",
        "## Sum Rule\n",
        "\n",
        "The sum rule states that the derivative of the sum of two functions is the sum of their derivatives:\n",
        "\n",
        "$$\n",
        "(f + g)'(x) = f'(x) + g'(x)\n",
        "$$\n",
        "\n",
        "This can be derived from the definition of the derivative:\n",
        "\n",
        "$$\n",
        "(f + g)'(x) = \\lim_{h \\to 0} \\frac{(f(x + h) + g(x + h)) - (f(x) + g(x))}{h}\n",
        "$$\n",
        "\n",
        "Expanding the expression, we get:\n",
        "\n",
        "$$\n",
        "(f + g)'(x) = \\lim_{h \\to 0} \\frac{f(x + h) - f(x)}{h} + \\lim_{h \\to 0} \\frac{g(x + h) - g(x)}{h}\n",
        "$$\n",
        "\n",
        "Thus, the derivative of the sum is the sum of the derivatives, confirming the sum rule:\n",
        "\n",
        "$$\n",
        "(f + g)'(x) = f'(x) + g'(x)\n",
        "$$\n",
        "\n",
        "## Quotient Rule\n",
        "\n",
        "The quotient rule states that the derivative of the quotient of two functions is:\n",
        "\n",
        "$$\n",
        "\\left( \\frac{f}{g} \\right)'(x) = \\frac{f'(x) \\cdot g(x) - f(x) \\cdot g'(x)}{(g(x))^2}\n",
        "$$\n",
        "\n",
        "Using the definition of the derivative, consider the derivative of the quotient:\n",
        "\n",
        "$$\n",
        "\\left( \\frac{f}{g} \\right)'(x) = \\lim_{h \\to 0} \\frac{\\frac{f(x + h)}{g(x + h)} - \\frac{f(x)}{g(x)}}{h}\n",
        "$$\n",
        "\n",
        "Expanding the expression, we get:\n",
        "\n",
        "$$\n",
        "\\left( \\frac{f}{g} \\right)'(x) = \\lim_{h \\to 0} \\frac{f(x + h) \\cdot g(x) - f(x) \\cdot g(x + h)}{h \\cdot g(x + h) \\cdot g(x)}\n",
        "$$\n",
        "\n",
        "Simplifying the numerator, we have:\n",
        "\n",
        "- The first term converges to \\(f'(x) \\cdot g(x)\\),\n",
        "- The second term converges to \\(f(x) \\cdot g'(x)\\).\n",
        "\n",
        "Thus, the quotient rule is established:\n",
        "\n",
        "$$\n",
        "\\left( \\frac{f}{g} \\right)'(x) = \\frac{f'(x) \\cdot g(x) - f(x) \\cdot g'(x)}{(g(x))^2}\n",
        "$$\n",
        "\n",
        "These derivations demonstrate the product, sum, and quotient rules for derivatives using the limit-based definition of derivatives.\n"
      ],
      "metadata": {
        "id": "DPpNYwPp_cpa"
      },
      "id": "DPpNYwPp_cpa"
    },
    {
      "cell_type": "markdown",
      "source": [
        "3. Prove that the constant multiple rule follows as a special case of the product rule.\n",
        "\n",
        "# Constant Multiple Rule as a Special Case of the Product Rule\n",
        "\n",
        "## Product Rule\n",
        "\n",
        "The product rule states that for two differentiable functions \\(f(x)\\) and \\(g(x)\\), the derivative of their product is:\n",
        "\n",
        "$$\n",
        "(f \\cdot g)'(x) = f'(x) \\cdot g(x) + f(x) \\cdot g'(x)\n",
        "$$\n",
        "\n",
        "## Constant Multiple Rule\n",
        "\n",
        "The constant multiple rule states that if \\(f(x)\\) is a differentiable function and \\(c\\) is a constant, then the derivative of the function \\(c \\cdot f(x)\\) is:\n",
        "\n",
        "$$\n",
        "(c \\cdot f)'(x) = c \\cdot f'(x)\n",
        "$$\n",
        "\n",
        "## Proof Using the Product Rule\n",
        "\n",
        "Let's consider a constant \\(c\\) and a differentiable function \\(f(x)\\). If we apply the product rule to the functions \\(f(x)\\) and \\(c\\), we get:\n",
        "\n",
        "$$\n",
        "(c \\cdot f)'(x) = f'(x) \\cdot c + f(x) \\cdot 0\n",
        "$$\n",
        "\n",
        "Because \\(g(x) = c\\), its derivative is zero, so \\(g'(x) = 0\\). Plugging into the product rule, we have:\n",
        "\n",
        "$$\n",
        "(c \\cdot f)'(x) = c \\cdot f'(x)\n",
        "$$\n",
        "\n",
        "### Conclusion\n",
        "\n",
        "Thus, the constant multiple rule follows as a special case of the product rule, showing that the derivative of a constant times a function is the constant times the derivative of the function.\n"
      ],
      "metadata": {
        "id": "HZQ76hNZh4hz"
      },
      "id": "HZQ76hNZh4hz"
    },
    {
      "cell_type": "markdown",
      "source": [
        "4. Calculate the derivative of $f(x) = x^x$.\n",
        "\n",
        "# Derivative of \\(f(x) = x^x\\)\n",
        "\n",
        "The derivative of \\(f(x) = x^x\\) can be found using the logarithmic differentiation method.\n",
        "\n",
        "## Step 1: Take the Natural Logarithm\n",
        "\n",
        "Take the natural logarithm of both sides of the equation \\(y = x^x\\):\n",
        "\n",
        "$$\n",
        "\\ln(y) = \\ln(x^x) = x \\cdot \\ln(x)\n",
        "$$\n",
        "\n",
        "## Step 2: Differentiate Implicitly\n",
        "\n",
        "Differentiating both sides with respect to \\(x\\), using the product rule, we have:\n",
        "\n",
        "$$\n",
        "\\frac{d}{dx}(x \\cdot \\ln(x)) = \\ln(x) + 1\n",
        "$$\n",
        "\n",
        "Thus, the derivative of the logarithmic form is:\n",
        "\n",
        "$$\n",
        "\\frac{d}{dx}(\\ln(y)) = \\frac{y'}{y} = \\ln(x) + 1\n",
        "$$\n",
        "\n",
        "## Step 3: Solve for \\(y'\\)\n",
        "\n",
        "To find \\(y'\\), multiply both sides by \\(y\\):\n",
        "\n",
        "$$\n",
        "y' = y \\cdot (\\ln(x) + 1)\n",
        "$$\n",
        "\n",
        "Since \\(y = x^x\\), the derivative can be written as:\n",
        "\n",
        "$$\n",
        "f'(x) = x^x \\cdot (\\ln(x) + 1)\n",
        "$$\n",
        "\n",
        "Thus, the derivative of \\(f(x) = x^x\\) is \\(f'(x) = x^x \\cdot (\\ln(x) + 1)\\)."
      ],
      "metadata": {
        "id": "ihSVfaMzsg46"
      },
      "id": "ihSVfaMzsg46"
    },
    {
      "cell_type": "code",
      "source": [
        "# Import sympy for symbolic mathematics\n",
        "import sympy as sp\n",
        "\n",
        "# Define the variable x\n",
        "x = sp.symbols('x')\n",
        "\n",
        "# Define the function f(x) = x^x\n",
        "f = x**x\n",
        "\n",
        "# Calculate the derivative of f(x)\n",
        "f_prime = sp.diff(f, x)\n",
        "\n",
        "# Display the derivative\n",
        "f_prime"
      ],
      "metadata": {
        "id": "XRrZRsHgu9vR",
        "outputId": "0e3e9c3f-bf75-4f14-fe2d-95f7580f4808",
        "colab": {
          "base_uri": "https://localhost:8080/",
          "height": 39
        }
      },
      "id": "XRrZRsHgu9vR",
      "execution_count": 1,
      "outputs": [
        {
          "output_type": "execute_result",
          "data": {
            "text/plain": [
              "x**x*(log(x) + 1)"
            ],
            "text/latex": "$\\displaystyle x^{x} \\left(\\log{\\left(x \\right)} + 1\\right)$"
          },
          "metadata": {},
          "execution_count": 1
        }
      ]
    },
    {
      "cell_type": "markdown",
      "source": [
        "5. What does it mean that $f'(x) = 0$ for some $x$?\n",
        "   Give an example of a function $f$\n",
        "   and a location $x$ for which this might hold."
      ],
      "metadata": {
        "id": "NjqMQMFcvMVh"
      },
      "id": "NjqMQMFcvMVh"
    },
    {
      "cell_type": "code",
      "source": [
        "# Import the necessary libraries\n",
        "import numpy as np\n",
        "import matplotlib.pyplot as plt\n",
        "\n",
        "# Define the variable x\n",
        "x = sp.symbols('x')\n",
        "\n",
        "# Example function 1: f(x) = x^2\n",
        "f1 = x**2\n",
        "\n",
        "# Calculate the derivative of f(x)\n",
        "f1_prime = sp.diff(f1, x)\n",
        "\n",
        "# Solve for where the derivative is zero\n",
        "x_zeros_f1 = sp.solve(f1_prime, x)\n",
        "\n",
        "print(\"Derivative of f(x) = x^2:\", f1_prime)\n",
        "print(\"Points where the derivative is zero:\", x_zeros_f1)\n",
        "\n",
        "# Example function 2: f(x) = x^3\n",
        "f2 = x**3\n",
        "\n",
        "# Calculate the derivative of f(x)\n",
        "f2_prime = sp.diff(f2, x)\n",
        "\n",
        "# Solve for where the derivative is zero\n",
        "x_zeros_f2 = sp.solve(f2_prime, x)\n",
        "\n",
        "print(\"Derivative of f(x) = x^3:\", f2_prime)\n",
        "print(\"Points where the derivative is zero:\", x_zeros_f2)\n",
        "\n",
        "# Create x-values for the plots\n",
        "x_vals = np.linspace(-2, 2, 100)\n",
        "\n",
        "# Create y-values for each function\n",
        "y_vals_f1 = np.power(x_vals, 2)  # f(x) = x^2\n",
        "y_vals_f2 = np.power(x_vals, 3)  # f(x) = x^3\n",
        "\n",
        "# Plot the functions\n",
        "plt.figure(figsize=(10, 5))\n",
        "\n",
        "# Plot f(x) = x^2 with the zero-derivative point\n",
        "plt.subplot(1, 2, 1)\n",
        "plt.plot(x_vals, y_vals_f1, label='f(x) = x^2')\n",
        "plt.scatter([0], [0], color='red', zorder=5, label=\"f'(x) = 0\")\n",
        "plt.xlabel('x')\n",
        "plt.ylabel('f(x)')\n",
        "plt.title('f(x) = x^2')\n",
        "plt.legend()\n",
        "plt.grid(True)\n",
        "\n",
        "# Plot f(x) = x^3 with the zero-derivative point\n",
        "plt.subplot(1, 2, 2)\n",
        "plt.plot(x_vals, y_vals_f2, label='f(x) = x^3')\n",
        "plt.scatter([0], [0], color='red', zorder=5, label=\"f'(x) = 0\")\n",
        "plt.xlabel('x')\n",
        "plt.ylabel('f(x)')\n",
        "plt.title('f(x) = x^3')\n",
        "plt.legend()\n",
        "plt.grid(True)\n",
        "\n",
        "# Display the plots\n",
        "plt.tight_layout()\n",
        "plt.show()"
      ],
      "metadata": {
        "id": "nlg_b2_O5B0n",
        "outputId": "08cb0303-ee85-43c9-c5fa-fde89f50fc91",
        "colab": {
          "base_uri": "https://localhost:8080/",
          "height": 578
        }
      },
      "id": "nlg_b2_O5B0n",
      "execution_count": 2,
      "outputs": [
        {
          "output_type": "stream",
          "name": "stdout",
          "text": [
            "Derivative of f(x) = x^2: 2*x\n",
            "Points where the derivative is zero: [0]\n",
            "Derivative of f(x) = x^3: 3*x**2\n",
            "Points where the derivative is zero: [0]\n"
          ]
        },
        {
          "output_type": "display_data",
          "data": {
            "text/plain": [
              "<Figure size 1000x500 with 2 Axes>"
            ],
            "image/png": "[encoded data removed]"
          },
          "metadata": {}
        }
      ]
    },
    {
      "cell_type": "markdown",
      "source": [
        "# What Does It Mean When \\(f'(x) = 0\\)?\n",
        "\n",
        "When a function's derivative is zero at some point, it indicates that the function has a horizontal tangent line at that point. This can imply that the function is neither increasing nor decreasing, suggesting the possibility of a local minimum, local maximum, or an inflection point.\n",
        "\n",
        "## Example 1: \\(f(x) = x^2\\)\n",
        "\n",
        "To find the derivative of \\(f(x) = x^2\\), we calculate:\n",
        "\n",
        "$$\n",
        "f'(x) = 2x\n",
        "$$\n",
        "\n",
        "Setting this derivative to zero:\n",
        "\n",
        "$$\n",
        "2x = 0 \\quad \\Rightarrow \\quad x = 0\n",
        "$$\n",
        "\n",
        "Here, the derivative is zero at \\(x = 0\\), suggesting that the function has a horizontal tangent at this point. Looking at \\(f(x) = x^2\\), this point is a **local minimum**.\n",
        "\n",
        "## Example 2: \\(f(x) = x^3\\)\n",
        "\n",
        "Similarly, for \\(f(x) = x^3\\), the derivative is:\n",
        "\n",
        "$$\n",
        "f'(x) = 3x^2\n",
        "$$\n",
        "\n",
        "Again, setting this to zero:\n",
        "\n",
        "$$\n",
        "3x^2 = 0 \\quad \\Rightarrow \\quad x = 0\n",
        "$$\n",
        "\n",
        "In this case, the derivative is zero at \\(x = 0\\), which indicates an inflection point. This means the curvature of the function changes, but it does not necessarily represent a maximum or minimum.\n",
        "\n",
        "## Summary\n",
        "\n",
        "When \\(f'(x) = 0\\), the function has a horizontal tangent at that point. This can signify a local maximum, local minimum, or inflection point, depending on the behavior of the function around that point.\n"
      ],
      "metadata": {
        "id": "3PDBMoTQ5REi"
      },
      "id": "3PDBMoTQ5REi"
    },
    {
      "cell_type": "markdown",
      "source": [
        "6. Plot the function $y = f(x) = x^3 - \\frac{1}{x}$\n",
        "   and plot its tangent line at $x = 1$."
      ],
      "metadata": {
        "id": "LW1TTSBY6usk"
      },
      "id": "LW1TTSBY6usk"
    },
    {
      "cell_type": "code",
      "source": [
        "# Import necessary libraries\n",
        "import sympy as sp\n",
        "import numpy as np\n",
        "import matplotlib.pyplot as plt\n",
        "\n",
        "# Define the variable\n",
        "x = sp.symbols('x')\n",
        "\n",
        "# Define the function f(x)\n",
        "f = x**3 - 1/x\n",
        "\n",
        "# Derivative of f(x)\n",
        "f_prime = sp.diff(f, x)\n",
        "\n",
        "# Calculate the slope at x = 1\n",
        "slope_at_1 = f_prime.subs(x, 1).evalf()\n",
        "\n",
        "# Calculate the function value at x = 1\n",
        "f_at_1 = f.subs(x, 1).evalf()\n",
        "\n",
        "# Point-slope form: y - y1 = m * (x - x1)\n",
        "# Here, m = slope_at_1, x1 = 1, y1 = f_at_1\n",
        "tangent_line = slope_at_1 * (x - 1) + f_at_1\n",
        "\n",
        "# Generate x and y values for plotting\n",
        "x_vals = np.linspace(-2, 2, 100)\n",
        "y_vals = [f.subs(x, xv).evalf() for xv in x_vals]\n",
        "tangent_vals = [tangent_line.subs(x, xv).evalf() for xv in x_vals]\n",
        "\n",
        "# Plot the function and the tangent line\n",
        "plt.figure(figsize=(8, 6))\n",
        "plt.plot(x_vals, y_vals, label='y = x^3 - 1/x')\n",
        "plt.plot(x_vals, tangent_vals, 'r--', label='Tangent at x = 1')  # Red dashed line for the tangent\n",
        "plt.scatter([1], [f_at_1], color='red', label='Point of tangency (x = 1)')  # Marking the point of tangency\n",
        "plt.xlabel('x')\n",
        "plt.ylabel('y')\n",
        "plt.title('Function and Tangent Line at x = 1')\n",
        "plt.legend()\n",
        "plt.grid(True)\n",
        "plt.show()\n"
      ],
      "metadata": {
        "id": "vATDw3-D51DM",
        "outputId": "38386c35-fc4c-43e1-9eca-13b6a316ea09",
        "colab": {
          "base_uri": "https://localhost:8080/",
          "height": 564
        }
      },
      "id": "vATDw3-D51DM",
      "execution_count": 6,
      "outputs": [
        {
          "output_type": "display_data",
          "data": {
            "text/plain": [
              "<Figure size 800x600 with 1 Axes>"
            ],
            "image/png": "[encoded data removed]"
          },
          "metadata": {}
        }
      ]
    },
    {
      "cell_type": "markdown",
      "source": [
        "7. Find the gradient of the function\n",
        "   $f(\\mathbf{x}) = 3x_1^2 + 5e^{x_2}$.\n",
        "\n",
        "# Gradient of the Function $(f(\\mathbf{x}) = 3x_1^2 + 5e^{x_2})$\n",
        "\n",
        "To find the gradient of the function $(f(\\mathbf{x}) = 3x_1^2 + 5e^{x_2})$, we calculate the partial derivatives with respect to each variable, then combine them into a gradient vector.\n",
        "\n",
        "## Partial Derivatives\n",
        "\n",
        "The partial derivative with respect to $(x_1)$ is:\n",
        "\n",
        "$$\n",
        "\\frac{\\partial}{\\partial{x_1}}(3x_1^2 + 5e^{x_2}) = 6x_1\n",
        "$$\n",
        "\n",
        "The partial derivative with respect to $(x_2)$ is:\n",
        "\n",
        "$$\n",
        "\\frac{\\partial}{\\partial{x_2}}(3x_1^2 + 5e^{x_2}) = 5e^{x_2}\n",
        "$$\n",
        "\n",
        "## Gradient of the Function\n",
        "\n",
        "The gradient is a vector consisting of the partial derivatives with respect to each variable. Thus, the gradient of $(f(\\mathbf{x}) = 3x_1^2 + 5e^{x_2})$ is:\n",
        "\n",
        "$$\n",
        "\\nabla f(\\mathbf{x}) = \\begin{pmatrix}\n",
        "6x_1 \\\\\n",
        "5e^{x_2}\n",
        "\\end{pmatrix}\n",
        "$$"
      ],
      "metadata": {
        "id": "dXQURst9rj34"
      },
      "id": "dXQURst9rj34"
    },
    {
      "cell_type": "code",
      "source": [
        "# Define the symbols for the variables x1 and x2\n",
        "x1, x2 = sp.symbols('x1 x2')\n",
        "\n",
        "# Define the function f(x) = 3x1^2 + 5e^(x2)\n",
        "f = 3 * x1**2 + 5 * sp.exp(x2)\n",
        "\n",
        "# Calculate the gradient\n",
        "gradient = [sp.diff(f, x1), sp.diff(f, x2)]\n",
        "\n",
        "# Output the gradient\n",
        "gradient  # This should return [6*x1, 5*exp(x2)]"
      ],
      "metadata": {
        "id": "1FPKbViEDPXy",
        "outputId": "4f737c30-528f-4ec9-ac64-74727f1c364a",
        "colab": {
          "base_uri": "https://localhost:8080/"
        }
      },
      "id": "1FPKbViEDPXy",
      "execution_count": 15,
      "outputs": [
        {
          "output_type": "execute_result",
          "data": {
            "text/plain": [
              "[6*x1, 5*exp(x2)]"
            ]
          },
          "metadata": {},
          "execution_count": 15
        }
      ]
    },
    {
      "cell_type": "markdown",
      "id": "e6a8d8e9",
      "metadata": {
        "origin_pos": 25,
        "tab": [
          "pytorch"
        ],
        "id": "e6a8d8e9"
      },
      "source": [
        "[Discussions](https://discuss.d2l.ai/t/33)\n"
      ]
    }
  ],
  "metadata": {
    "kernelspec": {
      "display_name": "Python 3",
      "name": "python3"
    },
    "language_info": {
      "name": "python"
    },
    "required_libs": [],
    "colab": {
      "provenance": []
    }
  },
  "nbformat": 4,
  "nbformat_minor": 5
}