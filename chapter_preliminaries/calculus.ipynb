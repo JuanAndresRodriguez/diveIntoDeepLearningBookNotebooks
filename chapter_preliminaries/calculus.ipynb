{
  "cells": [
    {
      "cell_type": "markdown",
      "id": "dd9d27db",
      "metadata": {
        "id": "dd9d27db"
      },
      "source": [
        "The following additional libraries are needed to run this\n",
        "notebook. Note that running on Colab is experimental, please report a Github\n",
        "issue if you have any problem."
      ]
    },
    {
      "cell_type": "code",
      "execution_count": 1,
      "id": "fb87274e",
      "metadata": {
        "id": "fb87274e",
        "outputId": "eab59355-9933-4543-a46d-8072309b3ac8",
        "colab": {
          "base_uri": "https://localhost:8080/"
        }
      },
      "outputs": [
        {
          "output_type": "stream",
          "name": "stdout",
          "text": [
            "Requirement already satisfied: d2l==1.0.3 in /usr/local/lib/python3.10/dist-packages (1.0.3)\n",
            "Requirement already satisfied: jupyter==1.0.0 in /usr/local/lib/python3.10/dist-packages (from d2l==1.0.3) (1.0.0)\n",
            "Requirement already satisfied: numpy==1.23.5 in /usr/local/lib/python3.10/dist-packages (from d2l==1.0.3) (1.23.5)\n",
            "Requirement already satisfied: matplotlib==3.7.2 in /usr/local/lib/python3.10/dist-packages (from d2l==1.0.3) (3.7.2)\n",
            "Requirement already satisfied: matplotlib-inline==0.1.6 in /usr/local/lib/python3.10/dist-packages (from d2l==1.0.3) (0.1.6)\n",
            "Requirement already satisfied: requests==2.31.0 in /usr/local/lib/python3.10/dist-packages (from d2l==1.0.3) (2.31.0)\n",
            "Requirement already satisfied: pandas==2.0.3 in /usr/local/lib/python3.10/dist-packages (from d2l==1.0.3) (2.0.3)\n",
            "Requirement already satisfied: scipy==1.10.1 in /usr/local/lib/python3.10/dist-packages (from d2l==1.0.3) (1.10.1)\n",
            "Requirement already satisfied: notebook in /usr/local/lib/python3.10/dist-packages (from jupyter==1.0.0->d2l==1.0.3) (6.5.5)\n",
            "Requirement already satisfied: qtconsole in /usr/local/lib/python3.10/dist-packages (from jupyter==1.0.0->d2l==1.0.3) (5.5.2)\n",
            "Requirement already satisfied: jupyter-console in /usr/local/lib/python3.10/dist-packages (from jupyter==1.0.0->d2l==1.0.3) (6.1.0)\n",
            "Requirement already satisfied: nbconvert in /usr/local/lib/python3.10/dist-packages (from jupyter==1.0.0->d2l==1.0.3) (6.5.4)\n",
            "Requirement already satisfied: ipykernel in /usr/local/lib/python3.10/dist-packages (from jupyter==1.0.0->d2l==1.0.3) (5.5.6)\n",
            "Requirement already satisfied: ipywidgets in /usr/local/lib/python3.10/dist-packages (from jupyter==1.0.0->d2l==1.0.3) (7.7.1)\n",
            "Requirement already satisfied: contourpy>=1.0.1 in /usr/local/lib/python3.10/dist-packages (from matplotlib==3.7.2->d2l==1.0.3) (1.2.1)\n",
            "Requirement already satisfied: cycler>=0.10 in /usr/local/lib/python3.10/dist-packages (from matplotlib==3.7.2->d2l==1.0.3) (0.12.1)\n",
            "Requirement already satisfied: fonttools>=4.22.0 in /usr/local/lib/python3.10/dist-packages (from matplotlib==3.7.2->d2l==1.0.3) (4.52.4)\n",
            "Requirement already satisfied: kiwisolver>=1.0.1 in /usr/local/lib/python3.10/dist-packages (from matplotlib==3.7.2->d2l==1.0.3) (1.4.5)\n",
            "Requirement already satisfied: packaging>=20.0 in /usr/local/lib/python3.10/dist-packages (from matplotlib==3.7.2->d2l==1.0.3) (24.0)\n",
            "Requirement already satisfied: pillow>=6.2.0 in /usr/local/lib/python3.10/dist-packages (from matplotlib==3.7.2->d2l==1.0.3) (9.4.0)\n",
            "Requirement already satisfied: pyparsing<3.1,>=2.3.1 in /usr/local/lib/python3.10/dist-packages (from matplotlib==3.7.2->d2l==1.0.3) (3.0.9)\n",
            "Requirement already satisfied: python-dateutil>=2.7 in /usr/local/lib/python3.10/dist-packages (from matplotlib==3.7.2->d2l==1.0.3) (2.8.2)\n",
            "Requirement already satisfied: traitlets in /usr/local/lib/python3.10/dist-packages (from matplotlib-inline==0.1.6->d2l==1.0.3) (5.7.1)\n",
            "Requirement already satisfied: pytz>=2020.1 in /usr/local/lib/python3.10/dist-packages (from pandas==2.0.3->d2l==1.0.3) (2023.4)\n",
            "Requirement already satisfied: tzdata>=2022.1 in /usr/local/lib/python3.10/dist-packages (from pandas==2.0.3->d2l==1.0.3) (2024.1)\n",
            "Requirement already satisfied: charset-normalizer<4,>=2 in /usr/local/lib/python3.10/dist-packages (from requests==2.31.0->d2l==1.0.3) (3.3.2)\n",
            "Requirement already satisfied: idna<4,>=2.5 in /usr/local/lib/python3.10/dist-packages (from requests==2.31.0->d2l==1.0.3) (3.7)\n",
            "Requirement already satisfied: urllib3<3,>=1.21.1 in /usr/local/lib/python3.10/dist-packages (from requests==2.31.0->d2l==1.0.3) (2.0.7)\n",
            "Requirement already satisfied: certifi>=2017.4.17 in /usr/local/lib/python3.10/dist-packages (from requests==2.31.0->d2l==1.0.3) (2024.2.2)\n",
            "Requirement already satisfied: six>=1.5 in /usr/local/lib/python3.10/dist-packages (from python-dateutil>=2.7->matplotlib==3.7.2->d2l==1.0.3) (1.16.0)\n",
            "Requirement already satisfied: ipython-genutils in /usr/local/lib/python3.10/dist-packages (from ipykernel->jupyter==1.0.0->d2l==1.0.3) (0.2.0)\n",
            "Requirement already satisfied: ipython>=5.0.0 in /usr/local/lib/python3.10/dist-packages (from ipykernel->jupyter==1.0.0->d2l==1.0.3) (7.34.0)\n",
            "Requirement already satisfied: jupyter-client in /usr/local/lib/python3.10/dist-packages (from ipykernel->jupyter==1.0.0->d2l==1.0.3) (6.1.12)\n",
            "Requirement already satisfied: tornado>=4.2 in /usr/local/lib/python3.10/dist-packages (from ipykernel->jupyter==1.0.0->d2l==1.0.3) (6.3.3)\n",
            "Requirement already satisfied: widgetsnbextension~=3.6.0 in /usr/local/lib/python3.10/dist-packages (from ipywidgets->jupyter==1.0.0->d2l==1.0.3) (3.6.6)\n",
            "Requirement already satisfied: jupyterlab-widgets>=1.0.0 in /usr/local/lib/python3.10/dist-packages (from ipywidgets->jupyter==1.0.0->d2l==1.0.3) (3.0.11)\n",
            "Requirement already satisfied: prompt-toolkit!=3.0.0,!=3.0.1,<3.1.0,>=2.0.0 in /usr/local/lib/python3.10/dist-packages (from jupyter-console->jupyter==1.0.0->d2l==1.0.3) (3.0.45)\n",
            "Requirement already satisfied: pygments in /usr/local/lib/python3.10/dist-packages (from jupyter-console->jupyter==1.0.0->d2l==1.0.3) (2.16.1)\n",
            "Requirement already satisfied: lxml in /usr/local/lib/python3.10/dist-packages (from nbconvert->jupyter==1.0.0->d2l==1.0.3) (4.9.4)\n",
            "Requirement already satisfied: beautifulsoup4 in /usr/local/lib/python3.10/dist-packages (from nbconvert->jupyter==1.0.0->d2l==1.0.3) (4.12.3)\n",
            "Requirement already satisfied: bleach in /usr/local/lib/python3.10/dist-packages (from nbconvert->jupyter==1.0.0->d2l==1.0.3) (6.1.0)\n",
            "Requirement already satisfied: defusedxml in /usr/local/lib/python3.10/dist-packages (from nbconvert->jupyter==1.0.0->d2l==1.0.3) (0.7.1)\n",
            "Requirement already satisfied: entrypoints>=0.2.2 in /usr/local/lib/python3.10/dist-packages (from nbconvert->jupyter==1.0.0->d2l==1.0.3) (0.4)\n",
            "Requirement already satisfied: jinja2>=3.0 in /usr/local/lib/python3.10/dist-packages (from nbconvert->jupyter==1.0.0->d2l==1.0.3) (3.1.4)\n",
            "Requirement already satisfied: jupyter-core>=4.7 in /usr/local/lib/python3.10/dist-packages (from nbconvert->jupyter==1.0.0->d2l==1.0.3) (5.7.2)\n",
            "Requirement already satisfied: jupyterlab-pygments in /usr/local/lib/python3.10/dist-packages (from nbconvert->jupyter==1.0.0->d2l==1.0.3) (0.3.0)\n",
            "Requirement already satisfied: MarkupSafe>=2.0 in /usr/local/lib/python3.10/dist-packages (from nbconvert->jupyter==1.0.0->d2l==1.0.3) (2.1.5)\n",
            "Requirement already satisfied: mistune<2,>=0.8.1 in /usr/local/lib/python3.10/dist-packages (from nbconvert->jupyter==1.0.0->d2l==1.0.3) (0.8.4)\n",
            "Requirement already satisfied: nbclient>=0.5.0 in /usr/local/lib/python3.10/dist-packages (from nbconvert->jupyter==1.0.0->d2l==1.0.3) (0.10.0)\n",
            "Requirement already satisfied: nbformat>=5.1 in /usr/local/lib/python3.10/dist-packages (from nbconvert->jupyter==1.0.0->d2l==1.0.3) (5.10.4)\n",
            "Requirement already satisfied: pandocfilters>=1.4.1 in /usr/local/lib/python3.10/dist-packages (from nbconvert->jupyter==1.0.0->d2l==1.0.3) (1.5.1)\n",
            "Requirement already satisfied: tinycss2 in /usr/local/lib/python3.10/dist-packages (from nbconvert->jupyter==1.0.0->d2l==1.0.3) (1.3.0)\n",
            "Requirement already satisfied: pyzmq<25,>=17 in /usr/local/lib/python3.10/dist-packages (from notebook->jupyter==1.0.0->d2l==1.0.3) (24.0.1)\n",
            "Requirement already satisfied: argon2-cffi in /usr/local/lib/python3.10/dist-packages (from notebook->jupyter==1.0.0->d2l==1.0.3) (23.1.0)\n",
            "Requirement already satisfied: nest-asyncio>=1.5 in /usr/local/lib/python3.10/dist-packages (from notebook->jupyter==1.0.0->d2l==1.0.3) (1.6.0)\n",
            "Requirement already satisfied: Send2Trash>=1.8.0 in /usr/local/lib/python3.10/dist-packages (from notebook->jupyter==1.0.0->d2l==1.0.3) (1.8.3)\n",
            "Requirement already satisfied: terminado>=0.8.3 in /usr/local/lib/python3.10/dist-packages (from notebook->jupyter==1.0.0->d2l==1.0.3) (0.18.1)\n",
            "Requirement already satisfied: prometheus-client in /usr/local/lib/python3.10/dist-packages (from notebook->jupyter==1.0.0->d2l==1.0.3) (0.20.0)\n",
            "Requirement already satisfied: nbclassic>=0.4.7 in /usr/local/lib/python3.10/dist-packages (from notebook->jupyter==1.0.0->d2l==1.0.3) (1.1.0)\n",
            "Requirement already satisfied: qtpy>=2.4.0 in /usr/local/lib/python3.10/dist-packages (from qtconsole->jupyter==1.0.0->d2l==1.0.3) (2.4.1)\n",
            "Requirement already satisfied: setuptools>=18.5 in /usr/local/lib/python3.10/dist-packages (from ipython>=5.0.0->ipykernel->jupyter==1.0.0->d2l==1.0.3) (67.7.2)\n",
            "Requirement already satisfied: jedi>=0.16 in /usr/local/lib/python3.10/dist-packages (from ipython>=5.0.0->ipykernel->jupyter==1.0.0->d2l==1.0.3) (0.19.1)\n",
            "Requirement already satisfied: decorator in /usr/local/lib/python3.10/dist-packages (from ipython>=5.0.0->ipykernel->jupyter==1.0.0->d2l==1.0.3) (4.4.2)\n",
            "Requirement already satisfied: pickleshare in /usr/local/lib/python3.10/dist-packages (from ipython>=5.0.0->ipykernel->jupyter==1.0.0->d2l==1.0.3) (0.7.5)\n",
            "Requirement already satisfied: backcall in /usr/local/lib/python3.10/dist-packages (from ipython>=5.0.0->ipykernel->jupyter==1.0.0->d2l==1.0.3) (0.2.0)\n",
            "Requirement already satisfied: pexpect>4.3 in /usr/local/lib/python3.10/dist-packages (from ipython>=5.0.0->ipykernel->jupyter==1.0.0->d2l==1.0.3) (4.9.0)\n",
            "Requirement already satisfied: platformdirs>=2.5 in /usr/local/lib/python3.10/dist-packages (from jupyter-core>=4.7->nbconvert->jupyter==1.0.0->d2l==1.0.3) (4.2.2)\n",
            "Requirement already satisfied: notebook-shim>=0.2.3 in /usr/local/lib/python3.10/dist-packages (from nbclassic>=0.4.7->notebook->jupyter==1.0.0->d2l==1.0.3) (0.2.4)\n",
            "Requirement already satisfied: fastjsonschema>=2.15 in /usr/local/lib/python3.10/dist-packages (from nbformat>=5.1->nbconvert->jupyter==1.0.0->d2l==1.0.3) (2.19.1)\n",
            "Requirement already satisfied: jsonschema>=2.6 in /usr/local/lib/python3.10/dist-packages (from nbformat>=5.1->nbconvert->jupyter==1.0.0->d2l==1.0.3) (4.19.2)\n",
            "Requirement already satisfied: wcwidth in /usr/local/lib/python3.10/dist-packages (from prompt-toolkit!=3.0.0,!=3.0.1,<3.1.0,>=2.0.0->jupyter-console->jupyter==1.0.0->d2l==1.0.3) (0.2.13)\n",
            "Requirement already satisfied: ptyprocess in /usr/local/lib/python3.10/dist-packages (from terminado>=0.8.3->notebook->jupyter==1.0.0->d2l==1.0.3) (0.7.0)\n",
            "Requirement already satisfied: argon2-cffi-bindings in /usr/local/lib/python3.10/dist-packages (from argon2-cffi->notebook->jupyter==1.0.0->d2l==1.0.3) (21.2.0)\n",
            "Requirement already satisfied: soupsieve>1.2 in /usr/local/lib/python3.10/dist-packages (from beautifulsoup4->nbconvert->jupyter==1.0.0->d2l==1.0.3) (2.5)\n",
            "Requirement already satisfied: webencodings in /usr/local/lib/python3.10/dist-packages (from bleach->nbconvert->jupyter==1.0.0->d2l==1.0.3) (0.5.1)\n",
            "Requirement already satisfied: parso<0.9.0,>=0.8.3 in /usr/local/lib/python3.10/dist-packages (from jedi>=0.16->ipython>=5.0.0->ipykernel->jupyter==1.0.0->d2l==1.0.3) (0.8.4)\n",
            "Requirement already satisfied: attrs>=22.2.0 in /usr/local/lib/python3.10/dist-packages (from jsonschema>=2.6->nbformat>=5.1->nbconvert->jupyter==1.0.0->d2l==1.0.3) (23.2.0)\n",
            "Requirement already satisfied: jsonschema-specifications>=2023.03.6 in /usr/local/lib/python3.10/dist-packages (from jsonschema>=2.6->nbformat>=5.1->nbconvert->jupyter==1.0.0->d2l==1.0.3) (2023.12.1)\n",
            "Requirement already satisfied: referencing>=0.28.4 in /usr/local/lib/python3.10/dist-packages (from jsonschema>=2.6->nbformat>=5.1->nbconvert->jupyter==1.0.0->d2l==1.0.3) (0.35.1)\n",
            "Requirement already satisfied: rpds-py>=0.7.1 in /usr/local/lib/python3.10/dist-packages (from jsonschema>=2.6->nbformat>=5.1->nbconvert->jupyter==1.0.0->d2l==1.0.3) (0.18.1)\n",
            "Requirement already satisfied: jupyter-server<3,>=1.8 in /usr/local/lib/python3.10/dist-packages (from notebook-shim>=0.2.3->nbclassic>=0.4.7->notebook->jupyter==1.0.0->d2l==1.0.3) (1.24.0)\n",
            "Requirement already satisfied: cffi>=1.0.1 in /usr/local/lib/python3.10/dist-packages (from argon2-cffi-bindings->argon2-cffi->notebook->jupyter==1.0.0->d2l==1.0.3) (1.16.0)\n",
            "Requirement already satisfied: pycparser in /usr/local/lib/python3.10/dist-packages (from cffi>=1.0.1->argon2-cffi-bindings->argon2-cffi->notebook->jupyter==1.0.0->d2l==1.0.3) (2.22)\n",
            "Requirement already satisfied: anyio<4,>=3.1.0 in /usr/local/lib/python3.10/dist-packages (from jupyter-server<3,>=1.8->notebook-shim>=0.2.3->nbclassic>=0.4.7->notebook->jupyter==1.0.0->d2l==1.0.3) (3.7.1)\n",
            "Requirement already satisfied: websocket-client in /usr/local/lib/python3.10/dist-packages (from jupyter-server<3,>=1.8->notebook-shim>=0.2.3->nbclassic>=0.4.7->notebook->jupyter==1.0.0->d2l==1.0.3) (1.8.0)\n",
            "Requirement already satisfied: sniffio>=1.1 in /usr/local/lib/python3.10/dist-packages (from anyio<4,>=3.1.0->jupyter-server<3,>=1.8->notebook-shim>=0.2.3->nbclassic>=0.4.7->notebook->jupyter==1.0.0->d2l==1.0.3) (1.3.1)\n",
            "Requirement already satisfied: exceptiongroup in /usr/local/lib/python3.10/dist-packages (from anyio<4,>=3.1.0->jupyter-server<3,>=1.8->notebook-shim>=0.2.3->nbclassic>=0.4.7->notebook->jupyter==1.0.0->d2l==1.0.3) (1.2.1)\n"
          ]
        }
      ],
      "source": [
        "!pip install d2l==1.0.3\n"
      ]
    },
    {
      "cell_type": "markdown",
      "id": "fb1c337f",
      "metadata": {
        "origin_pos": 1,
        "id": "fb1c337f"
      },
      "source": [
        "# Calculus\n",
        ":label:`sec_calculus`\n",
        "\n",
        "For a long time, how to calculate\n",
        "the area of a circle remained a mystery.\n",
        "Then, in Ancient Greece, the mathematician Archimedes\n",
        "came up with the clever idea\n",
        "to inscribe a series of polygons\n",
        "with increasing numbers of vertices\n",
        "on the inside of a circle\n",
        "(:numref:`fig_circle_area`).\n",
        "For a polygon with $n$ vertices,\n",
        "we obtain $n$ triangles.\n",
        "The height of each triangle approaches the radius $r$\n",
        "as we partition the circle more finely.\n",
        "At the same time, its base approaches $2 \\pi r/n$,\n",
        "since the ratio between arc and secant approaches 1\n",
        "for a large number of vertices.\n",
        "Thus, the area of the polygon approaches\n",
        "$n \\cdot r \\cdot \\frac{1}{2} (2 \\pi r/n) = \\pi r^2$.\n",
        "\n",
        "![Finding the area of a circle as a limit procedure.](https://github.com/d2l-ai/d2l-pytorch-colab/blob/master/img/polygon-circle.svg?raw=1)\n",
        ":label:`fig_circle_area`\n",
        "\n",
        "This limiting procedure is at the root of both\n",
        "*differential calculus* and *integral calculus*.\n",
        "The former can tell us how to increase\n",
        "or decrease a function's value by\n",
        "manipulating its arguments.\n",
        "This comes in handy for the *optimization problems*\n",
        "that we face in deep learning,\n",
        "where we repeatedly update our parameters\n",
        "in order to decrease the loss function.\n",
        "Optimization addresses how to fit our models to training data,\n",
        "and calculus is its key prerequisite.\n",
        "However, do not forget that our ultimate goal\n",
        "is to perform well on *previously unseen* data.\n",
        "That problem is called *generalization*\n",
        "and will be a key focus of other chapters.\n"
      ]
    },
    {
      "cell_type": "code",
      "execution_count": 2,
      "id": "5162883d",
      "metadata": {
        "execution": {
          "iopub.execute_input": "2023-08-18T19:31:00.158561Z",
          "iopub.status.busy": "2023-08-18T19:31:00.158199Z",
          "iopub.status.idle": "2023-08-18T19:31:03.258372Z",
          "shell.execute_reply": "2023-08-18T19:31:03.256925Z"
        },
        "origin_pos": 3,
        "tab": [
          "pytorch"
        ],
        "id": "5162883d"
      },
      "outputs": [],
      "source": [
        "%matplotlib inline\n",
        "import numpy as np\n",
        "from matplotlib_inline import backend_inline\n",
        "from d2l import torch as d2l"
      ]
    },
    {
      "cell_type": "markdown",
      "id": "8ad81b23",
      "metadata": {
        "origin_pos": 6,
        "id": "8ad81b23"
      },
      "source": [
        "## Derivatives and Differentiation\n",
        "\n",
        "Put simply, a *derivative* is the rate of change\n",
        "in a function with respect to changes in its arguments.\n",
        "Derivatives can tell us how rapidly a loss function\n",
        "would increase or decrease were we\n",
        "to *increase* or *decrease* each parameter\n",
        "by an infinitesimally small amount.\n",
        "Formally, for functions $f: \\mathbb{R} \\rightarrow \\mathbb{R}$,\n",
        "that map from scalars to scalars,\n",
        "[**the *derivative* of $f$ at a point $x$ is defined as**]\n",
        "\n",
        "(**$$f'(x) = \\lim_{h \\rightarrow 0} \\frac{f(x+h) - f(x)}{h}.$$**)\n",
        ":eqlabel:`eq_derivative`\n",
        "\n",
        "This term on the right hand side is called a *limit*\n",
        "and it tells us what happens\n",
        "to the value of an expression\n",
        "as a specified variable\n",
        "approaches a particular value.\n",
        "This limit tells us what\n",
        "the ratio between a perturbation $h$\n",
        "and the change in the function value\n",
        "$f(x + h) - f(x)$ converges to\n",
        "as we shrink its size to zero.\n",
        "\n",
        "When $f'(x)$ exists, $f$ is said\n",
        "to be *differentiable* at $x$;\n",
        "and when $f'(x)$ exists for all $x$\n",
        "on a set, e.g., the interval $[a,b]$,\n",
        "we say that $f$ is differentiable on this set.\n",
        "Not all functions are differentiable,\n",
        "including many that we wish to optimize,\n",
        "such as accuracy and the area under the\n",
        "receiving operating characteristic (AUC).\n",
        "However, because computing the derivative of the loss\n",
        "is a crucial step in nearly all\n",
        "algorithms for training deep neural networks,\n",
        "we often optimize a differentiable *surrogate* instead.\n",
        "\n",
        "\n",
        "We can interpret the derivative\n",
        "$f'(x)$\n",
        "as the *instantaneous* rate of change\n",
        "of $f(x)$ with respect to $x$.\n",
        "Let's develop some intuition with an example.\n",
        "(**Define $u = f(x) = 3x^2-4x$.**)\n"
      ]
    },
    {
      "cell_type": "code",
      "execution_count": 3,
      "id": "e351acdb",
      "metadata": {
        "execution": {
          "iopub.execute_input": "2023-08-18T19:31:03.263539Z",
          "iopub.status.busy": "2023-08-18T19:31:03.262795Z",
          "iopub.status.idle": "2023-08-18T19:31:03.267363Z",
          "shell.execute_reply": "2023-08-18T19:31:03.266349Z"
        },
        "origin_pos": 8,
        "tab": [
          "pytorch"
        ],
        "id": "e351acdb"
      },
      "outputs": [],
      "source": [
        "def f(x):\n",
        "    return 3 * x ** 2 - 4 * x"
      ]
    },
    {
      "cell_type": "markdown",
      "id": "50148144",
      "metadata": {
        "origin_pos": 11,
        "id": "50148144"
      },
      "source": [
        "[**Setting $x=1$, we see that $\\frac{f(x+h) - f(x)}{h}$**] (**approaches $2$\n",
        "as $h$ approaches $0$.**)\n",
        "While this experiment lacks\n",
        "the rigor of a mathematical proof,\n",
        "we can quickly see that indeed $f'(1) = 2$.\n"
      ]
    },
    {
      "cell_type": "code",
      "execution_count": 4,
      "id": "7b5e7cf2",
      "metadata": {
        "execution": {
          "iopub.execute_input": "2023-08-18T19:31:03.271432Z",
          "iopub.status.busy": "2023-08-18T19:31:03.270665Z",
          "iopub.status.idle": "2023-08-18T19:31:03.276568Z",
          "shell.execute_reply": "2023-08-18T19:31:03.275548Z"
        },
        "origin_pos": 12,
        "tab": [
          "pytorch"
        ],
        "id": "7b5e7cf2",
        "outputId": "ba427c9c-5f62-41cc-e3c7-0cd4ca250392",
        "colab": {
          "base_uri": "https://localhost:8080/"
        }
      },
      "outputs": [
        {
          "output_type": "stream",
          "name": "stdout",
          "text": [
            "h=0.10000, numerical limit=2.30000\n",
            "h=0.01000, numerical limit=2.03000\n",
            "h=0.00100, numerical limit=2.00300\n",
            "h=0.00010, numerical limit=2.00030\n",
            "h=0.00001, numerical limit=2.00003\n"
          ]
        }
      ],
      "source": [
        "for h in 10.0**np.arange(-1, -6, -1):\n",
        "    print(f'h={h:.5f}, numerical limit={(f(1+h)-f(1))/h:.5f}')"
      ]
    },
    {
      "cell_type": "markdown",
      "id": "0be7fece",
      "metadata": {
        "origin_pos": 13,
        "id": "0be7fece"
      },
      "source": [
        "There are several equivalent notational conventions for derivatives.\n",
        "Given $y = f(x)$, the following expressions are equivalent:\n",
        "\n",
        "$$f'(x) = y' = \\frac{dy}{dx} = \\frac{df}{dx} = \\frac{d}{dx} f(x) = Df(x) = D_x f(x),$$\n",
        "\n",
        "where the symbols $\\frac{d}{dx}$ and $D$ are *differentiation operators*.\n",
        "Below, we present the derivatives of some common functions:\n",
        "\n",
        "$$\\begin{aligned} \\frac{d}{dx} C & = 0 && \\textrm{for any constant $C$} \\\\ \\frac{d}{dx} x^n & = n x^{n-1} && \\textrm{for } n \\neq 0 \\\\ \\frac{d}{dx} e^x & = e^x \\\\ \\frac{d}{dx} \\ln x & = x^{-1}. \\end{aligned}$$\n",
        "\n",
        "Functions composed from differentiable functions\n",
        "are often themselves differentiable.\n",
        "The following rules come in handy\n",
        "for working with compositions\n",
        "of any differentiable functions\n",
        "$f$ and $g$, and constant $C$.\n",
        "\n",
        "$$\\begin{aligned} \\frac{d}{dx} [C f(x)] & = C \\frac{d}{dx} f(x) && \\textrm{Constant multiple rule} \\\\ \\frac{d}{dx} [f(x) + g(x)] & = \\frac{d}{dx} f(x) + \\frac{d}{dx} g(x) && \\textrm{Sum rule} \\\\ \\frac{d}{dx} [f(x) g(x)] & = f(x) \\frac{d}{dx} g(x) + g(x) \\frac{d}{dx} f(x) && \\textrm{Product rule} \\\\ \\frac{d}{dx} \\frac{f(x)}{g(x)} & = \\frac{g(x) \\frac{d}{dx} f(x) - f(x) \\frac{d}{dx} g(x)}{g^2(x)} && \\textrm{Quotient rule} \\end{aligned}$$\n",
        "\n",
        "Using this, we can apply the rules\n",
        "to find the derivative of $3 x^2 - 4x$ via\n",
        "\n",
        "$$\\frac{d}{dx} [3 x^2 - 4x] = 3 \\frac{d}{dx} x^2 - 4 \\frac{d}{dx} x = 6x - 4.$$\n",
        "\n",
        "Plugging in $x = 1$ shows that, indeed,\n",
        "the derivative equals $2$ at this location.\n",
        "Note that derivatives tell us\n",
        "the *slope* of a function\n",
        "at a particular location.  \n",
        "\n",
        "## Visualization Utilities\n",
        "\n",
        "[**We can visualize the slopes of functions using the `matplotlib` library**].\n",
        "We need to define a few functions.\n",
        "As its name indicates, `use_svg_display`\n",
        "tells `matplotlib` to output graphics\n",
        "in SVG format for crisper images.\n",
        "The comment `#@save` is a special modifier\n",
        "that allows us to save any function,\n",
        "class, or other code block to the `d2l` package\n",
        "so that we can invoke it later\n",
        "without repeating the code,\n",
        "e.g., via `d2l.use_svg_display()`.\n"
      ]
    },
    {
      "cell_type": "code",
      "execution_count": 5,
      "id": "70d92d2a",
      "metadata": {
        "execution": {
          "iopub.execute_input": "2023-08-18T19:31:03.280403Z",
          "iopub.status.busy": "2023-08-18T19:31:03.280065Z",
          "iopub.status.idle": "2023-08-18T19:31:03.284973Z",
          "shell.execute_reply": "2023-08-18T19:31:03.283950Z"
        },
        "origin_pos": 14,
        "tab": [
          "pytorch"
        ],
        "id": "70d92d2a"
      },
      "outputs": [],
      "source": [
        "def use_svg_display():  #@save\n",
        "    \"\"\"Use the svg format to display a plot in Jupyter.\"\"\"\n",
        "    backend_inline.set_matplotlib_formats('svg')"
      ]
    },
    {
      "cell_type": "markdown",
      "id": "ef7c490f",
      "metadata": {
        "origin_pos": 15,
        "id": "ef7c490f"
      },
      "source": [
        "Conveniently, we can set figure sizes with `set_figsize`.\n",
        "Since the import statement `from matplotlib import pyplot as plt`\n",
        "was marked via `#@save` in the `d2l` package, we can call `d2l.plt`.\n"
      ]
    },
    {
      "cell_type": "code",
      "execution_count": 6,
      "id": "c868cdf6",
      "metadata": {
        "execution": {
          "iopub.execute_input": "2023-08-18T19:31:03.289140Z",
          "iopub.status.busy": "2023-08-18T19:31:03.288531Z",
          "iopub.status.idle": "2023-08-18T19:31:03.293764Z",
          "shell.execute_reply": "2023-08-18T19:31:03.292757Z"
        },
        "origin_pos": 16,
        "tab": [
          "pytorch"
        ],
        "id": "c868cdf6"
      },
      "outputs": [],
      "source": [
        "def set_figsize(figsize=(3.5, 2.5)):  #@save\n",
        "    \"\"\"Set the figure size for matplotlib.\"\"\"\n",
        "    use_svg_display()\n",
        "    d2l.plt.rcParams['figure.figsize'] = figsize"
      ]
    },
    {
      "cell_type": "markdown",
      "id": "f2bd084c",
      "metadata": {
        "origin_pos": 17,
        "id": "f2bd084c"
      },
      "source": [
        "The `set_axes` function can associate axes\n",
        "with properties, including labels, ranges,\n",
        "and scales.\n"
      ]
    },
    {
      "cell_type": "code",
      "execution_count": 7,
      "id": "8860f929",
      "metadata": {
        "execution": {
          "iopub.execute_input": "2023-08-18T19:31:03.297796Z",
          "iopub.status.busy": "2023-08-18T19:31:03.297092Z",
          "iopub.status.idle": "2023-08-18T19:31:03.303068Z",
          "shell.execute_reply": "2023-08-18T19:31:03.302068Z"
        },
        "origin_pos": 18,
        "tab": [
          "pytorch"
        ],
        "id": "8860f929"
      },
      "outputs": [],
      "source": [
        "#@save\n",
        "def set_axes(axes, xlabel, ylabel, xlim, ylim, xscale, yscale, legend):\n",
        "    \"\"\"Set the axes for matplotlib.\"\"\"\n",
        "    axes.set_xlabel(xlabel), axes.set_ylabel(ylabel)\n",
        "    axes.set_xscale(xscale), axes.set_yscale(yscale)\n",
        "    axes.set_xlim(xlim),     axes.set_ylim(ylim)\n",
        "    if legend:\n",
        "        axes.legend(legend)\n",
        "    axes.grid()"
      ]
    },
    {
      "cell_type": "markdown",
      "id": "d8825398",
      "metadata": {
        "origin_pos": 19,
        "id": "d8825398"
      },
      "source": [
        "With these three functions, we can define a `plot` function\n",
        "to overlay multiple curves.\n",
        "Much of the code here is just ensuring\n",
        "that the sizes and shapes of inputs match.\n"
      ]
    },
    {
      "cell_type": "code",
      "execution_count": 8,
      "id": "0d56dd86",
      "metadata": {
        "execution": {
          "iopub.execute_input": "2023-08-18T19:31:03.307130Z",
          "iopub.status.busy": "2023-08-18T19:31:03.306443Z",
          "iopub.status.idle": "2023-08-18T19:31:03.316351Z",
          "shell.execute_reply": "2023-08-18T19:31:03.315391Z"
        },
        "origin_pos": 20,
        "tab": [
          "pytorch"
        ],
        "id": "0d56dd86"
      },
      "outputs": [],
      "source": [
        "#@save\n",
        "def plot(X, Y=None, xlabel=None, ylabel=None, legend=[], xlim=None,\n",
        "         ylim=None, xscale='linear', yscale='linear',\n",
        "         fmts=('-', 'm--', 'g-.', 'r:'), figsize=(3.5, 2.5), axes=None):\n",
        "    \"\"\"Plot data points.\"\"\"\n",
        "\n",
        "    def has_one_axis(X):  # True if X (tensor or list) has 1 axis\n",
        "        return (hasattr(X, \"ndim\") and X.ndim == 1 or isinstance(X, list)\n",
        "                and not hasattr(X[0], \"__len__\"))\n",
        "\n",
        "    if has_one_axis(X): X = [X]\n",
        "    if Y is None:\n",
        "        X, Y = [[]] * len(X), X\n",
        "    elif has_one_axis(Y):\n",
        "        Y = [Y]\n",
        "    if len(X) != len(Y):\n",
        "        X = X * len(Y)\n",
        "\n",
        "    set_figsize(figsize)\n",
        "    if axes is None:\n",
        "        axes = d2l.plt.gca()\n",
        "    axes.cla()\n",
        "    for x, y, fmt in zip(X, Y, fmts):\n",
        "        axes.plot(x,y,fmt) if len(x) else axes.plot(y,fmt)\n",
        "    set_axes(axes, xlabel, ylabel, xlim, ylim, xscale, yscale, legend)"
      ]
    },
    {
      "cell_type": "markdown",
      "id": "68b9ef55",
      "metadata": {
        "origin_pos": 21,
        "id": "68b9ef55"
      },
      "source": [
        "Now we can [**plot the function $u = f(x)$ and its tangent line $y = 2x - 3$ at $x=1$**],\n",
        "where the coefficient $2$ is the slope of the tangent line.\n"
      ]
    },
    {
      "cell_type": "code",
      "execution_count": 9,
      "id": "1a22ce3a",
      "metadata": {
        "execution": {
          "iopub.execute_input": "2023-08-18T19:31:03.320345Z",
          "iopub.status.busy": "2023-08-18T19:31:03.319698Z",
          "iopub.status.idle": "2023-08-18T19:31:03.596083Z",
          "shell.execute_reply": "2023-08-18T19:31:03.594940Z"
        },
        "origin_pos": 22,
        "tab": [
          "pytorch"
        ],
        "id": "1a22ce3a",
        "outputId": "5722e064-35a5-4e22-a23d-973ab0af0a34",
        "colab": {
          "base_uri": "https://localhost:8080/",
          "height": 265
        }
      },
      "outputs": [
        {
          "output_type": "display_data",
          "data": {
            "text/plain": [
              "<Figure size 350x250 with 1 Axes>"
            ],
            "image/svg+xml": "<?xml version=\"1.0\" encoding=\"utf-8\" standalone=\"no\"?>\n<!DOCTYPE svg PUBLIC \"-//W3C//DTD SVG 1.1//EN\"\n  \"http://www.w3.org/Graphics/SVG/1.1/DTD/svg11.dtd\">\n<svg xmlns:xlink=\"http://www.w3.org/1999/xlink\" width=\"243.529359pt\" height=\"183.35625pt\" viewBox=\"0 0 243.529359 183.35625\" xmlns=\"http://www.w3.org/2000/svg\" version=\"1.1\">\n <metadata>\n  <rdf:RDF xmlns:dc=\"http://purl.org/dc/elements/1.1/\" xmlns:cc=\"http://creativecommons.org/ns#\" xmlns:rdf=\"http://www.w3.org/1999/02/22-rdf-syntax-ns#\">\n   <cc:Work>\n    <dc:type rdf:resource=\"http://purl.org/dc/dcmitype/StillImage\"/>\n    <dc:date>2024-06-03T19:43:22.359075</dc:date>\n    <dc:format>image/svg+xml</dc:format>\n    <dc:creator>\n     <cc:Agent>\n      <dc:title>Matplotlib v3.7.2, https://matplotlib.org/</dc:title>\n     </cc:Agent>\n    </dc:creator>\n   </cc:Work>\n  </rdf:RDF>\n </metadata>\n <defs>\n  <style type=\"text/css\">*{stroke-linejoin: round; stroke-linecap: butt}</style>\n </defs>\n <g id=\"figure_1\">\n  <g id=\"patch_1\">\n   <path d=\"M 0 183.35625 \nL 243.529359 183.35625 \nL 243.529359 0 \nL 0 0 \nz\n\" style=\"fill: #ffffff\"/>\n  </g>\n  <g id=\"axes_1\">\n   <g id=\"patch_2\">\n    <path d=\"M 40.603125 145.8 \nL 235.903125 145.8 \nL 235.903125 7.2 \nL 40.603125 7.2 \nz\n\" style=\"fill: #ffffff\"/>\n   </g>\n   <g id=\"matplotlib.axis_1\">\n    <g id=\"xtick_1\">\n     <g id=\"line2d_1\">\n      <path d=\"M 49.480398 145.8 \nL 49.480398 7.2 \n\" clip-path=\"url(#p49e70be4f7)\" style=\"fill: none; stroke: #b0b0b0; stroke-width: 0.8; stroke-linecap: square\"/>\n     </g>\n     <g id=\"line2d_2\">\n      <defs>\n       <path id=\"mb890cdd113\" d=\"M 0 0 \nL 0 3.5 \n\" style=\"stroke: #000000; stroke-width: 0.8\"/>\n      </defs>\n      <g>\n       <use xlink:href=\"#mb890cdd113\" x=\"49.480398\" y=\"145.8\" style=\"stroke: #000000; stroke-width: 0.8\"/>\n      </g>\n     </g>\n     <g id=\"text_1\">\n      <!-- 0 -->\n      <g transform=\"translate(46.299148 160.398438) scale(0.1 -0.1)\">\n       <defs>\n        <path id=\"DejaVuSans-30\" d=\"M 2034 4250 \nQ 1547 4250 1301 3770 \nQ 1056 3291 1056 2328 \nQ 1056 1369 1301 889 \nQ 1547 409 2034 409 \nQ 2525 409 2770 889 \nQ 3016 1369 3016 2328 \nQ 3016 3291 2770 3770 \nQ 2525 4250 2034 4250 \nz\nM 2034 4750 \nQ 2819 4750 3233 4129 \nQ 3647 3509 3647 2328 \nQ 3647 1150 3233 529 \nQ 2819 -91 2034 -91 \nQ 1250 -91 836 529 \nQ 422 1150 422 2328 \nQ 422 3509 836 4129 \nQ 1250 4750 2034 4750 \nz\n\" transform=\"scale(0.015625)\"/>\n       </defs>\n       <use xlink:href=\"#DejaVuSans-30\"/>\n      </g>\n     </g>\n    </g>\n    <g id=\"xtick_2\">\n     <g id=\"line2d_3\">\n      <path d=\"M 110.702968 145.8 \nL 110.702968 7.2 \n\" clip-path=\"url(#p49e70be4f7)\" style=\"fill: none; stroke: #b0b0b0; stroke-width: 0.8; stroke-linecap: square\"/>\n     </g>\n     <g id=\"line2d_4\">\n      <g>\n       <use xlink:href=\"#mb890cdd113\" x=\"110.702968\" y=\"145.8\" style=\"stroke: #000000; stroke-width: 0.8\"/>\n      </g>\n     </g>\n     <g id=\"text_2\">\n      <!-- 1 -->\n      <g transform=\"translate(107.521718 160.398438) scale(0.1 -0.1)\">\n       <defs>\n        <path id=\"DejaVuSans-31\" d=\"M 794 531 \nL 1825 531 \nL 1825 4091 \nL 703 3866 \nL 703 4441 \nL 1819 4666 \nL 2450 4666 \nL 2450 531 \nL 3481 531 \nL 3481 0 \nL 794 0 \nL 794 531 \nz\n\" transform=\"scale(0.015625)\"/>\n       </defs>\n       <use xlink:href=\"#DejaVuSans-31\"/>\n      </g>\n     </g>\n    </g>\n    <g id=\"xtick_3\">\n     <g id=\"line2d_5\">\n      <path d=\"M 171.925539 145.8 \nL 171.925539 7.2 \n\" clip-path=\"url(#p49e70be4f7)\" style=\"fill: none; stroke: #b0b0b0; stroke-width: 0.8; stroke-linecap: square\"/>\n     </g>\n     <g id=\"line2d_6\">\n      <g>\n       <use xlink:href=\"#mb890cdd113\" x=\"171.925539\" y=\"145.8\" style=\"stroke: #000000; stroke-width: 0.8\"/>\n      </g>\n     </g>\n     <g id=\"text_3\">\n      <!-- 2 -->\n      <g transform=\"translate(168.744289 160.398438) scale(0.1 -0.1)\">\n       <defs>\n        <path id=\"DejaVuSans-32\" d=\"M 1228 531 \nL 3431 531 \nL 3431 0 \nL 469 0 \nL 469 531 \nQ 828 903 1448 1529 \nQ 2069 2156 2228 2338 \nQ 2531 2678 2651 2914 \nQ 2772 3150 2772 3378 \nQ 2772 3750 2511 3984 \nQ 2250 4219 1831 4219 \nQ 1534 4219 1204 4116 \nQ 875 4013 500 3803 \nL 500 4441 \nQ 881 4594 1212 4672 \nQ 1544 4750 1819 4750 \nQ 2544 4750 2975 4387 \nQ 3406 4025 3406 3419 \nQ 3406 3131 3298 2873 \nQ 3191 2616 2906 2266 \nQ 2828 2175 2409 1742 \nQ 1991 1309 1228 531 \nz\n\" transform=\"scale(0.015625)\"/>\n       </defs>\n       <use xlink:href=\"#DejaVuSans-32\"/>\n      </g>\n     </g>\n    </g>\n    <g id=\"xtick_4\">\n     <g id=\"line2d_7\">\n      <path d=\"M 233.148109 145.8 \nL 233.148109 7.2 \n\" clip-path=\"url(#p49e70be4f7)\" style=\"fill: none; stroke: #b0b0b0; stroke-width: 0.8; stroke-linecap: square\"/>\n     </g>\n     <g id=\"line2d_8\">\n      <g>\n       <use xlink:href=\"#mb890cdd113\" x=\"233.148109\" y=\"145.8\" style=\"stroke: #000000; stroke-width: 0.8\"/>\n      </g>\n     </g>\n     <g id=\"text_4\">\n      <!-- 3 -->\n      <g transform=\"translate(229.966859 160.398438) scale(0.1 -0.1)\">\n       <defs>\n        <path id=\"DejaVuSans-33\" d=\"M 2597 2516 \nQ 3050 2419 3304 2112 \nQ 3559 1806 3559 1356 \nQ 3559 666 3084 287 \nQ 2609 -91 1734 -91 \nQ 1441 -91 1130 -33 \nQ 819 25 488 141 \nL 488 750 \nQ 750 597 1062 519 \nQ 1375 441 1716 441 \nQ 2309 441 2620 675 \nQ 2931 909 2931 1356 \nQ 2931 1769 2642 2001 \nQ 2353 2234 1838 2234 \nL 1294 2234 \nL 1294 2753 \nL 1863 2753 \nQ 2328 2753 2575 2939 \nQ 2822 3125 2822 3475 \nQ 2822 3834 2567 4026 \nQ 2313 4219 1838 4219 \nQ 1578 4219 1281 4162 \nQ 984 4106 628 3988 \nL 628 4550 \nQ 988 4650 1302 4700 \nQ 1616 4750 1894 4750 \nQ 2613 4750 3031 4423 \nQ 3450 4097 3450 3541 \nQ 3450 3153 3228 2886 \nQ 3006 2619 2597 2516 \nz\n\" transform=\"scale(0.015625)\"/>\n       </defs>\n       <use xlink:href=\"#DejaVuSans-33\"/>\n      </g>\n     </g>\n    </g>\n    <g id=\"text_5\">\n     <!-- x -->\n     <g transform=\"translate(135.29375 174.076563) scale(0.1 -0.1)\">\n      <defs>\n       <path id=\"DejaVuSans-78\" d=\"M 3513 3500 \nL 2247 1797 \nL 3578 0 \nL 2900 0 \nL 1881 1375 \nL 863 0 \nL 184 0 \nL 1544 1831 \nL 300 3500 \nL 978 3500 \nL 1906 2253 \nL 2834 3500 \nL 3513 3500 \nz\n\" transform=\"scale(0.015625)\"/>\n      </defs>\n      <use xlink:href=\"#DejaVuSans-78\"/>\n     </g>\n    </g>\n   </g>\n   <g id=\"matplotlib.axis_2\">\n    <g id=\"ytick_1\">\n     <g id=\"line2d_9\">\n      <path d=\"M 40.603125 116.769994 \nL 235.903125 116.769994 \n\" clip-path=\"url(#p49e70be4f7)\" style=\"fill: none; stroke: #b0b0b0; stroke-width: 0.8; stroke-linecap: square\"/>\n     </g>\n     <g id=\"line2d_10\">\n      <defs>\n       <path id=\"md30855a419\" d=\"M 0 0 \nL -3.5 0 \n\" style=\"stroke: #000000; stroke-width: 0.8\"/>\n      </defs>\n      <g>\n       <use xlink:href=\"#md30855a419\" x=\"40.603125\" y=\"116.769994\" style=\"stroke: #000000; stroke-width: 0.8\"/>\n      </g>\n     </g>\n     <g id=\"text_6\">\n      <!-- 0 -->\n      <g transform=\"translate(27.240625 120.569213) scale(0.1 -0.1)\">\n       <use xlink:href=\"#DejaVuSans-30\"/>\n      </g>\n     </g>\n    </g>\n    <g id=\"ytick_2\">\n     <g id=\"line2d_11\">\n      <path d=\"M 40.603125 78.886651 \nL 235.903125 78.886651 \n\" clip-path=\"url(#p49e70be4f7)\" style=\"fill: none; stroke: #b0b0b0; stroke-width: 0.8; stroke-linecap: square\"/>\n     </g>\n     <g id=\"line2d_12\">\n      <g>\n       <use xlink:href=\"#md30855a419\" x=\"40.603125\" y=\"78.886651\" style=\"stroke: #000000; stroke-width: 0.8\"/>\n      </g>\n     </g>\n     <g id=\"text_7\">\n      <!-- 5 -->\n      <g transform=\"translate(27.240625 82.685869) scale(0.1 -0.1)\">\n       <defs>\n        <path id=\"DejaVuSans-35\" d=\"M 691 4666 \nL 3169 4666 \nL 3169 4134 \nL 1269 4134 \nL 1269 2991 \nQ 1406 3038 1543 3061 \nQ 1681 3084 1819 3084 \nQ 2600 3084 3056 2656 \nQ 3513 2228 3513 1497 \nQ 3513 744 3044 326 \nQ 2575 -91 1722 -91 \nQ 1428 -91 1123 -41 \nQ 819 9 494 109 \nL 494 744 \nQ 775 591 1075 516 \nQ 1375 441 1709 441 \nQ 2250 441 2565 725 \nQ 2881 1009 2881 1497 \nQ 2881 1984 2565 2268 \nQ 2250 2553 1709 2553 \nQ 1456 2553 1204 2497 \nQ 953 2441 691 2322 \nL 691 4666 \nz\n\" transform=\"scale(0.015625)\"/>\n       </defs>\n       <use xlink:href=\"#DejaVuSans-35\"/>\n      </g>\n     </g>\n    </g>\n    <g id=\"ytick_3\">\n     <g id=\"line2d_13\">\n      <path d=\"M 40.603125 41.003307 \nL 235.903125 41.003307 \n\" clip-path=\"url(#p49e70be4f7)\" style=\"fill: none; stroke: #b0b0b0; stroke-width: 0.8; stroke-linecap: square\"/>\n     </g>\n     <g id=\"line2d_14\">\n      <g>\n       <use xlink:href=\"#md30855a419\" x=\"40.603125\" y=\"41.003307\" style=\"stroke: #000000; stroke-width: 0.8\"/>\n      </g>\n     </g>\n     <g id=\"text_8\">\n      <!-- 10 -->\n      <g transform=\"translate(20.878125 44.802526) scale(0.1 -0.1)\">\n       <use xlink:href=\"#DejaVuSans-31\"/>\n       <use xlink:href=\"#DejaVuSans-30\" x=\"63.623047\"/>\n      </g>\n     </g>\n    </g>\n    <g id=\"text_9\">\n     <!-- f(x) -->\n     <g transform=\"translate(14.798437 85.121094) rotate(-90) scale(0.1 -0.1)\">\n      <defs>\n       <path id=\"DejaVuSans-66\" d=\"M 2375 4863 \nL 2375 4384 \nL 1825 4384 \nQ 1516 4384 1395 4259 \nQ 1275 4134 1275 3809 \nL 1275 3500 \nL 2222 3500 \nL 2222 3053 \nL 1275 3053 \nL 1275 0 \nL 697 0 \nL 697 3053 \nL 147 3053 \nL 147 3500 \nL 697 3500 \nL 697 3744 \nQ 697 4328 969 4595 \nQ 1241 4863 1831 4863 \nL 2375 4863 \nz\n\" transform=\"scale(0.015625)\"/>\n       <path id=\"DejaVuSans-28\" d=\"M 1984 4856 \nQ 1566 4138 1362 3434 \nQ 1159 2731 1159 2009 \nQ 1159 1288 1364 580 \nQ 1569 -128 1984 -844 \nL 1484 -844 \nQ 1016 -109 783 600 \nQ 550 1309 550 2009 \nQ 550 2706 781 3412 \nQ 1013 4119 1484 4856 \nL 1984 4856 \nz\n\" transform=\"scale(0.015625)\"/>\n       <path id=\"DejaVuSans-29\" d=\"M 513 4856 \nL 1013 4856 \nQ 1481 4119 1714 3412 \nQ 1947 2706 1947 2009 \nQ 1947 1309 1714 600 \nQ 1481 -109 1013 -844 \nL 513 -844 \nQ 928 -128 1133 580 \nQ 1338 1288 1338 2009 \nQ 1338 2731 1133 3434 \nQ 928 4138 513 4856 \nz\n\" transform=\"scale(0.015625)\"/>\n      </defs>\n      <use xlink:href=\"#DejaVuSans-66\"/>\n      <use xlink:href=\"#DejaVuSans-28\" x=\"35.205078\"/>\n      <use xlink:href=\"#DejaVuSans-78\" x=\"74.21875\"/>\n      <use xlink:href=\"#DejaVuSans-29\" x=\"133.398438\"/>\n     </g>\n    </g>\n   </g>\n   <g id=\"line2d_15\">\n    <path d=\"M 49.480398 116.769994 \nL 55.602655 119.573361 \nL 61.724912 121.922129 \nL 67.847169 123.816296 \nL 73.969426 125.255863 \nL 80.091683 126.24083 \nL 86.21394 126.771197 \nL 92.336197 126.846963 \nL 98.458454 126.46813 \nL 104.580711 125.634696 \nL 110.702968 124.346663 \nL 116.825225 122.604029 \nL 122.947482 120.406795 \nL 129.069739 117.754961 \nL 135.191996 114.648527 \nL 141.314254 111.087492 \nL 147.436511 107.071858 \nL 153.558768 102.601624 \nL 159.681025 97.676789 \nL 165.803282 92.297354 \nL 171.925539 86.463319 \nL 178.047796 80.174684 \nL 184.170053 73.431449 \nL 190.29231 66.233614 \nL 196.414567 58.581179 \nL 202.536824 50.474143 \nL 208.659081 41.912508 \nL 214.781338 32.896272 \nL 220.903595 23.425436 \nL 227.025852 13.5 \n\" clip-path=\"url(#p49e70be4f7)\" style=\"fill: none; stroke: #1f77b4; stroke-width: 1.5; stroke-linecap: square\"/>\n   </g>\n   <g id=\"line2d_16\">\n    <path d=\"M 49.480398 139.5 \nL 55.602655 137.984666 \nL 61.724912 136.469333 \nL 67.847169 134.953999 \nL 73.969426 133.438665 \nL 80.091683 131.923331 \nL 86.21394 130.407998 \nL 92.336197 128.892664 \nL 98.458454 127.37733 \nL 104.580711 125.861996 \nL 110.702968 124.346663 \nL 116.825225 122.831329 \nL 122.947482 121.315995 \nL 129.069739 119.800661 \nL 135.191996 118.285328 \nL 141.314254 116.769994 \nL 147.436511 115.25466 \nL 153.558768 113.739327 \nL 159.681025 112.223993 \nL 165.803282 110.708659 \nL 171.925539 109.193325 \nL 178.047796 107.677992 \nL 184.170053 106.162658 \nL 190.29231 104.647324 \nL 196.414567 103.13199 \nL 202.536824 101.616657 \nL 208.659081 100.101323 \nL 214.781338 98.585989 \nL 220.903595 97.070655 \nL 227.025852 95.555322 \n\" clip-path=\"url(#p49e70be4f7)\" style=\"fill: none; stroke-dasharray: 5.55,2.4; stroke-dashoffset: 0; stroke: #bf00bf; stroke-width: 1.5\"/>\n   </g>\n   <g id=\"patch_3\">\n    <path d=\"M 40.603125 145.8 \nL 40.603125 7.2 \n\" style=\"fill: none; stroke: #000000; stroke-width: 0.8; stroke-linejoin: miter; stroke-linecap: square\"/>\n   </g>\n   <g id=\"patch_4\">\n    <path d=\"M 235.903125 145.8 \nL 235.903125 7.2 \n\" style=\"fill: none; stroke: #000000; stroke-width: 0.8; stroke-linejoin: miter; stroke-linecap: square\"/>\n   </g>\n   <g id=\"patch_5\">\n    <path d=\"M 40.603125 145.8 \nL 235.903125 145.8 \n\" style=\"fill: none; stroke: #000000; stroke-width: 0.8; stroke-linejoin: miter; stroke-linecap: square\"/>\n   </g>\n   <g id=\"patch_6\">\n    <path d=\"M 40.603125 7.2 \nL 235.903125 7.2 \n\" style=\"fill: none; stroke: #000000; stroke-width: 0.8; stroke-linejoin: miter; stroke-linecap: square\"/>\n   </g>\n   <g id=\"legend_1\">\n    <g id=\"patch_7\">\n     <path d=\"M 47.603125 44.55625 \nL 172.153125 44.55625 \nQ 174.153125 44.55625 174.153125 42.55625 \nL 174.153125 14.2 \nQ 174.153125 12.2 172.153125 12.2 \nL 47.603125 12.2 \nQ 45.603125 12.2 45.603125 14.2 \nL 45.603125 42.55625 \nQ 45.603125 44.55625 47.603125 44.55625 \nz\n\" style=\"fill: #ffffff; opacity: 0.8; stroke: #cccccc; stroke-linejoin: miter\"/>\n    </g>\n    <g id=\"line2d_17\">\n     <path d=\"M 49.603125 20.298438 \nL 59.603125 20.298438 \nL 69.603125 20.298438 \n\" style=\"fill: none; stroke: #1f77b4; stroke-width: 1.5; stroke-linecap: square\"/>\n    </g>\n    <g id=\"text_10\">\n     <!-- f(x) -->\n     <g transform=\"translate(77.603125 23.798438) scale(0.1 -0.1)\">\n      <use xlink:href=\"#DejaVuSans-66\"/>\n      <use xlink:href=\"#DejaVuSans-28\" x=\"35.205078\"/>\n      <use xlink:href=\"#DejaVuSans-78\" x=\"74.21875\"/>\n      <use xlink:href=\"#DejaVuSans-29\" x=\"133.398438\"/>\n     </g>\n    </g>\n    <g id=\"line2d_18\">\n     <path d=\"M 49.603125 34.976562 \nL 59.603125 34.976562 \nL 69.603125 34.976562 \n\" style=\"fill: none; stroke-dasharray: 5.55,2.4; stroke-dashoffset: 0; stroke: #bf00bf; stroke-width: 1.5\"/>\n    </g>\n    <g id=\"text_11\">\n     <!-- Tangent line (x=1) -->\n     <g transform=\"translate(77.603125 38.476562) scale(0.1 -0.1)\">\n      <defs>\n       <path id=\"DejaVuSans-54\" d=\"M -19 4666 \nL 3928 4666 \nL 3928 4134 \nL 2272 4134 \nL 2272 0 \nL 1638 0 \nL 1638 4134 \nL -19 4134 \nL -19 4666 \nz\n\" transform=\"scale(0.015625)\"/>\n       <path id=\"DejaVuSans-61\" d=\"M 2194 1759 \nQ 1497 1759 1228 1600 \nQ 959 1441 959 1056 \nQ 959 750 1161 570 \nQ 1363 391 1709 391 \nQ 2188 391 2477 730 \nQ 2766 1069 2766 1631 \nL 2766 1759 \nL 2194 1759 \nz\nM 3341 1997 \nL 3341 0 \nL 2766 0 \nL 2766 531 \nQ 2569 213 2275 61 \nQ 1981 -91 1556 -91 \nQ 1019 -91 701 211 \nQ 384 513 384 1019 \nQ 384 1609 779 1909 \nQ 1175 2209 1959 2209 \nL 2766 2209 \nL 2766 2266 \nQ 2766 2663 2505 2880 \nQ 2244 3097 1772 3097 \nQ 1472 3097 1187 3025 \nQ 903 2953 641 2809 \nL 641 3341 \nQ 956 3463 1253 3523 \nQ 1550 3584 1831 3584 \nQ 2591 3584 2966 3190 \nQ 3341 2797 3341 1997 \nz\n\" transform=\"scale(0.015625)\"/>\n       <path id=\"DejaVuSans-6e\" d=\"M 3513 2113 \nL 3513 0 \nL 2938 0 \nL 2938 2094 \nQ 2938 2591 2744 2837 \nQ 2550 3084 2163 3084 \nQ 1697 3084 1428 2787 \nQ 1159 2491 1159 1978 \nL 1159 0 \nL 581 0 \nL 581 3500 \nL 1159 3500 \nL 1159 2956 \nQ 1366 3272 1645 3428 \nQ 1925 3584 2291 3584 \nQ 2894 3584 3203 3211 \nQ 3513 2838 3513 2113 \nz\n\" transform=\"scale(0.015625)\"/>\n       <path id=\"DejaVuSans-67\" d=\"M 2906 1791 \nQ 2906 2416 2648 2759 \nQ 2391 3103 1925 3103 \nQ 1463 3103 1205 2759 \nQ 947 2416 947 1791 \nQ 947 1169 1205 825 \nQ 1463 481 1925 481 \nQ 2391 481 2648 825 \nQ 2906 1169 2906 1791 \nz\nM 3481 434 \nQ 3481 -459 3084 -895 \nQ 2688 -1331 1869 -1331 \nQ 1566 -1331 1297 -1286 \nQ 1028 -1241 775 -1147 \nL 775 -588 \nQ 1028 -725 1275 -790 \nQ 1522 -856 1778 -856 \nQ 2344 -856 2625 -561 \nQ 2906 -266 2906 331 \nL 2906 616 \nQ 2728 306 2450 153 \nQ 2172 0 1784 0 \nQ 1141 0 747 490 \nQ 353 981 353 1791 \nQ 353 2603 747 3093 \nQ 1141 3584 1784 3584 \nQ 2172 3584 2450 3431 \nQ 2728 3278 2906 2969 \nL 2906 3500 \nL 3481 3500 \nL 3481 434 \nz\n\" transform=\"scale(0.015625)\"/>\n       <path id=\"DejaVuSans-65\" d=\"M 3597 1894 \nL 3597 1613 \nL 953 1613 \nQ 991 1019 1311 708 \nQ 1631 397 2203 397 \nQ 2534 397 2845 478 \nQ 3156 559 3463 722 \nL 3463 178 \nQ 3153 47 2828 -22 \nQ 2503 -91 2169 -91 \nQ 1331 -91 842 396 \nQ 353 884 353 1716 \nQ 353 2575 817 3079 \nQ 1281 3584 2069 3584 \nQ 2775 3584 3186 3129 \nQ 3597 2675 3597 1894 \nz\nM 3022 2063 \nQ 3016 2534 2758 2815 \nQ 2500 3097 2075 3097 \nQ 1594 3097 1305 2825 \nQ 1016 2553 972 2059 \nL 3022 2063 \nz\n\" transform=\"scale(0.015625)\"/>\n       <path id=\"DejaVuSans-74\" d=\"M 1172 4494 \nL 1172 3500 \nL 2356 3500 \nL 2356 3053 \nL 1172 3053 \nL 1172 1153 \nQ 1172 725 1289 603 \nQ 1406 481 1766 481 \nL 2356 481 \nL 2356 0 \nL 1766 0 \nQ 1100 0 847 248 \nQ 594 497 594 1153 \nL 594 3053 \nL 172 3053 \nL 172 3500 \nL 594 3500 \nL 594 4494 \nL 1172 4494 \nz\n\" transform=\"scale(0.015625)\"/>\n       <path id=\"DejaVuSans-20\" transform=\"scale(0.015625)\"/>\n       <path id=\"DejaVuSans-6c\" d=\"M 603 4863 \nL 1178 4863 \nL 1178 0 \nL 603 0 \nL 603 4863 \nz\n\" transform=\"scale(0.015625)\"/>\n       <path id=\"DejaVuSans-69\" d=\"M 603 3500 \nL 1178 3500 \nL 1178 0 \nL 603 0 \nL 603 3500 \nz\nM 603 4863 \nL 1178 4863 \nL 1178 4134 \nL 603 4134 \nL 603 4863 \nz\n\" transform=\"scale(0.015625)\"/>\n       <path id=\"DejaVuSans-3d\" d=\"M 678 2906 \nL 4684 2906 \nL 4684 2381 \nL 678 2381 \nL 678 2906 \nz\nM 678 1631 \nL 4684 1631 \nL 4684 1100 \nL 678 1100 \nL 678 1631 \nz\n\" transform=\"scale(0.015625)\"/>\n      </defs>\n      <use xlink:href=\"#DejaVuSans-54\"/>\n      <use xlink:href=\"#DejaVuSans-61\" x=\"44.583984\"/>\n      <use xlink:href=\"#DejaVuSans-6e\" x=\"105.863281\"/>\n      <use xlink:href=\"#DejaVuSans-67\" x=\"169.242188\"/>\n      <use xlink:href=\"#DejaVuSans-65\" x=\"232.71875\"/>\n      <use xlink:href=\"#DejaVuSans-6e\" x=\"294.242188\"/>\n      <use xlink:href=\"#DejaVuSans-74\" x=\"357.621094\"/>\n      <use xlink:href=\"#DejaVuSans-20\" x=\"396.830078\"/>\n      <use xlink:href=\"#DejaVuSans-6c\" x=\"428.617188\"/>\n      <use xlink:href=\"#DejaVuSans-69\" x=\"456.400391\"/>\n      <use xlink:href=\"#DejaVuSans-6e\" x=\"484.183594\"/>\n      <use xlink:href=\"#DejaVuSans-65\" x=\"547.5625\"/>\n      <use xlink:href=\"#DejaVuSans-20\" x=\"609.085938\"/>\n      <use xlink:href=\"#DejaVuSans-28\" x=\"640.873047\"/>\n      <use xlink:href=\"#DejaVuSans-78\" x=\"679.886719\"/>\n      <use xlink:href=\"#DejaVuSans-3d\" x=\"739.066406\"/>\n      <use xlink:href=\"#DejaVuSans-31\" x=\"822.855469\"/>\n      <use xlink:href=\"#DejaVuSans-29\" x=\"886.478516\"/>\n     </g>\n    </g>\n   </g>\n  </g>\n </g>\n <defs>\n  <clipPath id=\"p49e70be4f7\">\n   <rect x=\"40.603125\" y=\"7.2\" width=\"195.3\" height=\"138.6\"/>\n  </clipPath>\n </defs>\n</svg>\n"
          },
          "metadata": {}
        }
      ],
      "source": [
        "x = np.arange(0, 3, 0.1)\n",
        "plot(x, [f(x), 2 * x - 3], 'x', 'f(x)', legend=['f(x)', 'Tangent line (x=1)'])"
      ]
    },
    {
      "cell_type": "markdown",
      "id": "ebd783d4",
      "metadata": {
        "origin_pos": 23,
        "id": "ebd783d4"
      },
      "source": [
        "## Partial Derivatives and Gradients\n",
        ":label:`subsec_calculus-grad`\n",
        "\n",
        "Thus far, we have been differentiating\n",
        "functions of just one variable.\n",
        "In deep learning, we also need to work\n",
        "with functions of *many* variables.\n",
        "We briefly introduce notions of the derivative\n",
        "that apply to such *multivariate* functions.\n",
        "\n",
        "\n",
        "Let $y = f(x_1, x_2, \\ldots, x_n)$ be a function with $n$ variables.\n",
        "The *partial derivative* of $y$\n",
        "with respect to its $i^\\textrm{th}$ parameter $x_i$ is\n",
        "\n",
        "$$ \\frac{\\partial y}{\\partial x_i} = \\lim_{h \\rightarrow 0} \\frac{f(x_1, \\ldots, x_{i-1}, x_i+h, x_{i+1}, \\ldots, x_n) - f(x_1, \\ldots, x_i, \\ldots, x_n)}{h}.$$\n",
        "\n",
        "\n",
        "To calculate $\\frac{\\partial y}{\\partial x_i}$,\n",
        "we can treat $x_1, \\ldots, x_{i-1}, x_{i+1}, \\ldots, x_n$ as constants\n",
        "and calculate the derivative of $y$ with respect to $x_i$.\n",
        "The following notational conventions for partial derivatives\n",
        "are all common and all mean the same thing:\n",
        "\n",
        "$$\\frac{\\partial y}{\\partial x_i} = \\frac{\\partial f}{\\partial x_i} = \\partial_{x_i} f = \\partial_i f = f_{x_i} = f_i = D_i f = D_{x_i} f.$$\n",
        "\n",
        "We can concatenate partial derivatives\n",
        "of a multivariate function\n",
        "with respect to all its variables\n",
        "to obtain a vector that is called\n",
        "the *gradient* of the function.\n",
        "Suppose that the input of function\n",
        "$f: \\mathbb{R}^n \\rightarrow \\mathbb{R}$\n",
        "is an $n$-dimensional vector\n",
        "$\\mathbf{x} = [x_1, x_2, \\ldots, x_n]^\\top$\n",
        "and the output is a scalar.\n",
        "The gradient of the function $f$\n",
        "with respect to $\\mathbf{x}$\n",
        "is a vector of $n$ partial derivatives:\n",
        "\n",
        "$$\\nabla_{\\mathbf{x}} f(\\mathbf{x}) = \\left[\\partial_{x_1} f(\\mathbf{x}), \\partial_{x_2} f(\\mathbf{x}), \\ldots\n",
        "\\partial_{x_n} f(\\mathbf{x})\\right]^\\top.$$\n",
        "\n",
        "When there is no ambiguity,\n",
        "$\\nabla_{\\mathbf{x}} f(\\mathbf{x})$\n",
        "is typically replaced\n",
        "by $\\nabla f(\\mathbf{x})$.\n",
        "The following rules come in handy\n",
        "for differentiating multivariate functions:\n",
        "\n",
        "* For all $\\mathbf{A} \\in \\mathbb{R}^{m \\times n}$ we have $\\nabla_{\\mathbf{x}} \\mathbf{A} \\mathbf{x} = \\mathbf{A}^\\top$ and $\\nabla_{\\mathbf{x}} \\mathbf{x}^\\top \\mathbf{A}  = \\mathbf{A}$.\n",
        "* For square matrices $\\mathbf{A} \\in \\mathbb{R}^{n \\times n}$ we have that $\\nabla_{\\mathbf{x}} \\mathbf{x}^\\top \\mathbf{A} \\mathbf{x}  = (\\mathbf{A} + \\mathbf{A}^\\top)\\mathbf{x}$ and in particular\n",
        "$\\nabla_{\\mathbf{x}} \\|\\mathbf{x} \\|^2 = \\nabla_{\\mathbf{x}} \\mathbf{x}^\\top \\mathbf{x} = 2\\mathbf{x}$.\n",
        "\n",
        "Similarly, for any matrix $\\mathbf{X}$,\n",
        "we have $\\nabla_{\\mathbf{X}} \\|\\mathbf{X} \\|_\\textrm{F}^2 = 2\\mathbf{X}$.\n",
        "\n",
        "\n",
        "\n",
        "## Chain Rule\n",
        "\n",
        "In deep learning, the gradients of concern\n",
        "are often difficult to calculate\n",
        "because we are working with\n",
        "deeply nested functions\n",
        "(of functions (of functions...)).\n",
        "Fortunately, the *chain rule* takes care of this.\n",
        "Returning to functions of a single variable,\n",
        "suppose that $y = f(g(x))$\n",
        "and that the underlying functions\n",
        "$y=f(u)$ and $u=g(x)$\n",
        "are both differentiable.\n",
        "The chain rule states that\n",
        "\n",
        "\n",
        "$$\\frac{dy}{dx} = \\frac{dy}{du} \\frac{du}{dx}.$$\n",
        "\n",
        "\n",
        "\n",
        "Turning back to multivariate functions,\n",
        "suppose that $y = f(\\mathbf{u})$ has variables\n",
        "$u_1, u_2, \\ldots, u_m$,\n",
        "where each $u_i = g_i(\\mathbf{x})$\n",
        "has variables $x_1, x_2, \\ldots, x_n$,\n",
        "i.e.,  $\\mathbf{u} = g(\\mathbf{x})$.\n",
        "Then the chain rule states that\n",
        "\n",
        "$$\\frac{\\partial y}{\\partial x_{i}} = \\frac{\\partial y}{\\partial u_{1}} \\frac{\\partial u_{1}}{\\partial x_{i}} + \\frac{\\partial y}{\\partial u_{2}} \\frac{\\partial u_{2}}{\\partial x_{i}} + \\ldots + \\frac{\\partial y}{\\partial u_{m}} \\frac{\\partial u_{m}}{\\partial x_{i}} \\ \\textrm{ and so } \\ \\nabla_{\\mathbf{x}} y =  \\mathbf{A} \\nabla_{\\mathbf{u}} y,$$\n",
        "\n",
        "where $\\mathbf{A} \\in \\mathbb{R}^{n \\times m}$ is a *matrix*\n",
        "that contains the derivative of vector $\\mathbf{u}$\n",
        "with respect to vector $\\mathbf{x}$.\n",
        "Thus, evaluating the gradient requires\n",
        "computing a vector--matrix product.\n",
        "This is one of the key reasons why linear algebra\n",
        "is such an integral building block\n",
        "in building deep learning systems.\n",
        "\n",
        "\n",
        "\n",
        "## Discussion\n",
        "\n",
        "While we have just scratched the surface of a deep topic,\n",
        "a number of concepts already come into focus:\n",
        "first, the composition rules for differentiation\n",
        "can be applied routinely, enabling\n",
        "us to compute gradients *automatically*.\n",
        "This task requires no creativity and thus\n",
        "we can focus our cognitive powers elsewhere.\n",
        "Second, computing the derivatives of vector-valued functions\n",
        "requires us to multiply matrices as we trace\n",
        "the dependency graph of variables from output to input.\n",
        "In particular, this graph is traversed in a *forward* direction\n",
        "when we evaluate a function\n",
        "and in a *backwards* direction\n",
        "when we compute gradients.\n",
        "Later chapters will formally introduce backpropagation,\n",
        "a computational procedure for applying the chain rule.\n",
        "\n",
        "From the viewpoint of optimization, gradients allow us\n",
        "to determine how to move the parameters of a model\n",
        "in order to lower the loss,\n",
        "and each step of the optimization algorithms used\n",
        "throughout this book will require calculating the gradient.\n",
        "\n",
        "## Exercises\n",
        "\n",
        "1. So far we took the rules for derivatives for granted.\n",
        "   Using the definition and limits prove the properties\n",
        "   for (i) $f(x) = c$, (ii) $f(x) = x^n$, (iii) $f(x) = e^x$ and (iv) $f(x) = \\log x$.\n",
        "1. In the same vein, prove the product, sum, and quotient rule from first principles.\n",
        "1. Prove that the constant multiple rule follows as a special case of the product rule.\n",
        "1. Calculate the derivative of $f(x) = x^x$.\n",
        "1. What does it mean that $f'(x) = 0$ for some $x$?\n",
        "   Give an example of a function $f$\n",
        "   and a location $x$ for which this might hold.\n",
        "1. Plot the function $y = f(x) = x^3 - \\frac{1}{x}$\n",
        "   and plot its tangent line at $x = 1$.\n",
        "1. Find the gradient of the function\n",
        "   $f(\\mathbf{x}) = 3x_1^2 + 5e^{x_2}$.\n",
        "1. What is the gradient of the function\n",
        "   $f(\\mathbf{x}) = \\|\\mathbf{x}\\|_2$? What happens for $\\mathbf{x} = \\mathbf{0}$?\n",
        "1. Can you write out the chain rule for the case\n",
        "   where $u = f(x, y, z)$ and $x = x(a, b)$, $y = y(a, b)$, and $z = z(a, b)$?\n",
        "1. Given a function $f(x)$ that is invertible,\n",
        "   compute the derivative of its inverse $f^{-1}(x)$.\n",
        "   Here we have that $f^{-1}(f(x)) = x$ and conversely $f(f^{-1}(y)) = y$.\n",
        "   Hint: use these properties in your derivation.\n"
      ]
    },
    {
      "cell_type": "markdown",
      "source": [
        "1. So far we took the rules for derivatives for granted.\n",
        "   Using the definition and limits prove the properties\n",
        "   for (i) $f(x) = c$, (ii) $f(x) = x^n$, (iii) $f(x) = e^x$ and (iv) $f(x) = \\log x$."
      ],
      "metadata": {
        "id": "zRljdLjt7VVl"
      },
      "id": "zRljdLjt7VVl"
    },
    {
      "cell_type": "markdown",
      "source": [
        "\n",
        "**i) Constant function:**\n",
        "For $f(x) = c$, we have that\n",
        "\n",
        "$$f'(x) = \\lim_{h \\rightarrow 0} \\frac{f(x+h) - f(x)}{h} = \\lim_{h \\rightarrow 0} \\frac{c - c}{h} = \\lim_{h \\rightarrow 0} 0 = 0.$$\n",
        "\n",
        "**ii) Power function:**\n",
        "For $f(x) = x^n$, we have that\n",
        "\n",
        "$$f'(x) = \\lim_{h \\rightarrow 0} \\frac{f(x+h) - f(x)}{h} = \\lim_{h \\rightarrow 0} \\frac{(x+h)^n - x^n}{h}.$$\n",
        "\n",
        "Using the binomial theorem, we can expand $(x+h)^n$ as\n",
        "\n",
        "$$(x+h)^n = x^n + nx^{n-1}h + \\binom{n}{2}x^{n-2}h^2 + \\cdots + h^n.$$\n",
        "\n",
        "Substituting this into the expression for $f'(x)$, we get\n",
        "\n",
        "$$f'(x) = \\lim_{h \\rightarrow 0} \\frac{nx^{n-1}h + \\binom{n}{2}x^{n-2}h^2 + \\cdots + h^n}{h}.$$\n",
        "\n",
        "Factoring out $h$ from the numerator, we get\n",
        "\n",
        "$$f'(x) = \\lim_{h \\rightarrow 0} \\left(nx^{n-1} + \\binom{n}{2}x^{n-2}h + \\cdots + h^{n-1}\\right).$$\n",
        "\n",
        "Since the limit of a sum is the sum of the limits, we can take the limit of each term separately. As $h \\rightarrow 0$, all the terms with $h$ in them will go to zero, leaving only the first term. Therefore,\n",
        "\n",
        "$$f'(x) = nx^{n-1}.$$\n",
        "\n",
        "**iii) Exponential function:**\n",
        "For $f(x) = e^x$, we have that\n",
        "\n",
        "For $f(x) = e^x$, the derivative $f'(x)$ is equal to $e^x$.\n",
        "\n",
        "Using the limit definition of the derivative and properties of the exponential function $e^x$:\n",
        "\n",
        "$$f'(x) = \\lim_{{h \\to 0}} \\frac{{e^{x+h} - e^x}}{h} = $$\n",
        "\n",
        "$$f'(x) = \\lim_{{h \\to 0}} \\frac{{e^x \\cdot e^h - e^x}}{h}$$\n",
        "\n",
        "$$f'(x) = \\lim_{{h \\to 0}} \\frac{{e^x (e^h - 1)}}{h} = e^x$$\n",
        "\n",
        "$$\\lim_{{h \\to 0}} \\frac{{e^h - 1}}{h} = e^x$$\n",
        "\n",
        "\n",
        "**iv) Logarithmic function:**\n",
        "For $f(x) = \\log x$, we have that\n",
        "\n",
        "$$f'(x) = \\lim_{h \\rightarrow 0} \\frac{f(x+h) - f(x)}{h} = \\lim_{h \\rightarrow 0} \\frac{\\log(x+h) - \\log x}{h}.$$\n",
        "\n",
        "Using the property that $\\log(ab) = \\log a + \\log b$, we can rewrite the numerator as\n",
        "\n",
        "$$\\log(x+h) - \\log x = \\log \\left(\\frac{x+h}{x}\\right).$$\n",
        "\n",
        "Substituting this into the expression for $f'(x)$, we get\n",
        "\n",
        "$$f'(x) = \\lim_{h \\rightarrow 0} \\frac{\\log \\left(\\frac{x+h}{x}\\right)}{h}.$$\n",
        "\n",
        "Using the fact that $\\lim_{h \\rightarrow 0} \\frac{\\log(1+h)}{h} = 1$, we can simplify this to\n",
        "\n",
        "$$f'(x) = \\lim_{h \\rightarrow 0} \\frac{\\log \\left(1+\\frac{h}{x}\\right)}{h} = \\frac{1}{x}.$$"
      ],
      "metadata": {
        "id": "G--Mh-uSn14p"
      },
      "id": "G--Mh-uSn14p"
    },
    {
      "cell_type": "markdown",
      "source": [
        "2. In the same vein, prove the product, sum, and quotient rule from first\n",
        "\n",
        "# Derivative Rules Using Limits and First Principles\n",
        "\n",
        "## Product Rule\n",
        "\n",
        "To derive the product rule, consider two differentiable functions, \\(f(x)\\) and \\(g(x)\\). The derivative of their product can be obtained using the definition of the derivative:\n",
        "\n",
        "$$\n",
        "(f \\cdot g)'(x) = \\lim_{h \\to 0} \\frac{f(x + h) \\cdot g(x + h) - f(x) \\cdot g(x)}{h}\n",
        "$$\n",
        "\n",
        "Expanding the numerator, we have:\n",
        "\n",
        "$$\n",
        "f(x + h) \\cdot g(x + h) - f(x) \\cdot g(x) = (f(x + h) \\cdot g(x + h) - f(x) \\cdot g(x + h)) + (f(x) \\cdot g(x + h) - f(x) \\cdot g(x))\n",
        "$$\n",
        "\n",
        "Which leads to:\n",
        "\n",
        "$$\n",
        "(f \\cdot g)'(x) = \\lim_{h \\to 0} \\frac{(f(x + h) - f(x)) \\cdot g(x + h)}{h} + \\lim_{h \\to 0} \\frac{f(x) \\cdot (g(x + h) - g(x))}{h}\n",
        "$$\n",
        "\n",
        "Taking the limits, we get:\n",
        "\n",
        "- The first term converges to \\(f'(x) \\cdot g(x)\\),\n",
        "- The second term converges to \\(f(x) \\cdot g'(x)\\).\n",
        "\n",
        "Thus, the product rule is established:\n",
        "\n",
        "$$\n",
        "(f \\cdot g)'(x) = f'(x) \\cdot g(x) + f(x) \\cdot g'(x)\n",
        "$$\n",
        "\n",
        "## Sum Rule\n",
        "\n",
        "The sum rule states that the derivative of the sum of two functions is the sum of their derivatives:\n",
        "\n",
        "$$\n",
        "(f + g)'(x) = f'(x) + g'(x)\n",
        "$$\n",
        "\n",
        "This can be derived from the definition of the derivative:\n",
        "\n",
        "$$\n",
        "(f + g)'(x) = \\lim_{h \\to 0} \\frac{(f(x + h) + g(x + h)) - (f(x) + g(x))}{h}\n",
        "$$\n",
        "\n",
        "Expanding the expression, we get:\n",
        "\n",
        "$$\n",
        "(f + g)'(x) = \\lim_{h \\to 0} \\frac{f(x + h) - f(x)}{h} + \\lim_{h \\to 0} \\frac{g(x + h) - g(x)}{h}\n",
        "$$\n",
        "\n",
        "Thus, the derivative of the sum is the sum of the derivatives, confirming the sum rule:\n",
        "\n",
        "$$\n",
        "(f + g)'(x) = f'(x) + g'(x)\n",
        "$$\n",
        "\n",
        "## Quotient Rule\n",
        "\n",
        "The quotient rule states that the derivative of the quotient of two functions is:\n",
        "\n",
        "$$\n",
        "\\left( \\frac{f}{g} \\right)'(x) = \\frac{f'(x) \\cdot g(x) - f(x) \\cdot g'(x)}{(g(x))^2}\n",
        "$$\n",
        "\n",
        "Using the definition of the derivative, consider the derivative of the quotient:\n",
        "\n",
        "$$\n",
        "\\left( \\frac{f}{g} \\right)'(x) = \\lim_{h \\to 0} \\frac{\\frac{f(x + h)}{g(x + h)} - \\frac{f(x)}{g(x)}}{h}\n",
        "$$\n",
        "\n",
        "Expanding the expression, we get:\n",
        "\n",
        "$$\n",
        "\\left( \\frac{f}{g} \\right)'(x) = \\lim_{h \\to 0} \\frac{f(x + h) \\cdot g(x) - f(x) \\cdot g(x + h)}{h \\cdot g(x + h) \\cdot g(x)}\n",
        "$$\n",
        "\n",
        "Simplifying the numerator, we have:\n",
        "\n",
        "- The first term converges to \\(f'(x) \\cdot g(x)\\),\n",
        "- The second term converges to \\(f(x) \\cdot g'(x)\\).\n",
        "\n",
        "Thus, the quotient rule is established:\n",
        "\n",
        "$$\n",
        "\\left( \\frac{f}{g} \\right)'(x) = \\frac{f'(x) \\cdot g(x) - f(x) \\cdot g'(x)}{(g(x))^2}\n",
        "$$\n",
        "\n",
        "These derivations demonstrate the product, sum, and quotient rules for derivatives using the limit-based definition of derivatives.\n"
      ],
      "metadata": {
        "id": "DPpNYwPp_cpa"
      },
      "id": "DPpNYwPp_cpa"
    },
    {
      "cell_type": "markdown",
      "source": [
        "3. Prove that the constant multiple rule follows as a special case of the product rule.\n",
        "\n",
        "# Constant Multiple Rule as a Special Case of the Product Rule\n",
        "\n",
        "## Product Rule\n",
        "\n",
        "The product rule states that for two differentiable functions \\(f(x)\\) and \\(g(x)\\), the derivative of their product is:\n",
        "\n",
        "$$\n",
        "(f \\cdot g)'(x) = f'(x) \\cdot g(x) + f(x) \\cdot g'(x)\n",
        "$$\n",
        "\n",
        "## Constant Multiple Rule\n",
        "\n",
        "The constant multiple rule states that if \\(f(x)\\) is a differentiable function and \\(c\\) is a constant, then the derivative of the function \\(c \\cdot f(x)\\) is:\n",
        "\n",
        "$$\n",
        "(c \\cdot f)'(x) = c \\cdot f'(x)\n",
        "$$\n",
        "\n",
        "## Proof Using the Product Rule\n",
        "\n",
        "Let's consider a constant \\(c\\) and a differentiable function \\(f(x)\\). If we apply the product rule to the functions \\(f(x)\\) and \\(c\\), we get:\n",
        "\n",
        "$$\n",
        "(c \\cdot f)'(x) = f'(x) \\cdot c + f(x) \\cdot 0\n",
        "$$\n",
        "\n",
        "Because \\(g(x) = c\\), its derivative is zero, so \\(g'(x) = 0\\). Plugging into the product rule, we have:\n",
        "\n",
        "$$\n",
        "(c \\cdot f)'(x) = c \\cdot f'(x)\n",
        "$$\n",
        "\n",
        "### Conclusion\n",
        "\n",
        "Thus, the constant multiple rule follows as a special case of the product rule, showing that the derivative of a constant times a function is the constant times the derivative of the function.\n"
      ],
      "metadata": {
        "id": "HZQ76hNZh4hz"
      },
      "id": "HZQ76hNZh4hz"
    },
    {
      "cell_type": "markdown",
      "source": [
        "4. Calculate the derivative of $f(x) = x^x$.\n",
        "\n",
        "# Derivative of \\(f(x) = x^x\\)\n",
        "\n",
        "The derivative of \\(f(x) = x^x\\) can be found using the logarithmic differentiation method.\n",
        "\n",
        "## Step 1: Take the Natural Logarithm\n",
        "\n",
        "Take the natural logarithm of both sides of the equation \\(y = x^x\\):\n",
        "\n",
        "$$\n",
        "\\ln(y) = \\ln(x^x) = x \\cdot \\ln(x)\n",
        "$$\n",
        "\n",
        "## Step 2: Differentiate Implicitly\n",
        "\n",
        "Differentiating both sides with respect to \\(x\\), using the product rule, we have:\n",
        "\n",
        "$$\n",
        "\\frac{d}{dx}(x \\cdot \\ln(x)) = \\ln(x) + 1\n",
        "$$\n",
        "\n",
        "Thus, the derivative of the logarithmic form is:\n",
        "\n",
        "$$\n",
        "\\frac{d}{dx}(\\ln(y)) = \\frac{y'}{y} = \\ln(x) + 1\n",
        "$$\n",
        "\n",
        "## Step 3: Solve for \\(y'\\)\n",
        "\n",
        "To find \\(y'\\), multiply both sides by \\(y\\):\n",
        "\n",
        "$$\n",
        "y' = y \\cdot (\\ln(x) + 1)\n",
        "$$\n",
        "\n",
        "Since \\(y = x^x\\), the derivative can be written as:\n",
        "\n",
        "$$\n",
        "f'(x) = x^x \\cdot (\\ln(x) + 1)\n",
        "$$\n",
        "\n",
        "Thus, the derivative of \\(f(x) = x^x\\) is \\(f'(x) = x^x \\cdot (\\ln(x) + 1)\\)."
      ],
      "metadata": {
        "id": "ihSVfaMzsg46"
      },
      "id": "ihSVfaMzsg46"
    },
    {
      "cell_type": "code",
      "source": [
        "# Import sympy for symbolic mathematics\n",
        "import sympy as sp\n",
        "\n",
        "# Define the variable x\n",
        "x = sp.symbols('x')\n",
        "\n",
        "# Define the function f(x) = x^x\n",
        "f = x**x\n",
        "\n",
        "# Calculate the derivative of f(x)\n",
        "f_prime = sp.diff(f, x)\n",
        "\n",
        "# Display the derivative\n",
        "f_prime"
      ],
      "metadata": {
        "id": "XRrZRsHgu9vR",
        "outputId": "fd17bcb0-764d-489e-cc76-d2a3e808eef3",
        "colab": {
          "base_uri": "https://localhost:8080/",
          "height": 39
        }
      },
      "id": "XRrZRsHgu9vR",
      "execution_count": 10,
      "outputs": [
        {
          "output_type": "execute_result",
          "data": {
            "text/plain": [
              "x**x*(log(x) + 1)"
            ],
            "text/latex": "$\\displaystyle x^{x} \\left(\\log{\\left(x \\right)} + 1\\right)$"
          },
          "metadata": {},
          "execution_count": 10
        }
      ]
    },
    {
      "cell_type": "markdown",
      "source": [
        "5. What does it mean that $f'(x) = 0$ for some $x$?\n",
        "   Give an example of a function $f$\n",
        "   and a location $x$ for which this might hold."
      ],
      "metadata": {
        "id": "NjqMQMFcvMVh"
      },
      "id": "NjqMQMFcvMVh"
    },
    {
      "cell_type": "code",
      "source": [
        "# Import the necessary libraries\n",
        "import numpy as np\n",
        "import matplotlib.pyplot as plt\n",
        "\n",
        "# Define the variable x\n",
        "x = sp.symbols('x')\n",
        "\n",
        "# Example function 1: f(x) = x^2\n",
        "f1 = x**2\n",
        "\n",
        "# Calculate the derivative of f(x)\n",
        "f1_prime = sp.diff(f1, x)\n",
        "\n",
        "# Solve for where the derivative is zero\n",
        "x_zeros_f1 = sp.solve(f1_prime, x)\n",
        "\n",
        "print(\"Derivative of f(x) = x^2:\", f1_prime)\n",
        "print(\"Points where the derivative is zero:\", x_zeros_f1)\n",
        "\n",
        "# Example function 2: f(x) = x^3\n",
        "f2 = x**3\n",
        "\n",
        "# Calculate the derivative of f(x)\n",
        "f2_prime = sp.diff(f2, x)\n",
        "\n",
        "# Solve for where the derivative is zero\n",
        "x_zeros_f2 = sp.solve(f2_prime, x)\n",
        "\n",
        "print(\"Derivative of f(x) = x^3:\", f2_prime)\n",
        "print(\"Points where the derivative is zero:\", x_zeros_f2)\n",
        "\n",
        "# Create x-values for the plots\n",
        "x_vals = np.linspace(-2, 2, 100)\n",
        "\n",
        "# Create y-values for each function\n",
        "y_vals_f1 = np.power(x_vals, 2)  # f(x) = x^2\n",
        "y_vals_f2 = np.power(x_vals, 3)  # f(x) = x^3\n",
        "\n",
        "# Plot the functions\n",
        "plt.figure(figsize=(10, 5))\n",
        "\n",
        "# Plot f(x) = x^2 with the zero-derivative point\n",
        "plt.subplot(1, 2, 1)\n",
        "plt.plot(x_vals, y_vals_f1, label='f(x) = x^2')\n",
        "plt.scatter([0], [0], color='red', zorder=5, label=\"f'(x) = 0\")\n",
        "plt.xlabel('x')\n",
        "plt.ylabel('f(x)')\n",
        "plt.title('f(x) = x^2')\n",
        "plt.legend()\n",
        "plt.grid(True)\n",
        "\n",
        "# Plot f(x) = x^3 with the zero-derivative point\n",
        "plt.subplot(1, 2, 2)\n",
        "plt.plot(x_vals, y_vals_f2, label='f(x) = x^3')\n",
        "plt.scatter([0], [0], color='red', zorder=5, label=\"f'(x) = 0\")\n",
        "plt.xlabel('x')\n",
        "plt.ylabel('f(x)')\n",
        "plt.title('f(x) = x^3')\n",
        "plt.legend()\n",
        "plt.grid(True)\n",
        "\n",
        "# Display the plots\n",
        "plt.tight_layout()\n",
        "plt.show()"
      ],
      "metadata": {
        "id": "nlg_b2_O5B0n",
        "outputId": "7bfe6a90-3f91-4641-c946-9cf4c111e21b",
        "colab": {
          "base_uri": "https://localhost:8080/",
          "height": 560
        }
      },
      "id": "nlg_b2_O5B0n",
      "execution_count": 11,
      "outputs": [
        {
          "output_type": "stream",
          "name": "stdout",
          "text": [
            "Derivative of f(x) = x^2: 2*x\n",
            "Points where the derivative is zero: [0]\n",
            "Derivative of f(x) = x^3: 3*x**2\n",
            "Points where the derivative is zero: [0]\n"
          ]
        },
        {
          "output_type": "display_data",
          "data": {
            "text/plain": [
              "<Figure size 1000x500 with 2 Axes>"
            ],
            "image/svg+xml": "<?xml version=\"1.0\" encoding=\"utf-8\" standalone=\"no\"?>\n<!DOCTYPE svg PUBLIC \"-//W3C//DTD SVG 1.1//EN\"\n  \"http://www.w3.org/Graphics/SVG/1.1/DTD/svg11.dtd\">\n<svg xmlns:xlink=\"http://www.w3.org/1999/xlink\" width=\"712.46125pt\" height=\"351.034375pt\" viewBox=\"0 0 712.46125 351.034375\" xmlns=\"http://www.w3.org/2000/svg\" version=\"1.1\">\n <metadata>\n  <rdf:RDF xmlns:dc=\"http://purl.org/dc/elements/1.1/\" xmlns:cc=\"http://creativecommons.org/ns#\" xmlns:rdf=\"http://www.w3.org/1999/02/22-rdf-syntax-ns#\">\n   <cc:Work>\n    <dc:type rdf:resource=\"http://purl.org/dc/dcmitype/StillImage\"/>\n    <dc:date>2024-06-03T19:43:40.198018</dc:date>\n    <dc:format>image/svg+xml</dc:format>\n    <dc:creator>\n     <cc:Agent>\n      <dc:title>Matplotlib v3.7.2, https://matplotlib.org/</dc:title>\n     </cc:Agent>\n    </dc:creator>\n   </cc:Work>\n  </rdf:RDF>\n </metadata>\n <defs>\n  <style type=\"text/css\">*{stroke-linejoin: round; stroke-linecap: butt}</style>\n </defs>\n <g id=\"figure_1\">\n  <g id=\"patch_1\">\n   <path d=\"M 0 351.034375 \nL 712.46125 351.034375 \nL 712.46125 0 \nL 0 0 \nz\n\" style=\"fill: #ffffff\"/>\n  </g>\n  <g id=\"axes_1\">\n   <g id=\"patch_2\">\n    <path d=\"M 43.78125 313.478125 \nL 351.20125 313.478125 \nL 351.20125 22.318125 \nL 43.78125 22.318125 \nz\n\" style=\"fill: #ffffff\"/>\n   </g>\n   <g id=\"matplotlib.axis_1\">\n    <g id=\"xtick_1\">\n     <g id=\"line2d_1\">\n      <path d=\"M 57.754886 313.478125 \nL 57.754886 22.318125 \n\" clip-path=\"url(#p3d017db492)\" style=\"fill: none; stroke: #b0b0b0; stroke-width: 0.8; stroke-linecap: square\"/>\n     </g>\n     <g id=\"line2d_2\">\n      <defs>\n       <path id=\"ma77a392e5e\" d=\"M 0 0 \nL 0 3.5 \n\" style=\"stroke: #000000; stroke-width: 0.8\"/>\n      </defs>\n      <g>\n       <use xlink:href=\"#ma77a392e5e\" x=\"57.754886\" y=\"313.478125\" style=\"stroke: #000000; stroke-width: 0.8\"/>\n      </g>\n     </g>\n     <g id=\"text_1\">\n      <!-- −2.0 -->\n      <g transform=\"translate(45.61348 328.076563) scale(0.1 -0.1)\">\n       <defs>\n        <path id=\"DejaVuSans-2212\" d=\"M 678 2272 \nL 4684 2272 \nL 4684 1741 \nL 678 1741 \nL 678 2272 \nz\n\" transform=\"scale(0.015625)\"/>\n        <path id=\"DejaVuSans-32\" d=\"M 1228 531 \nL 3431 531 \nL 3431 0 \nL 469 0 \nL 469 531 \nQ 828 903 1448 1529 \nQ 2069 2156 2228 2338 \nQ 2531 2678 2651 2914 \nQ 2772 3150 2772 3378 \nQ 2772 3750 2511 3984 \nQ 2250 4219 1831 4219 \nQ 1534 4219 1204 4116 \nQ 875 4013 500 3803 \nL 500 4441 \nQ 881 4594 1212 4672 \nQ 1544 4750 1819 4750 \nQ 2544 4750 2975 4387 \nQ 3406 4025 3406 3419 \nQ 3406 3131 3298 2873 \nQ 3191 2616 2906 2266 \nQ 2828 2175 2409 1742 \nQ 1991 1309 1228 531 \nz\n\" transform=\"scale(0.015625)\"/>\n        <path id=\"DejaVuSans-2e\" d=\"M 684 794 \nL 1344 794 \nL 1344 0 \nL 684 0 \nL 684 794 \nz\n\" transform=\"scale(0.015625)\"/>\n        <path id=\"DejaVuSans-30\" d=\"M 2034 4250 \nQ 1547 4250 1301 3770 \nQ 1056 3291 1056 2328 \nQ 1056 1369 1301 889 \nQ 1547 409 2034 409 \nQ 2525 409 2770 889 \nQ 3016 1369 3016 2328 \nQ 3016 3291 2770 3770 \nQ 2525 4250 2034 4250 \nz\nM 2034 4750 \nQ 2819 4750 3233 4129 \nQ 3647 3509 3647 2328 \nQ 3647 1150 3233 529 \nQ 2819 -91 2034 -91 \nQ 1250 -91 836 529 \nQ 422 1150 422 2328 \nQ 422 3509 836 4129 \nQ 1250 4750 2034 4750 \nz\n\" transform=\"scale(0.015625)\"/>\n       </defs>\n       <use xlink:href=\"#DejaVuSans-2212\"/>\n       <use xlink:href=\"#DejaVuSans-32\" x=\"83.789062\"/>\n       <use xlink:href=\"#DejaVuSans-2e\" x=\"147.412109\"/>\n       <use xlink:href=\"#DejaVuSans-30\" x=\"179.199219\"/>\n      </g>\n     </g>\n    </g>\n    <g id=\"xtick_2\">\n     <g id=\"line2d_3\">\n      <path d=\"M 92.688977 313.478125 \nL 92.688977 22.318125 \n\" clip-path=\"url(#p3d017db492)\" style=\"fill: none; stroke: #b0b0b0; stroke-width: 0.8; stroke-linecap: square\"/>\n     </g>\n     <g id=\"line2d_4\">\n      <g>\n       <use xlink:href=\"#ma77a392e5e\" x=\"92.688977\" y=\"313.478125\" style=\"stroke: #000000; stroke-width: 0.8\"/>\n      </g>\n     </g>\n     <g id=\"text_2\">\n      <!-- −1.5 -->\n      <g transform=\"translate(80.547571 328.076563) scale(0.1 -0.1)\">\n       <defs>\n        <path id=\"DejaVuSans-31\" d=\"M 794 531 \nL 1825 531 \nL 1825 4091 \nL 703 3866 \nL 703 4441 \nL 1819 4666 \nL 2450 4666 \nL 2450 531 \nL 3481 531 \nL 3481 0 \nL 794 0 \nL 794 531 \nz\n\" transform=\"scale(0.015625)\"/>\n        <path id=\"DejaVuSans-35\" d=\"M 691 4666 \nL 3169 4666 \nL 3169 4134 \nL 1269 4134 \nL 1269 2991 \nQ 1406 3038 1543 3061 \nQ 1681 3084 1819 3084 \nQ 2600 3084 3056 2656 \nQ 3513 2228 3513 1497 \nQ 3513 744 3044 326 \nQ 2575 -91 1722 -91 \nQ 1428 -91 1123 -41 \nQ 819 9 494 109 \nL 494 744 \nQ 775 591 1075 516 \nQ 1375 441 1709 441 \nQ 2250 441 2565 725 \nQ 2881 1009 2881 1497 \nQ 2881 1984 2565 2268 \nQ 2250 2553 1709 2553 \nQ 1456 2553 1204 2497 \nQ 953 2441 691 2322 \nL 691 4666 \nz\n\" transform=\"scale(0.015625)\"/>\n       </defs>\n       <use xlink:href=\"#DejaVuSans-2212\"/>\n       <use xlink:href=\"#DejaVuSans-31\" x=\"83.789062\"/>\n       <use xlink:href=\"#DejaVuSans-2e\" x=\"147.412109\"/>\n       <use xlink:href=\"#DejaVuSans-35\" x=\"179.199219\"/>\n      </g>\n     </g>\n    </g>\n    <g id=\"xtick_3\">\n     <g id=\"line2d_5\">\n      <path d=\"M 127.623068 313.478125 \nL 127.623068 22.318125 \n\" clip-path=\"url(#p3d017db492)\" style=\"fill: none; stroke: #b0b0b0; stroke-width: 0.8; stroke-linecap: square\"/>\n     </g>\n     <g id=\"line2d_6\">\n      <g>\n       <use xlink:href=\"#ma77a392e5e\" x=\"127.623068\" y=\"313.478125\" style=\"stroke: #000000; stroke-width: 0.8\"/>\n      </g>\n     </g>\n     <g id=\"text_3\">\n      <!-- −1.0 -->\n      <g transform=\"translate(115.481662 328.076563) scale(0.1 -0.1)\">\n       <use xlink:href=\"#DejaVuSans-2212\"/>\n       <use xlink:href=\"#DejaVuSans-31\" x=\"83.789062\"/>\n       <use xlink:href=\"#DejaVuSans-2e\" x=\"147.412109\"/>\n       <use xlink:href=\"#DejaVuSans-30\" x=\"179.199219\"/>\n      </g>\n     </g>\n    </g>\n    <g id=\"xtick_4\">\n     <g id=\"line2d_7\">\n      <path d=\"M 162.557159 313.478125 \nL 162.557159 22.318125 \n\" clip-path=\"url(#p3d017db492)\" style=\"fill: none; stroke: #b0b0b0; stroke-width: 0.8; stroke-linecap: square\"/>\n     </g>\n     <g id=\"line2d_8\">\n      <g>\n       <use xlink:href=\"#ma77a392e5e\" x=\"162.557159\" y=\"313.478125\" style=\"stroke: #000000; stroke-width: 0.8\"/>\n      </g>\n     </g>\n     <g id=\"text_4\">\n      <!-- −0.5 -->\n      <g transform=\"translate(150.415753 328.076563) scale(0.1 -0.1)\">\n       <use xlink:href=\"#DejaVuSans-2212\"/>\n       <use xlink:href=\"#DejaVuSans-30\" x=\"83.789062\"/>\n       <use xlink:href=\"#DejaVuSans-2e\" x=\"147.412109\"/>\n       <use xlink:href=\"#DejaVuSans-35\" x=\"179.199219\"/>\n      </g>\n     </g>\n    </g>\n    <g id=\"xtick_5\">\n     <g id=\"line2d_9\">\n      <path d=\"M 197.49125 313.478125 \nL 197.49125 22.318125 \n\" clip-path=\"url(#p3d017db492)\" style=\"fill: none; stroke: #b0b0b0; stroke-width: 0.8; stroke-linecap: square\"/>\n     </g>\n     <g id=\"line2d_10\">\n      <g>\n       <use xlink:href=\"#ma77a392e5e\" x=\"197.49125\" y=\"313.478125\" style=\"stroke: #000000; stroke-width: 0.8\"/>\n      </g>\n     </g>\n     <g id=\"text_5\">\n      <!-- 0.0 -->\n      <g transform=\"translate(189.539688 328.076563) scale(0.1 -0.1)\">\n       <use xlink:href=\"#DejaVuSans-30\"/>\n       <use xlink:href=\"#DejaVuSans-2e\" x=\"63.623047\"/>\n       <use xlink:href=\"#DejaVuSans-30\" x=\"95.410156\"/>\n      </g>\n     </g>\n    </g>\n    <g id=\"xtick_6\">\n     <g id=\"line2d_11\">\n      <path d=\"M 232.425341 313.478125 \nL 232.425341 22.318125 \n\" clip-path=\"url(#p3d017db492)\" style=\"fill: none; stroke: #b0b0b0; stroke-width: 0.8; stroke-linecap: square\"/>\n     </g>\n     <g id=\"line2d_12\">\n      <g>\n       <use xlink:href=\"#ma77a392e5e\" x=\"232.425341\" y=\"313.478125\" style=\"stroke: #000000; stroke-width: 0.8\"/>\n      </g>\n     </g>\n     <g id=\"text_6\">\n      <!-- 0.5 -->\n      <g transform=\"translate(224.473778 328.076563) scale(0.1 -0.1)\">\n       <use xlink:href=\"#DejaVuSans-30\"/>\n       <use xlink:href=\"#DejaVuSans-2e\" x=\"63.623047\"/>\n       <use xlink:href=\"#DejaVuSans-35\" x=\"95.410156\"/>\n      </g>\n     </g>\n    </g>\n    <g id=\"xtick_7\">\n     <g id=\"line2d_13\">\n      <path d=\"M 267.359432 313.478125 \nL 267.359432 22.318125 \n\" clip-path=\"url(#p3d017db492)\" style=\"fill: none; stroke: #b0b0b0; stroke-width: 0.8; stroke-linecap: square\"/>\n     </g>\n     <g id=\"line2d_14\">\n      <g>\n       <use xlink:href=\"#ma77a392e5e\" x=\"267.359432\" y=\"313.478125\" style=\"stroke: #000000; stroke-width: 0.8\"/>\n      </g>\n     </g>\n     <g id=\"text_7\">\n      <!-- 1.0 -->\n      <g transform=\"translate(259.407869 328.076563) scale(0.1 -0.1)\">\n       <use xlink:href=\"#DejaVuSans-31\"/>\n       <use xlink:href=\"#DejaVuSans-2e\" x=\"63.623047\"/>\n       <use xlink:href=\"#DejaVuSans-30\" x=\"95.410156\"/>\n      </g>\n     </g>\n    </g>\n    <g id=\"xtick_8\">\n     <g id=\"line2d_15\">\n      <path d=\"M 302.293523 313.478125 \nL 302.293523 22.318125 \n\" clip-path=\"url(#p3d017db492)\" style=\"fill: none; stroke: #b0b0b0; stroke-width: 0.8; stroke-linecap: square\"/>\n     </g>\n     <g id=\"line2d_16\">\n      <g>\n       <use xlink:href=\"#ma77a392e5e\" x=\"302.293523\" y=\"313.478125\" style=\"stroke: #000000; stroke-width: 0.8\"/>\n      </g>\n     </g>\n     <g id=\"text_8\">\n      <!-- 1.5 -->\n      <g transform=\"translate(294.34196 328.076563) scale(0.1 -0.1)\">\n       <use xlink:href=\"#DejaVuSans-31\"/>\n       <use xlink:href=\"#DejaVuSans-2e\" x=\"63.623047\"/>\n       <use xlink:href=\"#DejaVuSans-35\" x=\"95.410156\"/>\n      </g>\n     </g>\n    </g>\n    <g id=\"xtick_9\">\n     <g id=\"line2d_17\">\n      <path d=\"M 337.227614 313.478125 \nL 337.227614 22.318125 \n\" clip-path=\"url(#p3d017db492)\" style=\"fill: none; stroke: #b0b0b0; stroke-width: 0.8; stroke-linecap: square\"/>\n     </g>\n     <g id=\"line2d_18\">\n      <g>\n       <use xlink:href=\"#ma77a392e5e\" x=\"337.227614\" y=\"313.478125\" style=\"stroke: #000000; stroke-width: 0.8\"/>\n      </g>\n     </g>\n     <g id=\"text_9\">\n      <!-- 2.0 -->\n      <g transform=\"translate(329.276051 328.076563) scale(0.1 -0.1)\">\n       <use xlink:href=\"#DejaVuSans-32\"/>\n       <use xlink:href=\"#DejaVuSans-2e\" x=\"63.623047\"/>\n       <use xlink:href=\"#DejaVuSans-30\" x=\"95.410156\"/>\n      </g>\n     </g>\n    </g>\n    <g id=\"text_10\">\n     <!-- x -->\n     <g transform=\"translate(194.531875 341.754687) scale(0.1 -0.1)\">\n      <defs>\n       <path id=\"DejaVuSans-78\" d=\"M 3513 3500 \nL 2247 1797 \nL 3578 0 \nL 2900 0 \nL 1881 1375 \nL 863 0 \nL 184 0 \nL 1544 1831 \nL 300 3500 \nL 978 3500 \nL 1906 2253 \nL 2834 3500 \nL 3513 3500 \nz\n\" transform=\"scale(0.015625)\"/>\n      </defs>\n      <use xlink:href=\"#DejaVuSans-78\"/>\n     </g>\n    </g>\n   </g>\n   <g id=\"matplotlib.axis_2\">\n    <g id=\"ytick_1\">\n     <g id=\"line2d_19\">\n      <path d=\"M 43.78125 300.24358 \nL 351.20125 300.24358 \n\" clip-path=\"url(#p3d017db492)\" style=\"fill: none; stroke: #b0b0b0; stroke-width: 0.8; stroke-linecap: square\"/>\n     </g>\n     <g id=\"line2d_20\">\n      <defs>\n       <path id=\"m7d736eda9f\" d=\"M 0 0 \nL -3.5 0 \n\" style=\"stroke: #000000; stroke-width: 0.8\"/>\n      </defs>\n      <g>\n       <use xlink:href=\"#m7d736eda9f\" x=\"43.78125\" y=\"300.24358\" style=\"stroke: #000000; stroke-width: 0.8\"/>\n      </g>\n     </g>\n     <g id=\"text_11\">\n      <!-- 0.0 -->\n      <g transform=\"translate(20.878125 304.042798) scale(0.1 -0.1)\">\n       <use xlink:href=\"#DejaVuSans-30\"/>\n       <use xlink:href=\"#DejaVuSans-2e\" x=\"63.623047\"/>\n       <use xlink:href=\"#DejaVuSans-30\" x=\"95.410156\"/>\n      </g>\n     </g>\n    </g>\n    <g id=\"ytick_2\">\n     <g id=\"line2d_21\">\n      <path d=\"M 43.78125 267.157216 \nL 351.20125 267.157216 \n\" clip-path=\"url(#p3d017db492)\" style=\"fill: none; stroke: #b0b0b0; stroke-width: 0.8; stroke-linecap: square\"/>\n     </g>\n     <g id=\"line2d_22\">\n      <g>\n       <use xlink:href=\"#m7d736eda9f\" x=\"43.78125\" y=\"267.157216\" style=\"stroke: #000000; stroke-width: 0.8\"/>\n      </g>\n     </g>\n     <g id=\"text_12\">\n      <!-- 0.5 -->\n      <g transform=\"translate(20.878125 270.956435) scale(0.1 -0.1)\">\n       <use xlink:href=\"#DejaVuSans-30\"/>\n       <use xlink:href=\"#DejaVuSans-2e\" x=\"63.623047\"/>\n       <use xlink:href=\"#DejaVuSans-35\" x=\"95.410156\"/>\n      </g>\n     </g>\n    </g>\n    <g id=\"ytick_3\">\n     <g id=\"line2d_23\">\n      <path d=\"M 43.78125 234.070852 \nL 351.20125 234.070852 \n\" clip-path=\"url(#p3d017db492)\" style=\"fill: none; stroke: #b0b0b0; stroke-width: 0.8; stroke-linecap: square\"/>\n     </g>\n     <g id=\"line2d_24\">\n      <g>\n       <use xlink:href=\"#m7d736eda9f\" x=\"43.78125\" y=\"234.070852\" style=\"stroke: #000000; stroke-width: 0.8\"/>\n      </g>\n     </g>\n     <g id=\"text_13\">\n      <!-- 1.0 -->\n      <g transform=\"translate(20.878125 237.870071) scale(0.1 -0.1)\">\n       <use xlink:href=\"#DejaVuSans-31\"/>\n       <use xlink:href=\"#DejaVuSans-2e\" x=\"63.623047\"/>\n       <use xlink:href=\"#DejaVuSans-30\" x=\"95.410156\"/>\n      </g>\n     </g>\n    </g>\n    <g id=\"ytick_4\">\n     <g id=\"line2d_25\">\n      <path d=\"M 43.78125 200.984489 \nL 351.20125 200.984489 \n\" clip-path=\"url(#p3d017db492)\" style=\"fill: none; stroke: #b0b0b0; stroke-width: 0.8; stroke-linecap: square\"/>\n     </g>\n     <g id=\"line2d_26\">\n      <g>\n       <use xlink:href=\"#m7d736eda9f\" x=\"43.78125\" y=\"200.984489\" style=\"stroke: #000000; stroke-width: 0.8\"/>\n      </g>\n     </g>\n     <g id=\"text_14\">\n      <!-- 1.5 -->\n      <g transform=\"translate(20.878125 204.783707) scale(0.1 -0.1)\">\n       <use xlink:href=\"#DejaVuSans-31\"/>\n       <use xlink:href=\"#DejaVuSans-2e\" x=\"63.623047\"/>\n       <use xlink:href=\"#DejaVuSans-35\" x=\"95.410156\"/>\n      </g>\n     </g>\n    </g>\n    <g id=\"ytick_5\">\n     <g id=\"line2d_27\">\n      <path d=\"M 43.78125 167.898125 \nL 351.20125 167.898125 \n\" clip-path=\"url(#p3d017db492)\" style=\"fill: none; stroke: #b0b0b0; stroke-width: 0.8; stroke-linecap: square\"/>\n     </g>\n     <g id=\"line2d_28\">\n      <g>\n       <use xlink:href=\"#m7d736eda9f\" x=\"43.78125\" y=\"167.898125\" style=\"stroke: #000000; stroke-width: 0.8\"/>\n      </g>\n     </g>\n     <g id=\"text_15\">\n      <!-- 2.0 -->\n      <g transform=\"translate(20.878125 171.697344) scale(0.1 -0.1)\">\n       <use xlink:href=\"#DejaVuSans-32\"/>\n       <use xlink:href=\"#DejaVuSans-2e\" x=\"63.623047\"/>\n       <use xlink:href=\"#DejaVuSans-30\" x=\"95.410156\"/>\n      </g>\n     </g>\n    </g>\n    <g id=\"ytick_6\">\n     <g id=\"line2d_29\">\n      <path d=\"M 43.78125 134.811761 \nL 351.20125 134.811761 \n\" clip-path=\"url(#p3d017db492)\" style=\"fill: none; stroke: #b0b0b0; stroke-width: 0.8; stroke-linecap: square\"/>\n     </g>\n     <g id=\"line2d_30\">\n      <g>\n       <use xlink:href=\"#m7d736eda9f\" x=\"43.78125\" y=\"134.811761\" style=\"stroke: #000000; stroke-width: 0.8\"/>\n      </g>\n     </g>\n     <g id=\"text_16\">\n      <!-- 2.5 -->\n      <g transform=\"translate(20.878125 138.61098) scale(0.1 -0.1)\">\n       <use xlink:href=\"#DejaVuSans-32\"/>\n       <use xlink:href=\"#DejaVuSans-2e\" x=\"63.623047\"/>\n       <use xlink:href=\"#DejaVuSans-35\" x=\"95.410156\"/>\n      </g>\n     </g>\n    </g>\n    <g id=\"ytick_7\">\n     <g id=\"line2d_31\">\n      <path d=\"M 43.78125 101.725398 \nL 351.20125 101.725398 \n\" clip-path=\"url(#p3d017db492)\" style=\"fill: none; stroke: #b0b0b0; stroke-width: 0.8; stroke-linecap: square\"/>\n     </g>\n     <g id=\"line2d_32\">\n      <g>\n       <use xlink:href=\"#m7d736eda9f\" x=\"43.78125\" y=\"101.725398\" style=\"stroke: #000000; stroke-width: 0.8\"/>\n      </g>\n     </g>\n     <g id=\"text_17\">\n      <!-- 3.0 -->\n      <g transform=\"translate(20.878125 105.524616) scale(0.1 -0.1)\">\n       <defs>\n        <path id=\"DejaVuSans-33\" d=\"M 2597 2516 \nQ 3050 2419 3304 2112 \nQ 3559 1806 3559 1356 \nQ 3559 666 3084 287 \nQ 2609 -91 1734 -91 \nQ 1441 -91 1130 -33 \nQ 819 25 488 141 \nL 488 750 \nQ 750 597 1062 519 \nQ 1375 441 1716 441 \nQ 2309 441 2620 675 \nQ 2931 909 2931 1356 \nQ 2931 1769 2642 2001 \nQ 2353 2234 1838 2234 \nL 1294 2234 \nL 1294 2753 \nL 1863 2753 \nQ 2328 2753 2575 2939 \nQ 2822 3125 2822 3475 \nQ 2822 3834 2567 4026 \nQ 2313 4219 1838 4219 \nQ 1578 4219 1281 4162 \nQ 984 4106 628 3988 \nL 628 4550 \nQ 988 4650 1302 4700 \nQ 1616 4750 1894 4750 \nQ 2613 4750 3031 4423 \nQ 3450 4097 3450 3541 \nQ 3450 3153 3228 2886 \nQ 3006 2619 2597 2516 \nz\n\" transform=\"scale(0.015625)\"/>\n       </defs>\n       <use xlink:href=\"#DejaVuSans-33\"/>\n       <use xlink:href=\"#DejaVuSans-2e\" x=\"63.623047\"/>\n       <use xlink:href=\"#DejaVuSans-30\" x=\"95.410156\"/>\n      </g>\n     </g>\n    </g>\n    <g id=\"ytick_8\">\n     <g id=\"line2d_33\">\n      <path d=\"M 43.78125 68.639034 \nL 351.20125 68.639034 \n\" clip-path=\"url(#p3d017db492)\" style=\"fill: none; stroke: #b0b0b0; stroke-width: 0.8; stroke-linecap: square\"/>\n     </g>\n     <g id=\"line2d_34\">\n      <g>\n       <use xlink:href=\"#m7d736eda9f\" x=\"43.78125\" y=\"68.639034\" style=\"stroke: #000000; stroke-width: 0.8\"/>\n      </g>\n     </g>\n     <g id=\"text_18\">\n      <!-- 3.5 -->\n      <g transform=\"translate(20.878125 72.438253) scale(0.1 -0.1)\">\n       <use xlink:href=\"#DejaVuSans-33\"/>\n       <use xlink:href=\"#DejaVuSans-2e\" x=\"63.623047\"/>\n       <use xlink:href=\"#DejaVuSans-35\" x=\"95.410156\"/>\n      </g>\n     </g>\n    </g>\n    <g id=\"ytick_9\">\n     <g id=\"line2d_35\">\n      <path d=\"M 43.78125 35.55267 \nL 351.20125 35.55267 \n\" clip-path=\"url(#p3d017db492)\" style=\"fill: none; stroke: #b0b0b0; stroke-width: 0.8; stroke-linecap: square\"/>\n     </g>\n     <g id=\"line2d_36\">\n      <g>\n       <use xlink:href=\"#m7d736eda9f\" x=\"43.78125\" y=\"35.55267\" style=\"stroke: #000000; stroke-width: 0.8\"/>\n      </g>\n     </g>\n     <g id=\"text_19\">\n      <!-- 4.0 -->\n      <g transform=\"translate(20.878125 39.351889) scale(0.1 -0.1)\">\n       <defs>\n        <path id=\"DejaVuSans-34\" d=\"M 2419 4116 \nL 825 1625 \nL 2419 1625 \nL 2419 4116 \nz\nM 2253 4666 \nL 3047 4666 \nL 3047 1625 \nL 3713 1625 \nL 3713 1100 \nL 3047 1100 \nL 3047 0 \nL 2419 0 \nL 2419 1100 \nL 313 1100 \nL 313 1709 \nL 2253 4666 \nz\n\" transform=\"scale(0.015625)\"/>\n       </defs>\n       <use xlink:href=\"#DejaVuSans-34\"/>\n       <use xlink:href=\"#DejaVuSans-2e\" x=\"63.623047\"/>\n       <use xlink:href=\"#DejaVuSans-30\" x=\"95.410156\"/>\n      </g>\n     </g>\n    </g>\n    <g id=\"text_20\">\n     <!-- f(x) -->\n     <g transform=\"translate(14.798438 176.519219) rotate(-90) scale(0.1 -0.1)\">\n      <defs>\n       <path id=\"DejaVuSans-66\" d=\"M 2375 4863 \nL 2375 4384 \nL 1825 4384 \nQ 1516 4384 1395 4259 \nQ 1275 4134 1275 3809 \nL 1275 3500 \nL 2222 3500 \nL 2222 3053 \nL 1275 3053 \nL 1275 0 \nL 697 0 \nL 697 3053 \nL 147 3053 \nL 147 3500 \nL 697 3500 \nL 697 3744 \nQ 697 4328 969 4595 \nQ 1241 4863 1831 4863 \nL 2375 4863 \nz\n\" transform=\"scale(0.015625)\"/>\n       <path id=\"DejaVuSans-28\" d=\"M 1984 4856 \nQ 1566 4138 1362 3434 \nQ 1159 2731 1159 2009 \nQ 1159 1288 1364 580 \nQ 1569 -128 1984 -844 \nL 1484 -844 \nQ 1016 -109 783 600 \nQ 550 1309 550 2009 \nQ 550 2706 781 3412 \nQ 1013 4119 1484 4856 \nL 1984 4856 \nz\n\" transform=\"scale(0.015625)\"/>\n       <path id=\"DejaVuSans-29\" d=\"M 513 4856 \nL 1013 4856 \nQ 1481 4119 1714 3412 \nQ 1947 2706 1947 2009 \nQ 1947 1309 1714 600 \nQ 1481 -109 1013 -844 \nL 513 -844 \nQ 928 -128 1133 580 \nQ 1338 1288 1338 2009 \nQ 1338 2731 1133 3434 \nQ 928 4138 513 4856 \nz\n\" transform=\"scale(0.015625)\"/>\n      </defs>\n      <use xlink:href=\"#DejaVuSans-66\"/>\n      <use xlink:href=\"#DejaVuSans-28\" x=\"35.205078\"/>\n      <use xlink:href=\"#DejaVuSans-78\" x=\"74.21875\"/>\n      <use xlink:href=\"#DejaVuSans-29\" x=\"133.398438\"/>\n     </g>\n    </g>\n   </g>\n   <g id=\"line2d_37\">\n    <path d=\"M 57.754886 35.55267 \nL 60.577843 46.139227 \nL 63.4008 56.50973 \nL 66.223757 66.664182 \nL 69.046714 76.602582 \nL 71.869671 86.324929 \nL 74.692627 95.831225 \nL 77.515584 105.121468 \nL 80.338541 114.195659 \nL 83.161498 123.053797 \nL 85.984455 131.695884 \nL 88.807412 140.121918 \nL 91.630368 148.331901 \nL 94.453325 156.325831 \nL 97.276282 164.103709 \nL 100.099239 171.665535 \nL 102.922196 179.011308 \nL 105.745153 186.14103 \nL 108.56811 193.054699 \nL 111.391066 199.752316 \nL 114.214023 206.233881 \nL 117.03698 212.499394 \nL 119.859937 218.548855 \nL 122.682894 224.382263 \nL 125.505851 229.999619 \nL 128.328807 235.400923 \nL 131.151764 240.586175 \nL 133.974721 245.555375 \nL 136.797678 250.308523 \nL 139.620635 254.845618 \nL 142.443592 259.166662 \nL 145.266548 263.271653 \nL 148.089505 267.160592 \nL 150.912462 270.833479 \nL 153.735419 274.290313 \nL 156.558376 277.531096 \nL 159.381333 280.555826 \nL 162.204289 283.364504 \nL 165.027246 285.95713 \nL 167.850203 288.333704 \nL 170.67316 290.494226 \nL 173.496117 292.438695 \nL 176.319074 294.167112 \nL 179.142031 295.679478 \nL 181.964987 296.975791 \nL 184.787944 298.056051 \nL 187.610901 298.92026 \nL 190.433858 299.568417 \nL 193.256815 300.000521 \nL 196.079772 300.216573 \nL 198.902728 300.216573 \nL 201.725685 300.000521 \nL 204.548642 299.568417 \nL 207.371599 298.92026 \nL 210.194556 298.056051 \nL 213.017513 296.975791 \nL 215.840469 295.679478 \nL 218.663426 294.167112 \nL 221.486383 292.438695 \nL 224.30934 290.494226 \nL 227.132297 288.333704 \nL 229.955254 285.95713 \nL 232.778211 283.364504 \nL 235.601167 280.555826 \nL 238.424124 277.531096 \nL 241.247081 274.290313 \nL 244.070038 270.833479 \nL 246.892995 267.160592 \nL 249.715952 263.271653 \nL 252.538908 259.166662 \nL 255.361865 254.845618 \nL 258.184822 250.308523 \nL 261.007779 245.555375 \nL 263.830736 240.586175 \nL 266.653693 235.400923 \nL 269.476649 229.999619 \nL 272.299606 224.382263 \nL 275.122563 218.548855 \nL 277.94552 212.499394 \nL 280.768477 206.233881 \nL 283.591434 199.752316 \nL 286.41439 193.054699 \nL 289.237347 186.14103 \nL 292.060304 179.011308 \nL 294.883261 171.665535 \nL 297.706218 164.103709 \nL 300.529175 156.325831 \nL 303.352132 148.331901 \nL 306.175088 140.121918 \nL 308.998045 131.695884 \nL 311.821002 123.053797 \nL 314.643959 114.195659 \nL 317.466916 105.121468 \nL 320.289873 95.831225 \nL 323.112829 86.324929 \nL 325.935786 76.602582 \nL 328.758743 66.664182 \nL 331.5817 56.50973 \nL 334.404657 46.139227 \nL 337.227614 35.55267 \n\" clip-path=\"url(#p3d017db492)\" style=\"fill: none; stroke: #1f77b4; stroke-width: 1.5; stroke-linecap: square\"/>\n   </g>\n   <g id=\"patch_3\">\n    <path d=\"M 43.78125 313.478125 \nL 43.78125 22.318125 \n\" style=\"fill: none; stroke: #000000; stroke-width: 0.8; stroke-linejoin: miter; stroke-linecap: square\"/>\n   </g>\n   <g id=\"patch_4\">\n    <path d=\"M 351.20125 313.478125 \nL 351.20125 22.318125 \n\" style=\"fill: none; stroke: #000000; stroke-width: 0.8; stroke-linejoin: miter; stroke-linecap: square\"/>\n   </g>\n   <g id=\"patch_5\">\n    <path d=\"M 43.78125 313.478125 \nL 351.20125 313.478125 \n\" style=\"fill: none; stroke: #000000; stroke-width: 0.8; stroke-linejoin: miter; stroke-linecap: square\"/>\n   </g>\n   <g id=\"patch_6\">\n    <path d=\"M 43.78125 22.318125 \nL 351.20125 22.318125 \n\" style=\"fill: none; stroke: #000000; stroke-width: 0.8; stroke-linejoin: miter; stroke-linecap: square\"/>\n   </g>\n   <g id=\"text_21\">\n    <!-- f(x) = x^2 -->\n    <g transform=\"translate(165.907813 16.318125) scale(0.12 -0.12)\">\n     <defs>\n      <path id=\"DejaVuSans-20\" transform=\"scale(0.015625)\"/>\n      <path id=\"DejaVuSans-3d\" d=\"M 678 2906 \nL 4684 2906 \nL 4684 2381 \nL 678 2381 \nL 678 2906 \nz\nM 678 1631 \nL 4684 1631 \nL 4684 1100 \nL 678 1100 \nL 678 1631 \nz\n\" transform=\"scale(0.015625)\"/>\n      <path id=\"DejaVuSans-5e\" d=\"M 2988 4666 \nL 4684 2925 \nL 4056 2925 \nL 2681 4159 \nL 1306 2925 \nL 678 2925 \nL 2375 4666 \nL 2988 4666 \nz\n\" transform=\"scale(0.015625)\"/>\n     </defs>\n     <use xlink:href=\"#DejaVuSans-66\"/>\n     <use xlink:href=\"#DejaVuSans-28\" x=\"35.205078\"/>\n     <use xlink:href=\"#DejaVuSans-78\" x=\"74.21875\"/>\n     <use xlink:href=\"#DejaVuSans-29\" x=\"133.398438\"/>\n     <use xlink:href=\"#DejaVuSans-20\" x=\"172.412109\"/>\n     <use xlink:href=\"#DejaVuSans-3d\" x=\"204.199219\"/>\n     <use xlink:href=\"#DejaVuSans-20\" x=\"287.988281\"/>\n     <use xlink:href=\"#DejaVuSans-78\" x=\"319.775391\"/>\n     <use xlink:href=\"#DejaVuSans-5e\" x=\"378.955078\"/>\n     <use xlink:href=\"#DejaVuSans-32\" x=\"462.744141\"/>\n    </g>\n   </g>\n   <g id=\"PathCollection_1\">\n    <defs>\n     <path id=\"m9ddb175366\" d=\"M 0 3 \nC 0.795609 3 1.55874 2.683901 2.12132 2.12132 \nC 2.683901 1.55874 3 0.795609 3 0 \nC 3 -0.795609 2.683901 -1.55874 2.12132 -2.12132 \nC 1.55874 -2.683901 0.795609 -3 0 -3 \nC -0.795609 -3 -1.55874 -2.683901 -2.12132 -2.12132 \nC -2.683901 -1.55874 -3 -0.795609 -3 0 \nC -3 0.795609 -2.683901 1.55874 -2.12132 2.12132 \nC -1.55874 2.683901 -0.795609 3 0 3 \nz\n\" style=\"stroke: #ff0000\"/>\n    </defs>\n    <g clip-path=\"url(#p3d017db492)\">\n     <use xlink:href=\"#m9ddb175366\" x=\"197.49125\" y=\"300.24358\" style=\"fill: #ff0000; stroke: #ff0000\"/>\n    </g>\n   </g>\n   <g id=\"legend_1\">\n    <g id=\"patch_7\">\n     <path d=\"M 50.78125 308.478125 \nL 135.420312 308.478125 \nQ 137.420312 308.478125 137.420312 306.478125 \nL 137.420312 278.121875 \nQ 137.420312 276.121875 135.420312 276.121875 \nL 50.78125 276.121875 \nQ 48.78125 276.121875 48.78125 278.121875 \nL 48.78125 306.478125 \nQ 48.78125 308.478125 50.78125 308.478125 \nz\n\" style=\"fill: #ffffff; opacity: 0.8; stroke: #cccccc; stroke-linejoin: miter\"/>\n    </g>\n    <g id=\"line2d_38\">\n     <path d=\"M 52.78125 284.220312 \nL 62.78125 284.220312 \nL 72.78125 284.220312 \n\" style=\"fill: none; stroke: #1f77b4; stroke-width: 1.5; stroke-linecap: square\"/>\n    </g>\n    <g id=\"text_22\">\n     <!-- f(x) = x^2 -->\n     <g transform=\"translate(80.78125 287.720312) scale(0.1 -0.1)\">\n      <use xlink:href=\"#DejaVuSans-66\"/>\n      <use xlink:href=\"#DejaVuSans-28\" x=\"35.205078\"/>\n      <use xlink:href=\"#DejaVuSans-78\" x=\"74.21875\"/>\n      <use xlink:href=\"#DejaVuSans-29\" x=\"133.398438\"/>\n      <use xlink:href=\"#DejaVuSans-20\" x=\"172.412109\"/>\n      <use xlink:href=\"#DejaVuSans-3d\" x=\"204.199219\"/>\n      <use xlink:href=\"#DejaVuSans-20\" x=\"287.988281\"/>\n      <use xlink:href=\"#DejaVuSans-78\" x=\"319.775391\"/>\n      <use xlink:href=\"#DejaVuSans-5e\" x=\"378.955078\"/>\n      <use xlink:href=\"#DejaVuSans-32\" x=\"462.744141\"/>\n     </g>\n    </g>\n    <g id=\"PathCollection_2\">\n     <g>\n      <use xlink:href=\"#m9ddb175366\" x=\"62.78125\" y=\"299.773438\" style=\"fill: #ff0000; stroke: #ff0000\"/>\n     </g>\n    </g>\n    <g id=\"text_23\">\n     <!-- f'(x) = 0 -->\n     <g transform=\"translate(80.78125 302.398438) scale(0.1 -0.1)\">\n      <defs>\n       <path id=\"DejaVuSans-27\" d=\"M 1147 4666 \nL 1147 2931 \nL 616 2931 \nL 616 4666 \nL 1147 4666 \nz\n\" transform=\"scale(0.015625)\"/>\n      </defs>\n      <use xlink:href=\"#DejaVuSans-66\"/>\n      <use xlink:href=\"#DejaVuSans-27\" x=\"35.205078\"/>\n      <use xlink:href=\"#DejaVuSans-28\" x=\"62.695312\"/>\n      <use xlink:href=\"#DejaVuSans-78\" x=\"101.708984\"/>\n      <use xlink:href=\"#DejaVuSans-29\" x=\"160.888672\"/>\n      <use xlink:href=\"#DejaVuSans-20\" x=\"199.902344\"/>\n      <use xlink:href=\"#DejaVuSans-3d\" x=\"231.689453\"/>\n      <use xlink:href=\"#DejaVuSans-20\" x=\"315.478516\"/>\n      <use xlink:href=\"#DejaVuSans-30\" x=\"347.265625\"/>\n     </g>\n    </g>\n   </g>\n  </g>\n  <g id=\"axes_2\">\n   <g id=\"patch_8\">\n    <path d=\"M 397.84125 313.478125 \nL 705.26125 313.478125 \nL 705.26125 22.318125 \nL 397.84125 22.318125 \nz\n\" style=\"fill: #ffffff\"/>\n   </g>\n   <g id=\"matplotlib.axis_3\">\n    <g id=\"xtick_10\">\n     <g id=\"line2d_39\">\n      <path d=\"M 411.814886 313.478125 \nL 411.814886 22.318125 \n\" clip-path=\"url(#p34395a2734)\" style=\"fill: none; stroke: #b0b0b0; stroke-width: 0.8; stroke-linecap: square\"/>\n     </g>\n     <g id=\"line2d_40\">\n      <g>\n       <use xlink:href=\"#ma77a392e5e\" x=\"411.814886\" y=\"313.478125\" style=\"stroke: #000000; stroke-width: 0.8\"/>\n      </g>\n     </g>\n     <g id=\"text_24\">\n      <!-- −2.0 -->\n      <g transform=\"translate(399.67348 328.076563) scale(0.1 -0.1)\">\n       <use xlink:href=\"#DejaVuSans-2212\"/>\n       <use xlink:href=\"#DejaVuSans-32\" x=\"83.789062\"/>\n       <use xlink:href=\"#DejaVuSans-2e\" x=\"147.412109\"/>\n       <use xlink:href=\"#DejaVuSans-30\" x=\"179.199219\"/>\n      </g>\n     </g>\n    </g>\n    <g id=\"xtick_11\">\n     <g id=\"line2d_41\">\n      <path d=\"M 446.748977 313.478125 \nL 446.748977 22.318125 \n\" clip-path=\"url(#p34395a2734)\" style=\"fill: none; stroke: #b0b0b0; stroke-width: 0.8; stroke-linecap: square\"/>\n     </g>\n     <g id=\"line2d_42\">\n      <g>\n       <use xlink:href=\"#ma77a392e5e\" x=\"446.748977\" y=\"313.478125\" style=\"stroke: #000000; stroke-width: 0.8\"/>\n      </g>\n     </g>\n     <g id=\"text_25\">\n      <!-- −1.5 -->\n      <g transform=\"translate(434.607571 328.076563) scale(0.1 -0.1)\">\n       <use xlink:href=\"#DejaVuSans-2212\"/>\n       <use xlink:href=\"#DejaVuSans-31\" x=\"83.789062\"/>\n       <use xlink:href=\"#DejaVuSans-2e\" x=\"147.412109\"/>\n       <use xlink:href=\"#DejaVuSans-35\" x=\"179.199219\"/>\n      </g>\n     </g>\n    </g>\n    <g id=\"xtick_12\">\n     <g id=\"line2d_43\">\n      <path d=\"M 481.683068 313.478125 \nL 481.683068 22.318125 \n\" clip-path=\"url(#p34395a2734)\" style=\"fill: none; stroke: #b0b0b0; stroke-width: 0.8; stroke-linecap: square\"/>\n     </g>\n     <g id=\"line2d_44\">\n      <g>\n       <use xlink:href=\"#ma77a392e5e\" x=\"481.683068\" y=\"313.478125\" style=\"stroke: #000000; stroke-width: 0.8\"/>\n      </g>\n     </g>\n     <g id=\"text_26\">\n      <!-- −1.0 -->\n      <g transform=\"translate(469.541662 328.076563) scale(0.1 -0.1)\">\n       <use xlink:href=\"#DejaVuSans-2212\"/>\n       <use xlink:href=\"#DejaVuSans-31\" x=\"83.789062\"/>\n       <use xlink:href=\"#DejaVuSans-2e\" x=\"147.412109\"/>\n       <use xlink:href=\"#DejaVuSans-30\" x=\"179.199219\"/>\n      </g>\n     </g>\n    </g>\n    <g id=\"xtick_13\">\n     <g id=\"line2d_45\">\n      <path d=\"M 516.617159 313.478125 \nL 516.617159 22.318125 \n\" clip-path=\"url(#p34395a2734)\" style=\"fill: none; stroke: #b0b0b0; stroke-width: 0.8; stroke-linecap: square\"/>\n     </g>\n     <g id=\"line2d_46\">\n      <g>\n       <use xlink:href=\"#ma77a392e5e\" x=\"516.617159\" y=\"313.478125\" style=\"stroke: #000000; stroke-width: 0.8\"/>\n      </g>\n     </g>\n     <g id=\"text_27\">\n      <!-- −0.5 -->\n      <g transform=\"translate(504.475753 328.076563) scale(0.1 -0.1)\">\n       <use xlink:href=\"#DejaVuSans-2212\"/>\n       <use xlink:href=\"#DejaVuSans-30\" x=\"83.789062\"/>\n       <use xlink:href=\"#DejaVuSans-2e\" x=\"147.412109\"/>\n       <use xlink:href=\"#DejaVuSans-35\" x=\"179.199219\"/>\n      </g>\n     </g>\n    </g>\n    <g id=\"xtick_14\">\n     <g id=\"line2d_47\">\n      <path d=\"M 551.55125 313.478125 \nL 551.55125 22.318125 \n\" clip-path=\"url(#p34395a2734)\" style=\"fill: none; stroke: #b0b0b0; stroke-width: 0.8; stroke-linecap: square\"/>\n     </g>\n     <g id=\"line2d_48\">\n      <g>\n       <use xlink:href=\"#ma77a392e5e\" x=\"551.55125\" y=\"313.478125\" style=\"stroke: #000000; stroke-width: 0.8\"/>\n      </g>\n     </g>\n     <g id=\"text_28\">\n      <!-- 0.0 -->\n      <g transform=\"translate(543.599687 328.076563) scale(0.1 -0.1)\">\n       <use xlink:href=\"#DejaVuSans-30\"/>\n       <use xlink:href=\"#DejaVuSans-2e\" x=\"63.623047\"/>\n       <use xlink:href=\"#DejaVuSans-30\" x=\"95.410156\"/>\n      </g>\n     </g>\n    </g>\n    <g id=\"xtick_15\">\n     <g id=\"line2d_49\">\n      <path d=\"M 586.485341 313.478125 \nL 586.485341 22.318125 \n\" clip-path=\"url(#p34395a2734)\" style=\"fill: none; stroke: #b0b0b0; stroke-width: 0.8; stroke-linecap: square\"/>\n     </g>\n     <g id=\"line2d_50\">\n      <g>\n       <use xlink:href=\"#ma77a392e5e\" x=\"586.485341\" y=\"313.478125\" style=\"stroke: #000000; stroke-width: 0.8\"/>\n      </g>\n     </g>\n     <g id=\"text_29\">\n      <!-- 0.5 -->\n      <g transform=\"translate(578.533778 328.076563) scale(0.1 -0.1)\">\n       <use xlink:href=\"#DejaVuSans-30\"/>\n       <use xlink:href=\"#DejaVuSans-2e\" x=\"63.623047\"/>\n       <use xlink:href=\"#DejaVuSans-35\" x=\"95.410156\"/>\n      </g>\n     </g>\n    </g>\n    <g id=\"xtick_16\">\n     <g id=\"line2d_51\">\n      <path d=\"M 621.419432 313.478125 \nL 621.419432 22.318125 \n\" clip-path=\"url(#p34395a2734)\" style=\"fill: none; stroke: #b0b0b0; stroke-width: 0.8; stroke-linecap: square\"/>\n     </g>\n     <g id=\"line2d_52\">\n      <g>\n       <use xlink:href=\"#ma77a392e5e\" x=\"621.419432\" y=\"313.478125\" style=\"stroke: #000000; stroke-width: 0.8\"/>\n      </g>\n     </g>\n     <g id=\"text_30\">\n      <!-- 1.0 -->\n      <g transform=\"translate(613.467869 328.076563) scale(0.1 -0.1)\">\n       <use xlink:href=\"#DejaVuSans-31\"/>\n       <use xlink:href=\"#DejaVuSans-2e\" x=\"63.623047\"/>\n       <use xlink:href=\"#DejaVuSans-30\" x=\"95.410156\"/>\n      </g>\n     </g>\n    </g>\n    <g id=\"xtick_17\">\n     <g id=\"line2d_53\">\n      <path d=\"M 656.353523 313.478125 \nL 656.353523 22.318125 \n\" clip-path=\"url(#p34395a2734)\" style=\"fill: none; stroke: #b0b0b0; stroke-width: 0.8; stroke-linecap: square\"/>\n     </g>\n     <g id=\"line2d_54\">\n      <g>\n       <use xlink:href=\"#ma77a392e5e\" x=\"656.353523\" y=\"313.478125\" style=\"stroke: #000000; stroke-width: 0.8\"/>\n      </g>\n     </g>\n     <g id=\"text_31\">\n      <!-- 1.5 -->\n      <g transform=\"translate(648.40196 328.076563) scale(0.1 -0.1)\">\n       <use xlink:href=\"#DejaVuSans-31\"/>\n       <use xlink:href=\"#DejaVuSans-2e\" x=\"63.623047\"/>\n       <use xlink:href=\"#DejaVuSans-35\" x=\"95.410156\"/>\n      </g>\n     </g>\n    </g>\n    <g id=\"xtick_18\">\n     <g id=\"line2d_55\">\n      <path d=\"M 691.287614 313.478125 \nL 691.287614 22.318125 \n\" clip-path=\"url(#p34395a2734)\" style=\"fill: none; stroke: #b0b0b0; stroke-width: 0.8; stroke-linecap: square\"/>\n     </g>\n     <g id=\"line2d_56\">\n      <g>\n       <use xlink:href=\"#ma77a392e5e\" x=\"691.287614\" y=\"313.478125\" style=\"stroke: #000000; stroke-width: 0.8\"/>\n      </g>\n     </g>\n     <g id=\"text_32\">\n      <!-- 2.0 -->\n      <g transform=\"translate(683.336051 328.076563) scale(0.1 -0.1)\">\n       <use xlink:href=\"#DejaVuSans-32\"/>\n       <use xlink:href=\"#DejaVuSans-2e\" x=\"63.623047\"/>\n       <use xlink:href=\"#DejaVuSans-30\" x=\"95.410156\"/>\n      </g>\n     </g>\n    </g>\n    <g id=\"text_33\">\n     <!-- x -->\n     <g transform=\"translate(548.591875 341.754687) scale(0.1 -0.1)\">\n      <use xlink:href=\"#DejaVuSans-78\"/>\n     </g>\n    </g>\n   </g>\n   <g id=\"matplotlib.axis_4\">\n    <g id=\"ytick_10\">\n     <g id=\"line2d_57\">\n      <path d=\"M 397.84125 300.24358 \nL 705.26125 300.24358 \n\" clip-path=\"url(#p34395a2734)\" style=\"fill: none; stroke: #b0b0b0; stroke-width: 0.8; stroke-linecap: square\"/>\n     </g>\n     <g id=\"line2d_58\">\n      <g>\n       <use xlink:href=\"#m7d736eda9f\" x=\"397.84125\" y=\"300.24358\" style=\"stroke: #000000; stroke-width: 0.8\"/>\n      </g>\n     </g>\n     <g id=\"text_34\">\n      <!-- −8 -->\n      <g transform=\"translate(376.099063 304.042798) scale(0.1 -0.1)\">\n       <defs>\n        <path id=\"DejaVuSans-38\" d=\"M 2034 2216 \nQ 1584 2216 1326 1975 \nQ 1069 1734 1069 1313 \nQ 1069 891 1326 650 \nQ 1584 409 2034 409 \nQ 2484 409 2743 651 \nQ 3003 894 3003 1313 \nQ 3003 1734 2745 1975 \nQ 2488 2216 2034 2216 \nz\nM 1403 2484 \nQ 997 2584 770 2862 \nQ 544 3141 544 3541 \nQ 544 4100 942 4425 \nQ 1341 4750 2034 4750 \nQ 2731 4750 3128 4425 \nQ 3525 4100 3525 3541 \nQ 3525 3141 3298 2862 \nQ 3072 2584 2669 2484 \nQ 3125 2378 3379 2068 \nQ 3634 1759 3634 1313 \nQ 3634 634 3220 271 \nQ 2806 -91 2034 -91 \nQ 1263 -91 848 271 \nQ 434 634 434 1313 \nQ 434 1759 690 2068 \nQ 947 2378 1403 2484 \nz\nM 1172 3481 \nQ 1172 3119 1398 2916 \nQ 1625 2713 2034 2713 \nQ 2441 2713 2670 2916 \nQ 2900 3119 2900 3481 \nQ 2900 3844 2670 4047 \nQ 2441 4250 2034 4250 \nQ 1625 4250 1398 4047 \nQ 1172 3844 1172 3481 \nz\n\" transform=\"scale(0.015625)\"/>\n       </defs>\n       <use xlink:href=\"#DejaVuSans-2212\"/>\n       <use xlink:href=\"#DejaVuSans-38\" x=\"83.789062\"/>\n      </g>\n     </g>\n    </g>\n    <g id=\"ytick_11\">\n     <g id=\"line2d_59\">\n      <path d=\"M 397.84125 267.157216 \nL 705.26125 267.157216 \n\" clip-path=\"url(#p34395a2734)\" style=\"fill: none; stroke: #b0b0b0; stroke-width: 0.8; stroke-linecap: square\"/>\n     </g>\n     <g id=\"line2d_60\">\n      <g>\n       <use xlink:href=\"#m7d736eda9f\" x=\"397.84125\" y=\"267.157216\" style=\"stroke: #000000; stroke-width: 0.8\"/>\n      </g>\n     </g>\n     <g id=\"text_35\">\n      <!-- −6 -->\n      <g transform=\"translate(376.099063 270.956435) scale(0.1 -0.1)\">\n       <defs>\n        <path id=\"DejaVuSans-36\" d=\"M 2113 2584 \nQ 1688 2584 1439 2293 \nQ 1191 2003 1191 1497 \nQ 1191 994 1439 701 \nQ 1688 409 2113 409 \nQ 2538 409 2786 701 \nQ 3034 994 3034 1497 \nQ 3034 2003 2786 2293 \nQ 2538 2584 2113 2584 \nz\nM 3366 4563 \nL 3366 3988 \nQ 3128 4100 2886 4159 \nQ 2644 4219 2406 4219 \nQ 1781 4219 1451 3797 \nQ 1122 3375 1075 2522 \nQ 1259 2794 1537 2939 \nQ 1816 3084 2150 3084 \nQ 2853 3084 3261 2657 \nQ 3669 2231 3669 1497 \nQ 3669 778 3244 343 \nQ 2819 -91 2113 -91 \nQ 1303 -91 875 529 \nQ 447 1150 447 2328 \nQ 447 3434 972 4092 \nQ 1497 4750 2381 4750 \nQ 2619 4750 2861 4703 \nQ 3103 4656 3366 4563 \nz\n\" transform=\"scale(0.015625)\"/>\n       </defs>\n       <use xlink:href=\"#DejaVuSans-2212\"/>\n       <use xlink:href=\"#DejaVuSans-36\" x=\"83.789062\"/>\n      </g>\n     </g>\n    </g>\n    <g id=\"ytick_12\">\n     <g id=\"line2d_61\">\n      <path d=\"M 397.84125 234.070852 \nL 705.26125 234.070852 \n\" clip-path=\"url(#p34395a2734)\" style=\"fill: none; stroke: #b0b0b0; stroke-width: 0.8; stroke-linecap: square\"/>\n     </g>\n     <g id=\"line2d_62\">\n      <g>\n       <use xlink:href=\"#m7d736eda9f\" x=\"397.84125\" y=\"234.070852\" style=\"stroke: #000000; stroke-width: 0.8\"/>\n      </g>\n     </g>\n     <g id=\"text_36\">\n      <!-- −4 -->\n      <g transform=\"translate(376.099063 237.870071) scale(0.1 -0.1)\">\n       <use xlink:href=\"#DejaVuSans-2212\"/>\n       <use xlink:href=\"#DejaVuSans-34\" x=\"83.789062\"/>\n      </g>\n     </g>\n    </g>\n    <g id=\"ytick_13\">\n     <g id=\"line2d_63\">\n      <path d=\"M 397.84125 200.984489 \nL 705.26125 200.984489 \n\" clip-path=\"url(#p34395a2734)\" style=\"fill: none; stroke: #b0b0b0; stroke-width: 0.8; stroke-linecap: square\"/>\n     </g>\n     <g id=\"line2d_64\">\n      <g>\n       <use xlink:href=\"#m7d736eda9f\" x=\"397.84125\" y=\"200.984489\" style=\"stroke: #000000; stroke-width: 0.8\"/>\n      </g>\n     </g>\n     <g id=\"text_37\">\n      <!-- −2 -->\n      <g transform=\"translate(376.099063 204.783707) scale(0.1 -0.1)\">\n       <use xlink:href=\"#DejaVuSans-2212\"/>\n       <use xlink:href=\"#DejaVuSans-32\" x=\"83.789062\"/>\n      </g>\n     </g>\n    </g>\n    <g id=\"ytick_14\">\n     <g id=\"line2d_65\">\n      <path d=\"M 397.84125 167.898125 \nL 705.26125 167.898125 \n\" clip-path=\"url(#p34395a2734)\" style=\"fill: none; stroke: #b0b0b0; stroke-width: 0.8; stroke-linecap: square\"/>\n     </g>\n     <g id=\"line2d_66\">\n      <g>\n       <use xlink:href=\"#m7d736eda9f\" x=\"397.84125\" y=\"167.898125\" style=\"stroke: #000000; stroke-width: 0.8\"/>\n      </g>\n     </g>\n     <g id=\"text_38\">\n      <!-- 0 -->\n      <g transform=\"translate(384.47875 171.697344) scale(0.1 -0.1)\">\n       <use xlink:href=\"#DejaVuSans-30\"/>\n      </g>\n     </g>\n    </g>\n    <g id=\"ytick_15\">\n     <g id=\"line2d_67\">\n      <path d=\"M 397.84125 134.811761 \nL 705.26125 134.811761 \n\" clip-path=\"url(#p34395a2734)\" style=\"fill: none; stroke: #b0b0b0; stroke-width: 0.8; stroke-linecap: square\"/>\n     </g>\n     <g id=\"line2d_68\">\n      <g>\n       <use xlink:href=\"#m7d736eda9f\" x=\"397.84125\" y=\"134.811761\" style=\"stroke: #000000; stroke-width: 0.8\"/>\n      </g>\n     </g>\n     <g id=\"text_39\">\n      <!-- 2 -->\n      <g transform=\"translate(384.47875 138.61098) scale(0.1 -0.1)\">\n       <use xlink:href=\"#DejaVuSans-32\"/>\n      </g>\n     </g>\n    </g>\n    <g id=\"ytick_16\">\n     <g id=\"line2d_69\">\n      <path d=\"M 397.84125 101.725398 \nL 705.26125 101.725398 \n\" clip-path=\"url(#p34395a2734)\" style=\"fill: none; stroke: #b0b0b0; stroke-width: 0.8; stroke-linecap: square\"/>\n     </g>\n     <g id=\"line2d_70\">\n      <g>\n       <use xlink:href=\"#m7d736eda9f\" x=\"397.84125\" y=\"101.725398\" style=\"stroke: #000000; stroke-width: 0.8\"/>\n      </g>\n     </g>\n     <g id=\"text_40\">\n      <!-- 4 -->\n      <g transform=\"translate(384.47875 105.524616) scale(0.1 -0.1)\">\n       <use xlink:href=\"#DejaVuSans-34\"/>\n      </g>\n     </g>\n    </g>\n    <g id=\"ytick_17\">\n     <g id=\"line2d_71\">\n      <path d=\"M 397.84125 68.639034 \nL 705.26125 68.639034 \n\" clip-path=\"url(#p34395a2734)\" style=\"fill: none; stroke: #b0b0b0; stroke-width: 0.8; stroke-linecap: square\"/>\n     </g>\n     <g id=\"line2d_72\">\n      <g>\n       <use xlink:href=\"#m7d736eda9f\" x=\"397.84125\" y=\"68.639034\" style=\"stroke: #000000; stroke-width: 0.8\"/>\n      </g>\n     </g>\n     <g id=\"text_41\">\n      <!-- 6 -->\n      <g transform=\"translate(384.47875 72.438253) scale(0.1 -0.1)\">\n       <use xlink:href=\"#DejaVuSans-36\"/>\n      </g>\n     </g>\n    </g>\n    <g id=\"ytick_18\">\n     <g id=\"line2d_73\">\n      <path d=\"M 397.84125 35.55267 \nL 705.26125 35.55267 \n\" clip-path=\"url(#p34395a2734)\" style=\"fill: none; stroke: #b0b0b0; stroke-width: 0.8; stroke-linecap: square\"/>\n     </g>\n     <g id=\"line2d_74\">\n      <g>\n       <use xlink:href=\"#m7d736eda9f\" x=\"397.84125\" y=\"35.55267\" style=\"stroke: #000000; stroke-width: 0.8\"/>\n      </g>\n     </g>\n     <g id=\"text_42\">\n      <!-- 8 -->\n      <g transform=\"translate(384.47875 39.351889) scale(0.1 -0.1)\">\n       <use xlink:href=\"#DejaVuSans-38\"/>\n      </g>\n     </g>\n    </g>\n    <g id=\"text_43\">\n     <!-- f(x) -->\n     <g transform=\"translate(370.019375 176.519219) rotate(-90) scale(0.1 -0.1)\">\n      <use xlink:href=\"#DejaVuSans-66\"/>\n      <use xlink:href=\"#DejaVuSans-28\" x=\"35.205078\"/>\n      <use xlink:href=\"#DejaVuSans-78\" x=\"74.21875\"/>\n      <use xlink:href=\"#DejaVuSans-29\" x=\"133.398438\"/>\n     </g>\n    </g>\n   </g>\n   <g id=\"line2d_75\">\n    <path d=\"M 411.814886 300.24358 \nL 414.637843 292.383591 \nL 417.4608 284.841133 \nL 420.283757 277.60966 \nL 423.106714 270.682624 \nL 425.929671 264.053478 \nL 428.752627 257.715675 \nL 431.575584 251.662668 \nL 434.398541 245.88791 \nL 437.221498 240.384854 \nL 440.044455 235.146953 \nL 442.867412 230.16766 \nL 445.690368 225.440428 \nL 448.513325 220.958709 \nL 451.336282 216.715957 \nL 454.159239 212.705625 \nL 456.982196 208.921166 \nL 459.805153 205.356033 \nL 462.62811 202.003678 \nL 465.451066 198.857555 \nL 468.274023 195.911116 \nL 471.09698 193.157815 \nL 473.919937 190.591104 \nL 476.742894 188.204437 \nL 479.565851 185.991266 \nL 482.388807 183.945045 \nL 485.211764 182.059226 \nL 488.034721 180.327262 \nL 490.857678 178.742607 \nL 493.680635 177.298713 \nL 496.503592 175.989033 \nL 499.326548 174.80702 \nL 502.149505 173.746128 \nL 504.972462 172.799809 \nL 507.795419 171.961515 \nL 510.618376 171.224701 \nL 513.441333 170.582819 \nL 516.264289 170.029321 \nL 519.087246 169.557662 \nL 521.910203 169.161294 \nL 524.73316 168.833669 \nL 527.556117 168.568241 \nL 530.379074 168.358463 \nL 533.202031 168.197788 \nL 536.024987 168.079669 \nL 538.847944 167.997558 \nL 541.670901 167.944909 \nL 544.493858 167.915175 \nL 547.316815 167.901808 \nL 550.139772 167.898261 \nL 552.962728 167.897989 \nL 555.785685 167.894442 \nL 558.608642 167.881075 \nL 561.431599 167.851341 \nL 564.254556 167.798692 \nL 567.077513 167.716581 \nL 569.900469 167.598462 \nL 572.723426 167.437787 \nL 575.546383 167.228009 \nL 578.36934 166.962581 \nL 581.192297 166.634956 \nL 584.015254 166.238588 \nL 586.838211 165.766929 \nL 589.661167 165.213431 \nL 592.484124 164.571549 \nL 595.307081 163.834735 \nL 598.130038 162.996441 \nL 600.952995 162.050122 \nL 603.775952 160.98923 \nL 606.598908 159.807217 \nL 609.421865 158.497537 \nL 612.244822 157.053643 \nL 615.067779 155.468988 \nL 617.890736 153.737024 \nL 620.713693 151.851205 \nL 623.536649 149.804984 \nL 626.359606 147.591813 \nL 629.182563 145.205146 \nL 632.00552 142.638435 \nL 634.828477 139.885134 \nL 637.651434 136.938695 \nL 640.47439 133.792572 \nL 643.297347 130.440217 \nL 646.120304 126.875084 \nL 648.943261 123.090625 \nL 651.766218 119.080293 \nL 654.589175 114.837541 \nL 657.412132 110.355822 \nL 660.235088 105.62859 \nL 663.058045 100.649297 \nL 665.881002 95.411396 \nL 668.703959 89.90834 \nL 671.526916 84.133582 \nL 674.349873 78.080575 \nL 677.172829 71.742772 \nL 679.995786 65.113626 \nL 682.818743 58.18659 \nL 685.6417 50.955117 \nL 688.464657 43.412659 \nL 691.287614 35.55267 \n\" clip-path=\"url(#p34395a2734)\" style=\"fill: none; stroke: #1f77b4; stroke-width: 1.5; stroke-linecap: square\"/>\n   </g>\n   <g id=\"patch_9\">\n    <path d=\"M 397.84125 313.478125 \nL 397.84125 22.318125 \n\" style=\"fill: none; stroke: #000000; stroke-width: 0.8; stroke-linejoin: miter; stroke-linecap: square\"/>\n   </g>\n   <g id=\"patch_10\">\n    <path d=\"M 705.26125 313.478125 \nL 705.26125 22.318125 \n\" style=\"fill: none; stroke: #000000; stroke-width: 0.8; stroke-linejoin: miter; stroke-linecap: square\"/>\n   </g>\n   <g id=\"patch_11\">\n    <path d=\"M 397.84125 313.478125 \nL 705.26125 313.478125 \n\" style=\"fill: none; stroke: #000000; stroke-width: 0.8; stroke-linejoin: miter; stroke-linecap: square\"/>\n   </g>\n   <g id=\"patch_12\">\n    <path d=\"M 397.84125 22.318125 \nL 705.26125 22.318125 \n\" style=\"fill: none; stroke: #000000; stroke-width: 0.8; stroke-linejoin: miter; stroke-linecap: square\"/>\n   </g>\n   <g id=\"text_44\">\n    <!-- f(x) = x^3 -->\n    <g transform=\"translate(519.967813 16.318125) scale(0.12 -0.12)\">\n     <use xlink:href=\"#DejaVuSans-66\"/>\n     <use xlink:href=\"#DejaVuSans-28\" x=\"35.205078\"/>\n     <use xlink:href=\"#DejaVuSans-78\" x=\"74.21875\"/>\n     <use xlink:href=\"#DejaVuSans-29\" x=\"133.398438\"/>\n     <use xlink:href=\"#DejaVuSans-20\" x=\"172.412109\"/>\n     <use xlink:href=\"#DejaVuSans-3d\" x=\"204.199219\"/>\n     <use xlink:href=\"#DejaVuSans-20\" x=\"287.988281\"/>\n     <use xlink:href=\"#DejaVuSans-78\" x=\"319.775391\"/>\n     <use xlink:href=\"#DejaVuSans-5e\" x=\"378.955078\"/>\n     <use xlink:href=\"#DejaVuSans-33\" x=\"462.744141\"/>\n    </g>\n   </g>\n   <g id=\"PathCollection_3\">\n    <g clip-path=\"url(#p34395a2734)\">\n     <use xlink:href=\"#m9ddb175366\" x=\"551.55125\" y=\"167.898125\" style=\"fill: #ff0000; stroke: #ff0000\"/>\n    </g>\n   </g>\n   <g id=\"legend_2\">\n    <g id=\"patch_13\">\n     <path d=\"M 404.84125 59.674375 \nL 489.480312 59.674375 \nQ 491.480312 59.674375 491.480312 57.674375 \nL 491.480312 29.318125 \nQ 491.480312 27.318125 489.480312 27.318125 \nL 404.84125 27.318125 \nQ 402.84125 27.318125 402.84125 29.318125 \nL 402.84125 57.674375 \nQ 402.84125 59.674375 404.84125 59.674375 \nz\n\" style=\"fill: #ffffff; opacity: 0.8; stroke: #cccccc; stroke-linejoin: miter\"/>\n    </g>\n    <g id=\"line2d_76\">\n     <path d=\"M 406.84125 35.416562 \nL 416.84125 35.416562 \nL 426.84125 35.416562 \n\" style=\"fill: none; stroke: #1f77b4; stroke-width: 1.5; stroke-linecap: square\"/>\n    </g>\n    <g id=\"text_45\">\n     <!-- f(x) = x^3 -->\n     <g transform=\"translate(434.84125 38.916562) scale(0.1 -0.1)\">\n      <use xlink:href=\"#DejaVuSans-66\"/>\n      <use xlink:href=\"#DejaVuSans-28\" x=\"35.205078\"/>\n      <use xlink:href=\"#DejaVuSans-78\" x=\"74.21875\"/>\n      <use xlink:href=\"#DejaVuSans-29\" x=\"133.398438\"/>\n      <use xlink:href=\"#DejaVuSans-20\" x=\"172.412109\"/>\n      <use xlink:href=\"#DejaVuSans-3d\" x=\"204.199219\"/>\n      <use xlink:href=\"#DejaVuSans-20\" x=\"287.988281\"/>\n      <use xlink:href=\"#DejaVuSans-78\" x=\"319.775391\"/>\n      <use xlink:href=\"#DejaVuSans-5e\" x=\"378.955078\"/>\n      <use xlink:href=\"#DejaVuSans-33\" x=\"462.744141\"/>\n     </g>\n    </g>\n    <g id=\"PathCollection_4\">\n     <g>\n      <use xlink:href=\"#m9ddb175366\" x=\"416.84125\" y=\"50.969688\" style=\"fill: #ff0000; stroke: #ff0000\"/>\n     </g>\n    </g>\n    <g id=\"text_46\">\n     <!-- f'(x) = 0 -->\n     <g transform=\"translate(434.84125 53.594688) scale(0.1 -0.1)\">\n      <use xlink:href=\"#DejaVuSans-66\"/>\n      <use xlink:href=\"#DejaVuSans-27\" x=\"35.205078\"/>\n      <use xlink:href=\"#DejaVuSans-28\" x=\"62.695312\"/>\n      <use xlink:href=\"#DejaVuSans-78\" x=\"101.708984\"/>\n      <use xlink:href=\"#DejaVuSans-29\" x=\"160.888672\"/>\n      <use xlink:href=\"#DejaVuSans-20\" x=\"199.902344\"/>\n      <use xlink:href=\"#DejaVuSans-3d\" x=\"231.689453\"/>\n      <use xlink:href=\"#DejaVuSans-20\" x=\"315.478516\"/>\n      <use xlink:href=\"#DejaVuSans-30\" x=\"347.265625\"/>\n     </g>\n    </g>\n   </g>\n  </g>\n </g>\n <defs>\n  <clipPath id=\"p3d017db492\">\n   <rect x=\"43.78125\" y=\"22.318125\" width=\"307.42\" height=\"291.16\"/>\n  </clipPath>\n  <clipPath id=\"p34395a2734\">\n   <rect x=\"397.84125\" y=\"22.318125\" width=\"307.42\" height=\"291.16\"/>\n  </clipPath>\n </defs>\n</svg>\n"
          },
          "metadata": {}
        }
      ]
    },
    {
      "cell_type": "markdown",
      "source": [
        "# What Does It Mean When \\(f'(x) = 0\\)?\n",
        "\n",
        "When a function's derivative is zero at some point, it indicates that the function has a horizontal tangent line at that point. This can imply that the function is neither increasing nor decreasing, suggesting the possibility of a local minimum, local maximum, or an inflection point.\n",
        "\n",
        "## Example 1: \\(f(x) = x^2\\)\n",
        "\n",
        "To find the derivative of \\(f(x) = x^2\\), we calculate:\n",
        "\n",
        "$$\n",
        "f'(x) = 2x\n",
        "$$\n",
        "\n",
        "Setting this derivative to zero:\n",
        "\n",
        "$$\n",
        "2x = 0 \\quad \\Rightarrow \\quad x = 0\n",
        "$$\n",
        "\n",
        "Here, the derivative is zero at \\(x = 0\\), suggesting that the function has a horizontal tangent at this point. Looking at \\(f(x) = x^2\\), this point is a **local minimum**.\n",
        "\n",
        "## Example 2: \\(f(x) = x^3\\)\n",
        "\n",
        "Similarly, for \\(f(x) = x^3\\), the derivative is:\n",
        "\n",
        "$$\n",
        "f'(x) = 3x^2\n",
        "$$\n",
        "\n",
        "Again, setting this to zero:\n",
        "\n",
        "$$\n",
        "3x^2 = 0 \\quad \\Rightarrow \\quad x = 0\n",
        "$$\n",
        "\n",
        "In this case, the derivative is zero at \\(x = 0\\), which indicates an inflection point. This means the curvature of the function changes, but it does not necessarily represent a maximum or minimum.\n",
        "\n",
        "## Summary\n",
        "\n",
        "When \\(f'(x) = 0\\), the function has a horizontal tangent at that point. This can signify a local maximum, local minimum, or inflection point, depending on the behavior of the function around that point.\n"
      ],
      "metadata": {
        "id": "3PDBMoTQ5REi"
      },
      "id": "3PDBMoTQ5REi"
    },
    {
      "cell_type": "markdown",
      "source": [
        "6. Plot the function $y = f(x) = x^3 - \\frac{1}{x}$\n",
        "   and plot its tangent line at $x = 1$."
      ],
      "metadata": {
        "id": "LW1TTSBY6usk"
      },
      "id": "LW1TTSBY6usk"
    },
    {
      "cell_type": "code",
      "source": [
        "# Import necessary libraries\n",
        "import sympy as sp\n",
        "import numpy as np\n",
        "import matplotlib.pyplot as plt\n",
        "\n",
        "# Define the variable\n",
        "x = sp.symbols('x')\n",
        "\n",
        "# Define the function f(x)\n",
        "f = x**3 - 1/x\n",
        "\n",
        "# Derivative of f(x)\n",
        "f_prime = sp.diff(f, x)\n",
        "\n",
        "# Calculate the slope at x = 1\n",
        "slope_at_1 = f_prime.subs(x, 1).evalf()\n",
        "\n",
        "# Calculate the function value at x = 1\n",
        "f_at_1 = f.subs(x, 1).evalf()\n",
        "\n",
        "# Point-slope form: y - y1 = m * (x - x1)\n",
        "# Here, m = slope_at_1, x1 = 1, y1 = f_at_1\n",
        "tangent_line = slope_at_1 * (x - 1) + f_at_1\n",
        "\n",
        "# Generate x and y values for plotting\n",
        "x_vals = np.linspace(-2, 2, 100)\n",
        "y_vals = [f.subs(x, xv).evalf() for xv in x_vals]\n",
        "tangent_vals = [tangent_line.subs(x, xv).evalf() for xv in x_vals]\n",
        "\n",
        "# Plot the function and the tangent line\n",
        "plt.figure(figsize=(8, 6))\n",
        "plt.plot(x_vals, y_vals, label='y = x^3 - 1/x')\n",
        "plt.plot(x_vals, tangent_vals, 'r--', label='Tangent at x = 1')  # Red dashed line for the tangent\n",
        "plt.scatter([1], [f_at_1], color='red', label='Point of tangency (x = 1)')  # Marking the point of tangency\n",
        "plt.xlabel('x')\n",
        "plt.ylabel('y')\n",
        "plt.title('Function and Tangent Line at x = 1')\n",
        "plt.legend()\n",
        "plt.grid(True)\n",
        "plt.show()\n"
      ],
      "metadata": {
        "id": "vATDw3-D51DM",
        "outputId": "bdb41070-cc55-42c2-8323-d49c643c8c2a",
        "colab": {
          "base_uri": "https://localhost:8080/",
          "height": 544
        }
      },
      "id": "vATDw3-D51DM",
      "execution_count": 12,
      "outputs": [
        {
          "output_type": "display_data",
          "data": {
            "text/plain": [
              "<Figure size 800x600 with 1 Axes>"
            ],
            "image/svg+xml": "<?xml version=\"1.0\" encoding=\"utf-8\" standalone=\"no\"?>\n<!DOCTYPE svg PUBLIC \"-//W3C//DTD SVG 1.1//EN\"\n  \"http://www.w3.org/Graphics/SVG/1.1/DTD/svg11.dtd\">\n<svg xmlns:xlink=\"http://www.w3.org/1999/xlink\" width=\"502.582812pt\" height=\"392.514375pt\" viewBox=\"0 0 502.582812 392.514375\" xmlns=\"http://www.w3.org/2000/svg\" version=\"1.1\">\n <metadata>\n  <rdf:RDF xmlns:dc=\"http://purl.org/dc/elements/1.1/\" xmlns:cc=\"http://creativecommons.org/ns#\" xmlns:rdf=\"http://www.w3.org/1999/02/22-rdf-syntax-ns#\">\n   <cc:Work>\n    <dc:type rdf:resource=\"http://purl.org/dc/dcmitype/StillImage\"/>\n    <dc:date>2024-06-03T19:43:52.241958</dc:date>\n    <dc:format>image/svg+xml</dc:format>\n    <dc:creator>\n     <cc:Agent>\n      <dc:title>Matplotlib v3.7.2, https://matplotlib.org/</dc:title>\n     </cc:Agent>\n    </dc:creator>\n   </cc:Work>\n  </rdf:RDF>\n </metadata>\n <defs>\n  <style type=\"text/css\">*{stroke-linejoin: round; stroke-linecap: butt}</style>\n </defs>\n <g id=\"figure_1\">\n  <g id=\"patch_1\">\n   <path d=\"M 0 392.514375 \nL 502.582812 392.514375 \nL 502.582812 0 \nL 0 0 \nz\n\" style=\"fill: #ffffff\"/>\n  </g>\n  <g id=\"axes_1\">\n   <g id=\"patch_2\">\n    <path d=\"M 48.982813 354.958125 \nL 495.382812 354.958125 \nL 495.382812 22.318125 \nL 48.982813 22.318125 \nz\n\" style=\"fill: #ffffff\"/>\n   </g>\n   <g id=\"PathCollection_1\">\n    <defs>\n     <path id=\"m9a36cd212c\" d=\"M 0 3 \nC 0.795609 3 1.55874 2.683901 2.12132 2.12132 \nC 2.683901 1.55874 3 0.795609 3 0 \nC 3 -0.795609 2.683901 -1.55874 2.12132 -2.12132 \nC 1.55874 -2.683901 0.795609 -3 0 -3 \nC -0.795609 -3 -1.55874 -2.683901 -2.12132 -2.12132 \nC -2.683901 -1.55874 -3 -0.795609 -3 0 \nC -3 0.795609 -2.683901 1.55874 -2.12132 2.12132 \nC -1.55874 2.683901 -0.795609 3 0 3 \nz\n\" style=\"stroke: #ff0000\"/>\n    </defs>\n    <g clip-path=\"url(#p4029df89ab)\">\n     <use xlink:href=\"#m9a36cd212c\" x=\"373.637358\" y=\"188.638125\" style=\"fill: #ff0000; stroke: #ff0000\"/>\n    </g>\n   </g>\n   <g id=\"matplotlib.axis_1\">\n    <g id=\"xtick_1\">\n     <g id=\"line2d_1\">\n      <path d=\"M 69.273722 354.958125 \nL 69.273722 22.318125 \n\" clip-path=\"url(#p4029df89ab)\" style=\"fill: none; stroke: #b0b0b0; stroke-width: 0.8; stroke-linecap: square\"/>\n     </g>\n     <g id=\"line2d_2\">\n      <defs>\n       <path id=\"m3f05c6e31b\" d=\"M 0 0 \nL 0 3.5 \n\" style=\"stroke: #000000; stroke-width: 0.8\"/>\n      </defs>\n      <g>\n       <use xlink:href=\"#m3f05c6e31b\" x=\"69.273722\" y=\"354.958125\" style=\"stroke: #000000; stroke-width: 0.8\"/>\n      </g>\n     </g>\n     <g id=\"text_1\">\n      <!-- −2.0 -->\n      <g transform=\"translate(57.132315 369.556562) scale(0.1 -0.1)\">\n       <defs>\n        <path id=\"DejaVuSans-2212\" d=\"M 678 2272 \nL 4684 2272 \nL 4684 1741 \nL 678 1741 \nL 678 2272 \nz\n\" transform=\"scale(0.015625)\"/>\n        <path id=\"DejaVuSans-32\" d=\"M 1228 531 \nL 3431 531 \nL 3431 0 \nL 469 0 \nL 469 531 \nQ 828 903 1448 1529 \nQ 2069 2156 2228 2338 \nQ 2531 2678 2651 2914 \nQ 2772 3150 2772 3378 \nQ 2772 3750 2511 3984 \nQ 2250 4219 1831 4219 \nQ 1534 4219 1204 4116 \nQ 875 4013 500 3803 \nL 500 4441 \nQ 881 4594 1212 4672 \nQ 1544 4750 1819 4750 \nQ 2544 4750 2975 4387 \nQ 3406 4025 3406 3419 \nQ 3406 3131 3298 2873 \nQ 3191 2616 2906 2266 \nQ 2828 2175 2409 1742 \nQ 1991 1309 1228 531 \nz\n\" transform=\"scale(0.015625)\"/>\n        <path id=\"DejaVuSans-2e\" d=\"M 684 794 \nL 1344 794 \nL 1344 0 \nL 684 0 \nL 684 794 \nz\n\" transform=\"scale(0.015625)\"/>\n        <path id=\"DejaVuSans-30\" d=\"M 2034 4250 \nQ 1547 4250 1301 3770 \nQ 1056 3291 1056 2328 \nQ 1056 1369 1301 889 \nQ 1547 409 2034 409 \nQ 2525 409 2770 889 \nQ 3016 1369 3016 2328 \nQ 3016 3291 2770 3770 \nQ 2525 4250 2034 4250 \nz\nM 2034 4750 \nQ 2819 4750 3233 4129 \nQ 3647 3509 3647 2328 \nQ 3647 1150 3233 529 \nQ 2819 -91 2034 -91 \nQ 1250 -91 836 529 \nQ 422 1150 422 2328 \nQ 422 3509 836 4129 \nQ 1250 4750 2034 4750 \nz\n\" transform=\"scale(0.015625)\"/>\n       </defs>\n       <use xlink:href=\"#DejaVuSans-2212\"/>\n       <use xlink:href=\"#DejaVuSans-32\" x=\"83.789062\"/>\n       <use xlink:href=\"#DejaVuSans-2e\" x=\"147.412109\"/>\n       <use xlink:href=\"#DejaVuSans-30\" x=\"179.199219\"/>\n      </g>\n     </g>\n    </g>\n    <g id=\"xtick_2\">\n     <g id=\"line2d_3\">\n      <path d=\"M 120.000994 354.958125 \nL 120.000994 22.318125 \n\" clip-path=\"url(#p4029df89ab)\" style=\"fill: none; stroke: #b0b0b0; stroke-width: 0.8; stroke-linecap: square\"/>\n     </g>\n     <g id=\"line2d_4\">\n      <g>\n       <use xlink:href=\"#m3f05c6e31b\" x=\"120.000994\" y=\"354.958125\" style=\"stroke: #000000; stroke-width: 0.8\"/>\n      </g>\n     </g>\n     <g id=\"text_2\">\n      <!-- −1.5 -->\n      <g transform=\"translate(107.859588 369.556562) scale(0.1 -0.1)\">\n       <defs>\n        <path id=\"DejaVuSans-31\" d=\"M 794 531 \nL 1825 531 \nL 1825 4091 \nL 703 3866 \nL 703 4441 \nL 1819 4666 \nL 2450 4666 \nL 2450 531 \nL 3481 531 \nL 3481 0 \nL 794 0 \nL 794 531 \nz\n\" transform=\"scale(0.015625)\"/>\n        <path id=\"DejaVuSans-35\" d=\"M 691 4666 \nL 3169 4666 \nL 3169 4134 \nL 1269 4134 \nL 1269 2991 \nQ 1406 3038 1543 3061 \nQ 1681 3084 1819 3084 \nQ 2600 3084 3056 2656 \nQ 3513 2228 3513 1497 \nQ 3513 744 3044 326 \nQ 2575 -91 1722 -91 \nQ 1428 -91 1123 -41 \nQ 819 9 494 109 \nL 494 744 \nQ 775 591 1075 516 \nQ 1375 441 1709 441 \nQ 2250 441 2565 725 \nQ 2881 1009 2881 1497 \nQ 2881 1984 2565 2268 \nQ 2250 2553 1709 2553 \nQ 1456 2553 1204 2497 \nQ 953 2441 691 2322 \nL 691 4666 \nz\n\" transform=\"scale(0.015625)\"/>\n       </defs>\n       <use xlink:href=\"#DejaVuSans-2212\"/>\n       <use xlink:href=\"#DejaVuSans-31\" x=\"83.789062\"/>\n       <use xlink:href=\"#DejaVuSans-2e\" x=\"147.412109\"/>\n       <use xlink:href=\"#DejaVuSans-35\" x=\"179.199219\"/>\n      </g>\n     </g>\n    </g>\n    <g id=\"xtick_3\">\n     <g id=\"line2d_5\">\n      <path d=\"M 170.728267 354.958125 \nL 170.728267 22.318125 \n\" clip-path=\"url(#p4029df89ab)\" style=\"fill: none; stroke: #b0b0b0; stroke-width: 0.8; stroke-linecap: square\"/>\n     </g>\n     <g id=\"line2d_6\">\n      <g>\n       <use xlink:href=\"#m3f05c6e31b\" x=\"170.728267\" y=\"354.958125\" style=\"stroke: #000000; stroke-width: 0.8\"/>\n      </g>\n     </g>\n     <g id=\"text_3\">\n      <!-- −1.0 -->\n      <g transform=\"translate(158.586861 369.556562) scale(0.1 -0.1)\">\n       <use xlink:href=\"#DejaVuSans-2212\"/>\n       <use xlink:href=\"#DejaVuSans-31\" x=\"83.789062\"/>\n       <use xlink:href=\"#DejaVuSans-2e\" x=\"147.412109\"/>\n       <use xlink:href=\"#DejaVuSans-30\" x=\"179.199219\"/>\n      </g>\n     </g>\n    </g>\n    <g id=\"xtick_4\">\n     <g id=\"line2d_7\">\n      <path d=\"M 221.45554 354.958125 \nL 221.45554 22.318125 \n\" clip-path=\"url(#p4029df89ab)\" style=\"fill: none; stroke: #b0b0b0; stroke-width: 0.8; stroke-linecap: square\"/>\n     </g>\n     <g id=\"line2d_8\">\n      <g>\n       <use xlink:href=\"#m3f05c6e31b\" x=\"221.45554\" y=\"354.958125\" style=\"stroke: #000000; stroke-width: 0.8\"/>\n      </g>\n     </g>\n     <g id=\"text_4\">\n      <!-- −0.5 -->\n      <g transform=\"translate(209.314134 369.556562) scale(0.1 -0.1)\">\n       <use xlink:href=\"#DejaVuSans-2212\"/>\n       <use xlink:href=\"#DejaVuSans-30\" x=\"83.789062\"/>\n       <use xlink:href=\"#DejaVuSans-2e\" x=\"147.412109\"/>\n       <use xlink:href=\"#DejaVuSans-35\" x=\"179.199219\"/>\n      </g>\n     </g>\n    </g>\n    <g id=\"xtick_5\">\n     <g id=\"line2d_9\">\n      <path d=\"M 272.182813 354.958125 \nL 272.182813 22.318125 \n\" clip-path=\"url(#p4029df89ab)\" style=\"fill: none; stroke: #b0b0b0; stroke-width: 0.8; stroke-linecap: square\"/>\n     </g>\n     <g id=\"line2d_10\">\n      <g>\n       <use xlink:href=\"#m3f05c6e31b\" x=\"272.182813\" y=\"354.958125\" style=\"stroke: #000000; stroke-width: 0.8\"/>\n      </g>\n     </g>\n     <g id=\"text_5\">\n      <!-- 0.0 -->\n      <g transform=\"translate(264.23125 369.556562) scale(0.1 -0.1)\">\n       <use xlink:href=\"#DejaVuSans-30\"/>\n       <use xlink:href=\"#DejaVuSans-2e\" x=\"63.623047\"/>\n       <use xlink:href=\"#DejaVuSans-30\" x=\"95.410156\"/>\n      </g>\n     </g>\n    </g>\n    <g id=\"xtick_6\">\n     <g id=\"line2d_11\">\n      <path d=\"M 322.910085 354.958125 \nL 322.910085 22.318125 \n\" clip-path=\"url(#p4029df89ab)\" style=\"fill: none; stroke: #b0b0b0; stroke-width: 0.8; stroke-linecap: square\"/>\n     </g>\n     <g id=\"line2d_12\">\n      <g>\n       <use xlink:href=\"#m3f05c6e31b\" x=\"322.910085\" y=\"354.958125\" style=\"stroke: #000000; stroke-width: 0.8\"/>\n      </g>\n     </g>\n     <g id=\"text_6\">\n      <!-- 0.5 -->\n      <g transform=\"translate(314.958523 369.556562) scale(0.1 -0.1)\">\n       <use xlink:href=\"#DejaVuSans-30\"/>\n       <use xlink:href=\"#DejaVuSans-2e\" x=\"63.623047\"/>\n       <use xlink:href=\"#DejaVuSans-35\" x=\"95.410156\"/>\n      </g>\n     </g>\n    </g>\n    <g id=\"xtick_7\">\n     <g id=\"line2d_13\">\n      <path d=\"M 373.637358 354.958125 \nL 373.637358 22.318125 \n\" clip-path=\"url(#p4029df89ab)\" style=\"fill: none; stroke: #b0b0b0; stroke-width: 0.8; stroke-linecap: square\"/>\n     </g>\n     <g id=\"line2d_14\">\n      <g>\n       <use xlink:href=\"#m3f05c6e31b\" x=\"373.637358\" y=\"354.958125\" style=\"stroke: #000000; stroke-width: 0.8\"/>\n      </g>\n     </g>\n     <g id=\"text_7\">\n      <!-- 1.0 -->\n      <g transform=\"translate(365.685795 369.556562) scale(0.1 -0.1)\">\n       <use xlink:href=\"#DejaVuSans-31\"/>\n       <use xlink:href=\"#DejaVuSans-2e\" x=\"63.623047\"/>\n       <use xlink:href=\"#DejaVuSans-30\" x=\"95.410156\"/>\n      </g>\n     </g>\n    </g>\n    <g id=\"xtick_8\">\n     <g id=\"line2d_15\">\n      <path d=\"M 424.364631 354.958125 \nL 424.364631 22.318125 \n\" clip-path=\"url(#p4029df89ab)\" style=\"fill: none; stroke: #b0b0b0; stroke-width: 0.8; stroke-linecap: square\"/>\n     </g>\n     <g id=\"line2d_16\">\n      <g>\n       <use xlink:href=\"#m3f05c6e31b\" x=\"424.364631\" y=\"354.958125\" style=\"stroke: #000000; stroke-width: 0.8\"/>\n      </g>\n     </g>\n     <g id=\"text_8\">\n      <!-- 1.5 -->\n      <g transform=\"translate(416.413068 369.556562) scale(0.1 -0.1)\">\n       <use xlink:href=\"#DejaVuSans-31\"/>\n       <use xlink:href=\"#DejaVuSans-2e\" x=\"63.623047\"/>\n       <use xlink:href=\"#DejaVuSans-35\" x=\"95.410156\"/>\n      </g>\n     </g>\n    </g>\n    <g id=\"xtick_9\">\n     <g id=\"line2d_17\">\n      <path d=\"M 475.091903 354.958125 \nL 475.091903 22.318125 \n\" clip-path=\"url(#p4029df89ab)\" style=\"fill: none; stroke: #b0b0b0; stroke-width: 0.8; stroke-linecap: square\"/>\n     </g>\n     <g id=\"line2d_18\">\n      <g>\n       <use xlink:href=\"#m3f05c6e31b\" x=\"475.091903\" y=\"354.958125\" style=\"stroke: #000000; stroke-width: 0.8\"/>\n      </g>\n     </g>\n     <g id=\"text_9\">\n      <!-- 2.0 -->\n      <g transform=\"translate(467.140341 369.556562) scale(0.1 -0.1)\">\n       <use xlink:href=\"#DejaVuSans-32\"/>\n       <use xlink:href=\"#DejaVuSans-2e\" x=\"63.623047\"/>\n       <use xlink:href=\"#DejaVuSans-30\" x=\"95.410156\"/>\n      </g>\n     </g>\n    </g>\n    <g id=\"text_10\">\n     <!-- x -->\n     <g transform=\"translate(269.223437 383.234687) scale(0.1 -0.1)\">\n      <defs>\n       <path id=\"DejaVuSans-78\" d=\"M 3513 3500 \nL 2247 1797 \nL 3578 0 \nL 2900 0 \nL 1881 1375 \nL 863 0 \nL 184 0 \nL 1544 1831 \nL 300 3500 \nL 978 3500 \nL 1906 2253 \nL 2834 3500 \nL 3513 3500 \nz\n\" transform=\"scale(0.015625)\"/>\n      </defs>\n      <use xlink:href=\"#DejaVuSans-78\"/>\n     </g>\n    </g>\n   </g>\n   <g id=\"matplotlib.axis_2\">\n    <g id=\"ytick_1\">\n     <g id=\"line2d_19\">\n      <path d=\"M 48.982813 310.819964 \nL 495.382812 310.819964 \n\" clip-path=\"url(#p4029df89ab)\" style=\"fill: none; stroke: #b0b0b0; stroke-width: 0.8; stroke-linecap: square\"/>\n     </g>\n     <g id=\"line2d_20\">\n      <defs>\n       <path id=\"m2abd3f99a2\" d=\"M 0 0 \nL -3.5 0 \n\" style=\"stroke: #000000; stroke-width: 0.8\"/>\n      </defs>\n      <g>\n       <use xlink:href=\"#m2abd3f99a2\" x=\"48.982813\" y=\"310.819964\" style=\"stroke: #000000; stroke-width: 0.8\"/>\n      </g>\n     </g>\n     <g id=\"text_11\">\n      <!-- −40 -->\n      <g transform=\"translate(20.878125 314.619182) scale(0.1 -0.1)\">\n       <defs>\n        <path id=\"DejaVuSans-34\" d=\"M 2419 4116 \nL 825 1625 \nL 2419 1625 \nL 2419 4116 \nz\nM 2253 4666 \nL 3047 4666 \nL 3047 1625 \nL 3713 1625 \nL 3713 1100 \nL 3047 1100 \nL 3047 0 \nL 2419 0 \nL 2419 1100 \nL 313 1100 \nL 313 1709 \nL 2253 4666 \nz\n\" transform=\"scale(0.015625)\"/>\n       </defs>\n       <use xlink:href=\"#DejaVuSans-2212\"/>\n       <use xlink:href=\"#DejaVuSans-34\" x=\"83.789062\"/>\n       <use xlink:href=\"#DejaVuSans-30\" x=\"147.412109\"/>\n      </g>\n     </g>\n    </g>\n    <g id=\"ytick_2\">\n     <g id=\"line2d_21\">\n      <path d=\"M 48.982813 249.729044 \nL 495.382812 249.729044 \n\" clip-path=\"url(#p4029df89ab)\" style=\"fill: none; stroke: #b0b0b0; stroke-width: 0.8; stroke-linecap: square\"/>\n     </g>\n     <g id=\"line2d_22\">\n      <g>\n       <use xlink:href=\"#m2abd3f99a2\" x=\"48.982813\" y=\"249.729044\" style=\"stroke: #000000; stroke-width: 0.8\"/>\n      </g>\n     </g>\n     <g id=\"text_12\">\n      <!-- −20 -->\n      <g transform=\"translate(20.878125 253.528263) scale(0.1 -0.1)\">\n       <use xlink:href=\"#DejaVuSans-2212\"/>\n       <use xlink:href=\"#DejaVuSans-32\" x=\"83.789062\"/>\n       <use xlink:href=\"#DejaVuSans-30\" x=\"147.412109\"/>\n      </g>\n     </g>\n    </g>\n    <g id=\"ytick_3\">\n     <g id=\"line2d_23\">\n      <path d=\"M 48.982813 188.638125 \nL 495.382812 188.638125 \n\" clip-path=\"url(#p4029df89ab)\" style=\"fill: none; stroke: #b0b0b0; stroke-width: 0.8; stroke-linecap: square\"/>\n     </g>\n     <g id=\"line2d_24\">\n      <g>\n       <use xlink:href=\"#m2abd3f99a2\" x=\"48.982813\" y=\"188.638125\" style=\"stroke: #000000; stroke-width: 0.8\"/>\n      </g>\n     </g>\n     <g id=\"text_13\">\n      <!-- 0 -->\n      <g transform=\"translate(35.620313 192.437344) scale(0.1 -0.1)\">\n       <use xlink:href=\"#DejaVuSans-30\"/>\n      </g>\n     </g>\n    </g>\n    <g id=\"ytick_4\">\n     <g id=\"line2d_25\">\n      <path d=\"M 48.982813 127.547206 \nL 495.382812 127.547206 \n\" clip-path=\"url(#p4029df89ab)\" style=\"fill: none; stroke: #b0b0b0; stroke-width: 0.8; stroke-linecap: square\"/>\n     </g>\n     <g id=\"line2d_26\">\n      <g>\n       <use xlink:href=\"#m2abd3f99a2\" x=\"48.982813\" y=\"127.547206\" style=\"stroke: #000000; stroke-width: 0.8\"/>\n      </g>\n     </g>\n     <g id=\"text_14\">\n      <!-- 20 -->\n      <g transform=\"translate(29.257813 131.346424) scale(0.1 -0.1)\">\n       <use xlink:href=\"#DejaVuSans-32\"/>\n       <use xlink:href=\"#DejaVuSans-30\" x=\"63.623047\"/>\n      </g>\n     </g>\n    </g>\n    <g id=\"ytick_5\">\n     <g id=\"line2d_27\">\n      <path d=\"M 48.982813 66.456286 \nL 495.382812 66.456286 \n\" clip-path=\"url(#p4029df89ab)\" style=\"fill: none; stroke: #b0b0b0; stroke-width: 0.8; stroke-linecap: square\"/>\n     </g>\n     <g id=\"line2d_28\">\n      <g>\n       <use xlink:href=\"#m2abd3f99a2\" x=\"48.982813\" y=\"66.456286\" style=\"stroke: #000000; stroke-width: 0.8\"/>\n      </g>\n     </g>\n     <g id=\"text_15\">\n      <!-- 40 -->\n      <g transform=\"translate(29.257813 70.255505) scale(0.1 -0.1)\">\n       <use xlink:href=\"#DejaVuSans-34\"/>\n       <use xlink:href=\"#DejaVuSans-30\" x=\"63.623047\"/>\n      </g>\n     </g>\n    </g>\n    <g id=\"text_16\">\n     <!-- y -->\n     <g transform=\"translate(14.798438 191.5975) rotate(-90) scale(0.1 -0.1)\">\n      <defs>\n       <path id=\"DejaVuSans-79\" d=\"M 2059 -325 \nQ 1816 -950 1584 -1140 \nQ 1353 -1331 966 -1331 \nL 506 -1331 \nL 506 -850 \nL 844 -850 \nQ 1081 -850 1212 -737 \nQ 1344 -625 1503 -206 \nL 1606 56 \nL 191 3500 \nL 800 3500 \nL 1894 763 \nL 2988 3500 \nL 3597 3500 \nL 2059 -325 \nz\n\" transform=\"scale(0.015625)\"/>\n      </defs>\n      <use xlink:href=\"#DejaVuSans-79\"/>\n     </g>\n    </g>\n   </g>\n   <g id=\"line2d_29\">\n    <path d=\"M 69.273722 211.54722 \nL 73.372895 210.064455 \nL 77.472069 208.638994 \nL 81.571242 207.269541 \nL 85.670416 205.954796 \nL 89.769589 204.693447 \nL 93.868763 203.484176 \nL 97.967936 202.325652 \nL 102.06711 201.216533 \nL 106.166284 200.155464 \nL 110.265457 199.141077 \nL 114.364631 198.171984 \nL 118.463804 197.24678 \nL 122.562978 196.364039 \nL 126.662151 195.52231 \nL 130.761325 194.720112 \nL 134.860498 193.955934 \nL 138.959672 193.228228 \nL 143.058846 192.5354 \nL 147.158019 191.875809 \nL 151.257193 191.247753 \nL 155.356366 190.649462 \nL 159.45554 190.079083 \nL 163.554713 189.534668 \nL 167.653887 189.01415 \nL 171.75306 188.515326 \nL 175.852234 188.03582 \nL 179.951408 187.57305 \nL 184.050581 187.124179 \nL 188.149755 186.686051 \nL 192.248928 186.255113 \nL 196.348102 185.827302 \nL 200.447275 185.397904 \nL 204.546449 184.961357 \nL 208.645622 184.510972 \nL 212.744796 184.038553 \nL 216.84397 183.533828 \nL 220.943143 182.98363 \nL 225.042317 182.370629 \nL 229.14149 181.671356 \nL 233.240664 180.852969 \nL 237.339837 179.867737 \nL 241.439011 178.643121 \nL 245.538184 177.062684 \nL 249.637358 174.926189 \nL 253.736532 171.856482 \nL 257.835705 167.04676 \nL 261.934879 158.401268 \nL 266.034052 138.238797 \nL 270.133226 37.438125 \nL 274.232399 339.838125 \nL 278.331573 239.037453 \nL 282.430746 218.874982 \nL 286.52992 210.22949 \nL 290.629093 205.419768 \nL 294.728267 202.350061 \nL 298.827441 200.213566 \nL 302.926614 198.633129 \nL 307.025788 197.408513 \nL 311.124961 196.423281 \nL 315.224135 195.604894 \nL 319.323308 194.905621 \nL 323.422482 194.29262 \nL 327.521655 193.742422 \nL 331.620829 193.237697 \nL 335.720003 192.765278 \nL 339.819176 192.314893 \nL 343.91835 191.878346 \nL 348.017523 191.448948 \nL 352.116697 191.021137 \nL 356.21587 190.590199 \nL 360.315044 190.152071 \nL 364.414217 189.7032 \nL 368.513391 189.24043 \nL 372.612565 188.760924 \nL 376.711738 188.2621 \nL 380.810912 187.741582 \nL 384.910085 187.197167 \nL 389.009259 186.626788 \nL 393.108432 186.028497 \nL 397.207606 185.400441 \nL 401.306779 184.74085 \nL 405.405953 184.048022 \nL 409.505127 183.320316 \nL 413.6043 182.556138 \nL 417.703474 181.75394 \nL 421.802647 180.912211 \nL 425.901821 180.02947 \nL 430.000994 179.104266 \nL 434.100168 178.135173 \nL 438.199341 177.120786 \nL 442.298515 176.059717 \nL 446.397689 174.950598 \nL 450.496862 173.792074 \nL 454.596036 172.582803 \nL 458.695209 171.321454 \nL 462.794383 170.006709 \nL 466.893556 168.637256 \nL 470.99273 167.211795 \nL 475.091903 165.72903 \n\" clip-path=\"url(#p4029df89ab)\" style=\"fill: none; stroke: #1f77b4; stroke-width: 1.5; stroke-linecap: square\"/>\n   </g>\n   <g id=\"line2d_30\">\n    <path d=\"M 69.273722 225.292677 \nL 73.372895 224.799013 \nL 77.472069 224.305349 \nL 81.571242 223.811685 \nL 85.670416 223.318021 \nL 89.769589 222.824357 \nL 93.868763 222.330693 \nL 97.967936 221.837029 \nL 102.06711 221.343365 \nL 106.166284 220.849701 \nL 110.265457 220.356037 \nL 114.364631 219.862373 \nL 118.463804 219.368709 \nL 122.562978 218.875045 \nL 126.662151 218.381381 \nL 130.761325 217.887717 \nL 134.860498 217.394053 \nL 138.959672 216.900389 \nL 143.058846 216.406725 \nL 147.158019 215.913061 \nL 151.257193 215.419397 \nL 155.356366 214.925733 \nL 159.45554 214.432069 \nL 163.554713 213.938405 \nL 167.653887 213.444741 \nL 171.75306 212.951077 \nL 175.852234 212.457413 \nL 179.951408 211.963749 \nL 184.050581 211.470085 \nL 188.149755 210.976421 \nL 192.248928 210.482757 \nL 196.348102 209.989093 \nL 200.447275 209.495429 \nL 204.546449 209.001765 \nL 208.645622 208.508101 \nL 212.744796 208.014437 \nL 216.84397 207.520773 \nL 220.943143 207.027109 \nL 225.042317 206.533445 \nL 229.14149 206.039781 \nL 233.240664 205.546117 \nL 237.339837 205.052453 \nL 241.439011 204.558789 \nL 245.538184 204.065125 \nL 249.637358 203.571461 \nL 253.736532 203.077797 \nL 257.835705 202.584133 \nL 261.934879 202.090469 \nL 266.034052 201.596805 \nL 270.133226 201.103141 \nL 274.232399 200.609477 \nL 278.331573 200.115813 \nL 282.430746 199.622149 \nL 286.52992 199.128485 \nL 290.629093 198.634821 \nL 294.728267 198.141157 \nL 298.827441 197.647493 \nL 302.926614 197.153829 \nL 307.025788 196.660165 \nL 311.124961 196.166501 \nL 315.224135 195.672837 \nL 319.323308 195.179173 \nL 323.422482 194.685509 \nL 327.521655 194.191845 \nL 331.620829 193.698181 \nL 335.720003 193.204517 \nL 339.819176 192.710853 \nL 343.91835 192.217189 \nL 348.017523 191.723525 \nL 352.116697 191.229861 \nL 356.21587 190.736197 \nL 360.315044 190.242533 \nL 364.414217 189.748869 \nL 368.513391 189.255205 \nL 372.612565 188.761541 \nL 376.711738 188.267877 \nL 380.810912 187.774213 \nL 384.910085 187.280549 \nL 389.009259 186.786885 \nL 393.108432 186.293221 \nL 397.207606 185.799557 \nL 401.306779 185.305893 \nL 405.405953 184.812229 \nL 409.505127 184.318565 \nL 413.6043 183.824901 \nL 417.703474 183.331237 \nL 421.802647 182.837573 \nL 425.901821 182.343909 \nL 430.000994 181.850245 \nL 434.100168 181.356581 \nL 438.199341 180.862917 \nL 442.298515 180.369253 \nL 446.397689 179.875589 \nL 450.496862 179.381925 \nL 454.596036 178.888261 \nL 458.695209 178.394597 \nL 462.794383 177.900933 \nL 466.893556 177.407269 \nL 470.99273 176.913605 \nL 475.091903 176.419941 \n\" clip-path=\"url(#p4029df89ab)\" style=\"fill: none; stroke-dasharray: 5.55,2.4; stroke-dashoffset: 0; stroke: #ff0000; stroke-width: 1.5\"/>\n   </g>\n   <g id=\"patch_3\">\n    <path d=\"M 48.982813 354.958125 \nL 48.982813 22.318125 \n\" style=\"fill: none; stroke: #000000; stroke-width: 0.8; stroke-linejoin: miter; stroke-linecap: square\"/>\n   </g>\n   <g id=\"patch_4\">\n    <path d=\"M 495.382812 354.958125 \nL 495.382812 22.318125 \n\" style=\"fill: none; stroke: #000000; stroke-width: 0.8; stroke-linejoin: miter; stroke-linecap: square\"/>\n   </g>\n   <g id=\"patch_5\">\n    <path d=\"M 48.982813 354.958125 \nL 495.382812 354.958125 \n\" style=\"fill: none; stroke: #000000; stroke-width: 0.8; stroke-linejoin: miter; stroke-linecap: square\"/>\n   </g>\n   <g id=\"patch_6\">\n    <path d=\"M 48.982813 22.318125 \nL 495.382812 22.318125 \n\" style=\"fill: none; stroke: #000000; stroke-width: 0.8; stroke-linejoin: miter; stroke-linecap: square\"/>\n   </g>\n   <g id=\"text_17\">\n    <!-- Function and Tangent Line at x = 1 -->\n    <g transform=\"translate(167.28875 16.318125) scale(0.12 -0.12)\">\n     <defs>\n      <path id=\"DejaVuSans-46\" d=\"M 628 4666 \nL 3309 4666 \nL 3309 4134 \nL 1259 4134 \nL 1259 2759 \nL 3109 2759 \nL 3109 2228 \nL 1259 2228 \nL 1259 0 \nL 628 0 \nL 628 4666 \nz\n\" transform=\"scale(0.015625)\"/>\n      <path id=\"DejaVuSans-75\" d=\"M 544 1381 \nL 544 3500 \nL 1119 3500 \nL 1119 1403 \nQ 1119 906 1312 657 \nQ 1506 409 1894 409 \nQ 2359 409 2629 706 \nQ 2900 1003 2900 1516 \nL 2900 3500 \nL 3475 3500 \nL 3475 0 \nL 2900 0 \nL 2900 538 \nQ 2691 219 2414 64 \nQ 2138 -91 1772 -91 \nQ 1169 -91 856 284 \nQ 544 659 544 1381 \nz\nM 1991 3584 \nL 1991 3584 \nz\n\" transform=\"scale(0.015625)\"/>\n      <path id=\"DejaVuSans-6e\" d=\"M 3513 2113 \nL 3513 0 \nL 2938 0 \nL 2938 2094 \nQ 2938 2591 2744 2837 \nQ 2550 3084 2163 3084 \nQ 1697 3084 1428 2787 \nQ 1159 2491 1159 1978 \nL 1159 0 \nL 581 0 \nL 581 3500 \nL 1159 3500 \nL 1159 2956 \nQ 1366 3272 1645 3428 \nQ 1925 3584 2291 3584 \nQ 2894 3584 3203 3211 \nQ 3513 2838 3513 2113 \nz\n\" transform=\"scale(0.015625)\"/>\n      <path id=\"DejaVuSans-63\" d=\"M 3122 3366 \nL 3122 2828 \nQ 2878 2963 2633 3030 \nQ 2388 3097 2138 3097 \nQ 1578 3097 1268 2742 \nQ 959 2388 959 1747 \nQ 959 1106 1268 751 \nQ 1578 397 2138 397 \nQ 2388 397 2633 464 \nQ 2878 531 3122 666 \nL 3122 134 \nQ 2881 22 2623 -34 \nQ 2366 -91 2075 -91 \nQ 1284 -91 818 406 \nQ 353 903 353 1747 \nQ 353 2603 823 3093 \nQ 1294 3584 2113 3584 \nQ 2378 3584 2631 3529 \nQ 2884 3475 3122 3366 \nz\n\" transform=\"scale(0.015625)\"/>\n      <path id=\"DejaVuSans-74\" d=\"M 1172 4494 \nL 1172 3500 \nL 2356 3500 \nL 2356 3053 \nL 1172 3053 \nL 1172 1153 \nQ 1172 725 1289 603 \nQ 1406 481 1766 481 \nL 2356 481 \nL 2356 0 \nL 1766 0 \nQ 1100 0 847 248 \nQ 594 497 594 1153 \nL 594 3053 \nL 172 3053 \nL 172 3500 \nL 594 3500 \nL 594 4494 \nL 1172 4494 \nz\n\" transform=\"scale(0.015625)\"/>\n      <path id=\"DejaVuSans-69\" d=\"M 603 3500 \nL 1178 3500 \nL 1178 0 \nL 603 0 \nL 603 3500 \nz\nM 603 4863 \nL 1178 4863 \nL 1178 4134 \nL 603 4134 \nL 603 4863 \nz\n\" transform=\"scale(0.015625)\"/>\n      <path id=\"DejaVuSans-6f\" d=\"M 1959 3097 \nQ 1497 3097 1228 2736 \nQ 959 2375 959 1747 \nQ 959 1119 1226 758 \nQ 1494 397 1959 397 \nQ 2419 397 2687 759 \nQ 2956 1122 2956 1747 \nQ 2956 2369 2687 2733 \nQ 2419 3097 1959 3097 \nz\nM 1959 3584 \nQ 2709 3584 3137 3096 \nQ 3566 2609 3566 1747 \nQ 3566 888 3137 398 \nQ 2709 -91 1959 -91 \nQ 1206 -91 779 398 \nQ 353 888 353 1747 \nQ 353 2609 779 3096 \nQ 1206 3584 1959 3584 \nz\n\" transform=\"scale(0.015625)\"/>\n      <path id=\"DejaVuSans-20\" transform=\"scale(0.015625)\"/>\n      <path id=\"DejaVuSans-61\" d=\"M 2194 1759 \nQ 1497 1759 1228 1600 \nQ 959 1441 959 1056 \nQ 959 750 1161 570 \nQ 1363 391 1709 391 \nQ 2188 391 2477 730 \nQ 2766 1069 2766 1631 \nL 2766 1759 \nL 2194 1759 \nz\nM 3341 1997 \nL 3341 0 \nL 2766 0 \nL 2766 531 \nQ 2569 213 2275 61 \nQ 1981 -91 1556 -91 \nQ 1019 -91 701 211 \nQ 384 513 384 1019 \nQ 384 1609 779 1909 \nQ 1175 2209 1959 2209 \nL 2766 2209 \nL 2766 2266 \nQ 2766 2663 2505 2880 \nQ 2244 3097 1772 3097 \nQ 1472 3097 1187 3025 \nQ 903 2953 641 2809 \nL 641 3341 \nQ 956 3463 1253 3523 \nQ 1550 3584 1831 3584 \nQ 2591 3584 2966 3190 \nQ 3341 2797 3341 1997 \nz\n\" transform=\"scale(0.015625)\"/>\n      <path id=\"DejaVuSans-64\" d=\"M 2906 2969 \nL 2906 4863 \nL 3481 4863 \nL 3481 0 \nL 2906 0 \nL 2906 525 \nQ 2725 213 2448 61 \nQ 2172 -91 1784 -91 \nQ 1150 -91 751 415 \nQ 353 922 353 1747 \nQ 353 2572 751 3078 \nQ 1150 3584 1784 3584 \nQ 2172 3584 2448 3432 \nQ 2725 3281 2906 2969 \nz\nM 947 1747 \nQ 947 1113 1208 752 \nQ 1469 391 1925 391 \nQ 2381 391 2643 752 \nQ 2906 1113 2906 1747 \nQ 2906 2381 2643 2742 \nQ 2381 3103 1925 3103 \nQ 1469 3103 1208 2742 \nQ 947 2381 947 1747 \nz\n\" transform=\"scale(0.015625)\"/>\n      <path id=\"DejaVuSans-54\" d=\"M -19 4666 \nL 3928 4666 \nL 3928 4134 \nL 2272 4134 \nL 2272 0 \nL 1638 0 \nL 1638 4134 \nL -19 4134 \nL -19 4666 \nz\n\" transform=\"scale(0.015625)\"/>\n      <path id=\"DejaVuSans-67\" d=\"M 2906 1791 \nQ 2906 2416 2648 2759 \nQ 2391 3103 1925 3103 \nQ 1463 3103 1205 2759 \nQ 947 2416 947 1791 \nQ 947 1169 1205 825 \nQ 1463 481 1925 481 \nQ 2391 481 2648 825 \nQ 2906 1169 2906 1791 \nz\nM 3481 434 \nQ 3481 -459 3084 -895 \nQ 2688 -1331 1869 -1331 \nQ 1566 -1331 1297 -1286 \nQ 1028 -1241 775 -1147 \nL 775 -588 \nQ 1028 -725 1275 -790 \nQ 1522 -856 1778 -856 \nQ 2344 -856 2625 -561 \nQ 2906 -266 2906 331 \nL 2906 616 \nQ 2728 306 2450 153 \nQ 2172 0 1784 0 \nQ 1141 0 747 490 \nQ 353 981 353 1791 \nQ 353 2603 747 3093 \nQ 1141 3584 1784 3584 \nQ 2172 3584 2450 3431 \nQ 2728 3278 2906 2969 \nL 2906 3500 \nL 3481 3500 \nL 3481 434 \nz\n\" transform=\"scale(0.015625)\"/>\n      <path id=\"DejaVuSans-65\" d=\"M 3597 1894 \nL 3597 1613 \nL 953 1613 \nQ 991 1019 1311 708 \nQ 1631 397 2203 397 \nQ 2534 397 2845 478 \nQ 3156 559 3463 722 \nL 3463 178 \nQ 3153 47 2828 -22 \nQ 2503 -91 2169 -91 \nQ 1331 -91 842 396 \nQ 353 884 353 1716 \nQ 353 2575 817 3079 \nQ 1281 3584 2069 3584 \nQ 2775 3584 3186 3129 \nQ 3597 2675 3597 1894 \nz\nM 3022 2063 \nQ 3016 2534 2758 2815 \nQ 2500 3097 2075 3097 \nQ 1594 3097 1305 2825 \nQ 1016 2553 972 2059 \nL 3022 2063 \nz\n\" transform=\"scale(0.015625)\"/>\n      <path id=\"DejaVuSans-4c\" d=\"M 628 4666 \nL 1259 4666 \nL 1259 531 \nL 3531 531 \nL 3531 0 \nL 628 0 \nL 628 4666 \nz\n\" transform=\"scale(0.015625)\"/>\n      <path id=\"DejaVuSans-3d\" d=\"M 678 2906 \nL 4684 2906 \nL 4684 2381 \nL 678 2381 \nL 678 2906 \nz\nM 678 1631 \nL 4684 1631 \nL 4684 1100 \nL 678 1100 \nL 678 1631 \nz\n\" transform=\"scale(0.015625)\"/>\n     </defs>\n     <use xlink:href=\"#DejaVuSans-46\"/>\n     <use xlink:href=\"#DejaVuSans-75\" x=\"52.019531\"/>\n     <use xlink:href=\"#DejaVuSans-6e\" x=\"115.398438\"/>\n     <use xlink:href=\"#DejaVuSans-63\" x=\"178.777344\"/>\n     <use xlink:href=\"#DejaVuSans-74\" x=\"233.757812\"/>\n     <use xlink:href=\"#DejaVuSans-69\" x=\"272.966797\"/>\n     <use xlink:href=\"#DejaVuSans-6f\" x=\"300.75\"/>\n     <use xlink:href=\"#DejaVuSans-6e\" x=\"361.931641\"/>\n     <use xlink:href=\"#DejaVuSans-20\" x=\"425.310547\"/>\n     <use xlink:href=\"#DejaVuSans-61\" x=\"457.097656\"/>\n     <use xlink:href=\"#DejaVuSans-6e\" x=\"518.376953\"/>\n     <use xlink:href=\"#DejaVuSans-64\" x=\"581.755859\"/>\n     <use xlink:href=\"#DejaVuSans-20\" x=\"645.232422\"/>\n     <use xlink:href=\"#DejaVuSans-54\" x=\"677.019531\"/>\n     <use xlink:href=\"#DejaVuSans-61\" x=\"721.603516\"/>\n     <use xlink:href=\"#DejaVuSans-6e\" x=\"782.882812\"/>\n     <use xlink:href=\"#DejaVuSans-67\" x=\"846.261719\"/>\n     <use xlink:href=\"#DejaVuSans-65\" x=\"909.738281\"/>\n     <use xlink:href=\"#DejaVuSans-6e\" x=\"971.261719\"/>\n     <use xlink:href=\"#DejaVuSans-74\" x=\"1034.640625\"/>\n     <use xlink:href=\"#DejaVuSans-20\" x=\"1073.849609\"/>\n     <use xlink:href=\"#DejaVuSans-4c\" x=\"1105.636719\"/>\n     <use xlink:href=\"#DejaVuSans-69\" x=\"1161.349609\"/>\n     <use xlink:href=\"#DejaVuSans-6e\" x=\"1189.132812\"/>\n     <use xlink:href=\"#DejaVuSans-65\" x=\"1252.511719\"/>\n     <use xlink:href=\"#DejaVuSans-20\" x=\"1314.035156\"/>\n     <use xlink:href=\"#DejaVuSans-61\" x=\"1345.822266\"/>\n     <use xlink:href=\"#DejaVuSans-74\" x=\"1407.101562\"/>\n     <use xlink:href=\"#DejaVuSans-20\" x=\"1446.310547\"/>\n     <use xlink:href=\"#DejaVuSans-78\" x=\"1478.097656\"/>\n     <use xlink:href=\"#DejaVuSans-20\" x=\"1537.277344\"/>\n     <use xlink:href=\"#DejaVuSans-3d\" x=\"1569.064453\"/>\n     <use xlink:href=\"#DejaVuSans-20\" x=\"1652.853516\"/>\n     <use xlink:href=\"#DejaVuSans-31\" x=\"1684.640625\"/>\n    </g>\n   </g>\n   <g id=\"legend_1\">\n    <g id=\"patch_7\">\n     <path d=\"M 330.925 74.3525 \nL 488.382812 74.3525 \nQ 490.382812 74.3525 490.382812 72.3525 \nL 490.382812 29.318125 \nQ 490.382812 27.318125 488.382812 27.318125 \nL 330.925 27.318125 \nQ 328.925 27.318125 328.925 29.318125 \nL 328.925 72.3525 \nQ 328.925 74.3525 330.925 74.3525 \nz\n\" style=\"fill: #ffffff; opacity: 0.8; stroke: #cccccc; stroke-linejoin: miter\"/>\n    </g>\n    <g id=\"line2d_31\">\n     <path d=\"M 332.925 35.416562 \nL 342.925 35.416562 \nL 352.925 35.416562 \n\" style=\"fill: none; stroke: #1f77b4; stroke-width: 1.5; stroke-linecap: square\"/>\n    </g>\n    <g id=\"text_18\">\n     <!-- y = x^3 - 1/x -->\n     <g transform=\"translate(360.925 38.916562) scale(0.1 -0.1)\">\n      <defs>\n       <path id=\"DejaVuSans-5e\" d=\"M 2988 4666 \nL 4684 2925 \nL 4056 2925 \nL 2681 4159 \nL 1306 2925 \nL 678 2925 \nL 2375 4666 \nL 2988 4666 \nz\n\" transform=\"scale(0.015625)\"/>\n       <path id=\"DejaVuSans-33\" d=\"M 2597 2516 \nQ 3050 2419 3304 2112 \nQ 3559 1806 3559 1356 \nQ 3559 666 3084 287 \nQ 2609 -91 1734 -91 \nQ 1441 -91 1130 -33 \nQ 819 25 488 141 \nL 488 750 \nQ 750 597 1062 519 \nQ 1375 441 1716 441 \nQ 2309 441 2620 675 \nQ 2931 909 2931 1356 \nQ 2931 1769 2642 2001 \nQ 2353 2234 1838 2234 \nL 1294 2234 \nL 1294 2753 \nL 1863 2753 \nQ 2328 2753 2575 2939 \nQ 2822 3125 2822 3475 \nQ 2822 3834 2567 4026 \nQ 2313 4219 1838 4219 \nQ 1578 4219 1281 4162 \nQ 984 4106 628 3988 \nL 628 4550 \nQ 988 4650 1302 4700 \nQ 1616 4750 1894 4750 \nQ 2613 4750 3031 4423 \nQ 3450 4097 3450 3541 \nQ 3450 3153 3228 2886 \nQ 3006 2619 2597 2516 \nz\n\" transform=\"scale(0.015625)\"/>\n       <path id=\"DejaVuSans-2d\" d=\"M 313 2009 \nL 1997 2009 \nL 1997 1497 \nL 313 1497 \nL 313 2009 \nz\n\" transform=\"scale(0.015625)\"/>\n       <path id=\"DejaVuSans-2f\" d=\"M 1625 4666 \nL 2156 4666 \nL 531 -594 \nL 0 -594 \nL 1625 4666 \nz\n\" transform=\"scale(0.015625)\"/>\n      </defs>\n      <use xlink:href=\"#DejaVuSans-79\"/>\n      <use xlink:href=\"#DejaVuSans-20\" x=\"59.179688\"/>\n      <use xlink:href=\"#DejaVuSans-3d\" x=\"90.966797\"/>\n      <use xlink:href=\"#DejaVuSans-20\" x=\"174.755859\"/>\n      <use xlink:href=\"#DejaVuSans-78\" x=\"206.542969\"/>\n      <use xlink:href=\"#DejaVuSans-5e\" x=\"265.722656\"/>\n      <use xlink:href=\"#DejaVuSans-33\" x=\"349.511719\"/>\n      <use xlink:href=\"#DejaVuSans-20\" x=\"413.134766\"/>\n      <use xlink:href=\"#DejaVuSans-2d\" x=\"444.921875\"/>\n      <use xlink:href=\"#DejaVuSans-20\" x=\"481.005859\"/>\n      <use xlink:href=\"#DejaVuSans-31\" x=\"512.792969\"/>\n      <use xlink:href=\"#DejaVuSans-2f\" x=\"576.416016\"/>\n      <use xlink:href=\"#DejaVuSans-78\" x=\"610.107422\"/>\n     </g>\n    </g>\n    <g id=\"line2d_32\">\n     <path d=\"M 332.925 50.094687 \nL 342.925 50.094687 \nL 352.925 50.094687 \n\" style=\"fill: none; stroke-dasharray: 5.55,2.4; stroke-dashoffset: 0; stroke: #ff0000; stroke-width: 1.5\"/>\n    </g>\n    <g id=\"text_19\">\n     <!-- Tangent at x = 1 -->\n     <g transform=\"translate(360.925 53.594687) scale(0.1 -0.1)\">\n      <use xlink:href=\"#DejaVuSans-54\"/>\n      <use xlink:href=\"#DejaVuSans-61\" x=\"44.583984\"/>\n      <use xlink:href=\"#DejaVuSans-6e\" x=\"105.863281\"/>\n      <use xlink:href=\"#DejaVuSans-67\" x=\"169.242188\"/>\n      <use xlink:href=\"#DejaVuSans-65\" x=\"232.71875\"/>\n      <use xlink:href=\"#DejaVuSans-6e\" x=\"294.242188\"/>\n      <use xlink:href=\"#DejaVuSans-74\" x=\"357.621094\"/>\n      <use xlink:href=\"#DejaVuSans-20\" x=\"396.830078\"/>\n      <use xlink:href=\"#DejaVuSans-61\" x=\"428.617188\"/>\n      <use xlink:href=\"#DejaVuSans-74\" x=\"489.896484\"/>\n      <use xlink:href=\"#DejaVuSans-20\" x=\"529.105469\"/>\n      <use xlink:href=\"#DejaVuSans-78\" x=\"560.892578\"/>\n      <use xlink:href=\"#DejaVuSans-20\" x=\"620.072266\"/>\n      <use xlink:href=\"#DejaVuSans-3d\" x=\"651.859375\"/>\n      <use xlink:href=\"#DejaVuSans-20\" x=\"735.648438\"/>\n      <use xlink:href=\"#DejaVuSans-31\" x=\"767.435547\"/>\n     </g>\n    </g>\n    <g id=\"PathCollection_2\">\n     <g>\n      <use xlink:href=\"#m9a36cd212c\" x=\"342.925\" y=\"65.647812\" style=\"fill: #ff0000; stroke: #ff0000\"/>\n     </g>\n    </g>\n    <g id=\"text_20\">\n     <!-- Point of tangency (x = 1) -->\n     <g transform=\"translate(360.925 68.272812) scale(0.1 -0.1)\">\n      <defs>\n       <path id=\"DejaVuSans-50\" d=\"M 1259 4147 \nL 1259 2394 \nL 2053 2394 \nQ 2494 2394 2734 2622 \nQ 2975 2850 2975 3272 \nQ 2975 3691 2734 3919 \nQ 2494 4147 2053 4147 \nL 1259 4147 \nz\nM 628 4666 \nL 2053 4666 \nQ 2838 4666 3239 4311 \nQ 3641 3956 3641 3272 \nQ 3641 2581 3239 2228 \nQ 2838 1875 2053 1875 \nL 1259 1875 \nL 1259 0 \nL 628 0 \nL 628 4666 \nz\n\" transform=\"scale(0.015625)\"/>\n       <path id=\"DejaVuSans-66\" d=\"M 2375 4863 \nL 2375 4384 \nL 1825 4384 \nQ 1516 4384 1395 4259 \nQ 1275 4134 1275 3809 \nL 1275 3500 \nL 2222 3500 \nL 2222 3053 \nL 1275 3053 \nL 1275 0 \nL 697 0 \nL 697 3053 \nL 147 3053 \nL 147 3500 \nL 697 3500 \nL 697 3744 \nQ 697 4328 969 4595 \nQ 1241 4863 1831 4863 \nL 2375 4863 \nz\n\" transform=\"scale(0.015625)\"/>\n       <path id=\"DejaVuSans-28\" d=\"M 1984 4856 \nQ 1566 4138 1362 3434 \nQ 1159 2731 1159 2009 \nQ 1159 1288 1364 580 \nQ 1569 -128 1984 -844 \nL 1484 -844 \nQ 1016 -109 783 600 \nQ 550 1309 550 2009 \nQ 550 2706 781 3412 \nQ 1013 4119 1484 4856 \nL 1984 4856 \nz\n\" transform=\"scale(0.015625)\"/>\n       <path id=\"DejaVuSans-29\" d=\"M 513 4856 \nL 1013 4856 \nQ 1481 4119 1714 3412 \nQ 1947 2706 1947 2009 \nQ 1947 1309 1714 600 \nQ 1481 -109 1013 -844 \nL 513 -844 \nQ 928 -128 1133 580 \nQ 1338 1288 1338 2009 \nQ 1338 2731 1133 3434 \nQ 928 4138 513 4856 \nz\n\" transform=\"scale(0.015625)\"/>\n      </defs>\n      <use xlink:href=\"#DejaVuSans-50\"/>\n      <use xlink:href=\"#DejaVuSans-6f\" x=\"56.677734\"/>\n      <use xlink:href=\"#DejaVuSans-69\" x=\"117.859375\"/>\n      <use xlink:href=\"#DejaVuSans-6e\" x=\"145.642578\"/>\n      <use xlink:href=\"#DejaVuSans-74\" x=\"209.021484\"/>\n      <use xlink:href=\"#DejaVuSans-20\" x=\"248.230469\"/>\n      <use xlink:href=\"#DejaVuSans-6f\" x=\"280.017578\"/>\n      <use xlink:href=\"#DejaVuSans-66\" x=\"341.199219\"/>\n      <use xlink:href=\"#DejaVuSans-20\" x=\"376.404297\"/>\n      <use xlink:href=\"#DejaVuSans-74\" x=\"408.191406\"/>\n      <use xlink:href=\"#DejaVuSans-61\" x=\"447.400391\"/>\n      <use xlink:href=\"#DejaVuSans-6e\" x=\"508.679688\"/>\n      <use xlink:href=\"#DejaVuSans-67\" x=\"572.058594\"/>\n      <use xlink:href=\"#DejaVuSans-65\" x=\"635.535156\"/>\n      <use xlink:href=\"#DejaVuSans-6e\" x=\"697.058594\"/>\n      <use xlink:href=\"#DejaVuSans-63\" x=\"760.4375\"/>\n      <use xlink:href=\"#DejaVuSans-79\" x=\"815.417969\"/>\n      <use xlink:href=\"#DejaVuSans-20\" x=\"874.597656\"/>\n      <use xlink:href=\"#DejaVuSans-28\" x=\"906.384766\"/>\n      <use xlink:href=\"#DejaVuSans-78\" x=\"945.398438\"/>\n      <use xlink:href=\"#DejaVuSans-20\" x=\"1004.578125\"/>\n      <use xlink:href=\"#DejaVuSans-3d\" x=\"1036.365234\"/>\n      <use xlink:href=\"#DejaVuSans-20\" x=\"1120.154297\"/>\n      <use xlink:href=\"#DejaVuSans-31\" x=\"1151.941406\"/>\n      <use xlink:href=\"#DejaVuSans-29\" x=\"1215.564453\"/>\n     </g>\n    </g>\n   </g>\n  </g>\n </g>\n <defs>\n  <clipPath id=\"p4029df89ab\">\n   <rect x=\"48.982813\" y=\"22.318125\" width=\"446.4\" height=\"332.64\"/>\n  </clipPath>\n </defs>\n</svg>\n"
          },
          "metadata": {}
        }
      ]
    },
    {
      "cell_type": "markdown",
      "source": [
        "7. Find the gradient of the function\n",
        "   $f(\\mathbf{x}) = 3x_1^2 + 5e^{x_2}$.\n",
        "\n",
        "# Gradient of the Function $(f(\\mathbf{x}) = 3x_1^2 + 5e^{x_2})$\n",
        "\n",
        "To find the gradient of the function $(f(\\mathbf{x}) = 3x_1^2 + 5e^{x_2})$, we calculate the partial derivatives with respect to each variable, then combine them into a gradient vector.\n",
        "\n",
        "## Partial Derivatives\n",
        "\n",
        "The partial derivative with respect to $(x_1)$ is:\n",
        "\n",
        "$$\n",
        "\\frac{\\partial}{\\partial{x_1}}(3x_1^2 + 5e^{x_2}) = 6x_1\n",
        "$$\n",
        "\n",
        "The partial derivative with respect to $(x_2)$ is:\n",
        "\n",
        "$$\n",
        "\\frac{\\partial}{\\partial{x_2}}(3x_1^2 + 5e^{x_2}) = 5e^{x_2}\n",
        "$$\n",
        "\n",
        "## Gradient of the Function\n",
        "\n",
        "The gradient is a vector consisting of the partial derivatives with respect to each variable. Thus, the gradient of $(f(\\mathbf{x}) = 3x_1^2 + 5e^{x_2})$ is:\n",
        "\n",
        "$$\n",
        "\\nabla f(\\mathbf{x}) = \\begin{pmatrix}\n",
        "6x_1 \\\\\n",
        "5e^{x_2}\n",
        "\\end{pmatrix}\n",
        "$$"
      ],
      "metadata": {
        "id": "dXQURst9rj34"
      },
      "id": "dXQURst9rj34"
    },
    {
      "cell_type": "code",
      "source": [
        "# Define the symbols for the variables x1 and x2\n",
        "x1, x2 = sp.symbols('x1 x2')\n",
        "\n",
        "# Define the function f(x) = 3x1^2 + 5e^(x2)\n",
        "f = 3 * x1**2 + 5 * sp.exp(x2)\n",
        "\n",
        "# Calculate the gradient\n",
        "gradient = [sp.diff(f, x1), sp.diff(f, x2)]\n",
        "\n",
        "# Output the gradient\n",
        "gradient  # This should return [6*x1, 5*exp(x2)]"
      ],
      "metadata": {
        "id": "1FPKbViEDPXy",
        "outputId": "de1e007d-372d-4579-97bb-fdd37f44eac3",
        "colab": {
          "base_uri": "https://localhost:8080/"
        }
      },
      "id": "1FPKbViEDPXy",
      "execution_count": 13,
      "outputs": [
        {
          "output_type": "execute_result",
          "data": {
            "text/plain": [
              "[6*x1, 5*exp(x2)]"
            ]
          },
          "metadata": {},
          "execution_count": 13
        }
      ]
    },
    {
      "cell_type": "markdown",
      "source": [
        "8. What is the gradient of the function\n",
        "   $f(\\mathbf{x}) = \\|\\mathbf{x}\\|_2$? What happens for $\\mathbf{x} = \\mathbf{0}$?"
      ],
      "metadata": {
        "id": "36kkc3eCoc59"
      },
      "id": "36kkc3eCoc59"
    },
    {
      "cell_type": "markdown",
      "source": [
        "To determine the gradient of the function\n",
        "$ f(\\mathbf{x}) = |\\mathbf{x}|_2 $, let's first recall the definition of the $( \\ell_2 )$ norm:\n",
        "\n",
        "$$\n",
        "\\|\\mathbf{x}\\|_2 = \\sqrt{x_1^2 + x_2^2 + \\cdots + x_n^2}\n",
        "$$\n",
        "\n",
        "for a vector $(\\mathbf{x} = (x_1, x_2, \\ldots, x_n))$.\n",
        "\n",
        "The gradient of $ f(\\mathbf{x}) $ with respect to $\\mathbf{x}$ is given by:\n",
        "\n",
        "$$\n",
        "\\nabla f(\\mathbf{x}) = \\left( \\frac{\\partial f}{\\partial x_1}, \\frac{\\partial f}{\\partial x_2}, \\ldots, \\frac{\\partial f}{\\partial x_n} \\right)\n",
        "$$\n",
        "\n",
        "To find the partial derivatives, we use the chain rule. For each $ i $:\n",
        "\n",
        "$$\n",
        "\\frac{\\partial f}{\\partial x_i} = \\frac{\\partial}{\\partial x_i} \\sqrt{x_1^2 + x_2^2 + \\cdots + x_n^2} = \\frac{x_i}{\\sqrt{x_1^2 + x_2^2 + \\cdots + x_n^2}} = \\frac{x_i}{\\|\\mathbf{x}\\|_2}\n",
        "$$\n",
        "\n",
        "Therefore, the gradient of $ f(\\mathbf{x}) $ is:\n",
        "\n",
        "$$\n",
        "\\nabla f(\\mathbf{x}) = \\frac{\\mathbf{x}}{\\|\\mathbf{x}\\|_2}\n",
        "$$\n",
        "\n",
        "However, this expression is valid for $\\mathbf{x} \\neq \\mathbf{0}$. When $\\mathbf{x} = \\mathbf{0}$, $\\|\\mathbf{x}\\|_2 = 0$, and we cannot divide by zero. Thus, the gradient is not defined at $\\mathbf{0}$.\n",
        "\n",
        "In summary:\n",
        "\n",
        "$$\n",
        "\\nabla f(\\mathbf{x}) = \\begin{cases}\n",
        "\\frac{\\mathbf{x}}{\\|\\mathbf{x}\\|_2} & \\text{if } \\mathbf{x} \\neq \\mathbf{0}, \\\\\n",
        "\\text{undefined} & \\text{if } \\mathbf{x} = \\mathbf{0}.\n",
        "\\end{cases}\n",
        "$$\n"
      ],
      "metadata": {
        "id": "qLjcjSmj0df8"
      },
      "id": "qLjcjSmj0df8"
    },
    {
      "cell_type": "code",
      "source": [
        "import numpy as np\n",
        "\n",
        "def gradient_l2_norm(x):\n",
        "    norm_x = np.linalg.norm(x, 2)\n",
        "    if norm_x == 0:\n",
        "        return \"undefined\"\n",
        "    return x / norm_x\n",
        "\n",
        "# Test the function with a non-zero vector and zero vector\n",
        "x_non_zero = np.array([1.0, 2.0, 3.0])\n",
        "x_zero = np.array([0.0, 0.0, 0.0])\n",
        "\n",
        "gradient_non_zero = gradient_l2_norm(x_non_zero)\n",
        "gradient_zero = gradient_l2_norm(x_zero)\n",
        "\n",
        "gradient_non_zero, gradient_zero"
      ],
      "metadata": {
        "colab": {
          "base_uri": "https://localhost:8080/"
        },
        "id": "_rA-xYaC0c4c",
        "outputId": "0eea0ee8-5147-42d1-eae5-42a486ddd39a"
      },
      "id": "_rA-xYaC0c4c",
      "execution_count": 14,
      "outputs": [
        {
          "output_type": "execute_result",
          "data": {
            "text/plain": [
              "(array([0.26726124, 0.53452248, 0.80178373]), 'undefined')"
            ]
          },
          "metadata": {},
          "execution_count": 14
        }
      ]
    },
    {
      "cell_type": "code",
      "source": [],
      "metadata": {
        "id": "YVN6L9vE1_qZ"
      },
      "id": "YVN6L9vE1_qZ",
      "execution_count": null,
      "outputs": []
    },
    {
      "cell_type": "markdown",
      "id": "e6a8d8e9",
      "metadata": {
        "origin_pos": 25,
        "tab": [
          "pytorch"
        ],
        "id": "e6a8d8e9"
      },
      "source": [
        "[Discussions](https://discuss.d2l.ai/t/33)\n"
      ]
    }
  ],
  "metadata": {
    "kernelspec": {
      "display_name": "Python 3",
      "name": "python3"
    },
    "language_info": {
      "name": "python"
    },
    "required_libs": [],
    "colab": {
      "provenance": []
    }
  },
  "nbformat": 4,
  "nbformat_minor": 5
}